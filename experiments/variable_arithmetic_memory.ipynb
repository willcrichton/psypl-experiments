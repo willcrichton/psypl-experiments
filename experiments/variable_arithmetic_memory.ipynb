{
 "cells": [
  {
   "cell_type": "code",
   "execution_count": 1,
   "metadata": {
    "ExecuteTime": {
     "end_time": "2020-04-22T22:06:12.588552Z",
     "start_time": "2020-04-22T22:06:12.569849Z"
    }
   },
   "outputs": [],
   "source": [
    "%load_ext autoreload\n",
    "%autoreload 2"
   ]
  },
  {
   "cell_type": "code",
   "execution_count": 2,
   "metadata": {
    "ExecuteTime": {
     "end_time": "2020-04-22T22:06:13.666014Z",
     "start_time": "2020-04-22T22:06:12.590653Z"
    }
   },
   "outputs": [],
   "source": [
    "from model import *\n",
    "from pickle_cache import PickleCache\n",
    "import pandas as pd\n",
    "from experiment_widgets import VariableArithmeticMemoryExperiment\n",
    "import json\n",
    "from random import sample, randint, choices\n",
    "import string\n",
    "import matplotlib.pyplot as plt \n",
    "import seaborn as sns\n",
    "sns.set()\n",
    "\n",
    "pcache = PickleCache()"
   ]
  },
  {
   "cell_type": "code",
   "execution_count": 3,
   "metadata": {
    "ExecuteTime": {
     "end_time": "2020-04-22T22:06:13.697646Z",
     "start_time": "2020-04-22T22:06:13.668618Z"
    }
   },
   "outputs": [],
   "source": [
    "all_names = string.ascii_lowercase\n",
    "all_operators = ['+', '-']\n",
    "\n",
    "def generate_trial(N):\n",
    "    names = sample(all_names, k=N)\n",
    "    variables = [\n",
    "        {'variable': names[i], 'value': randint(1, 9)}\n",
    "        for i in range(N)\n",
    "    ]\n",
    "\n",
    "    expr_var_order = sample(variables, k=len(variables))\n",
    "    operators = choices(all_operators, k=N-1)\n",
    "    expr_list = []\n",
    "    expr_value = expr_var_order[0]['value']\n",
    "    for i in range(N):\n",
    "        if i > 0:\n",
    "            op = operators[i-1]\n",
    "            expr_value = eval(f\"{expr_value} {op} {expr_var_order[i]['value']}\")\n",
    "            expr_list.append(op)\n",
    "        expr_list.append(expr_var_order[i]['variable'])\n",
    "    expr = ' '.join(expr_list)\n",
    "    \n",
    "    return {\n",
    "        'variables': variables, \n",
    "        'expression': expr,\n",
    "        'expression_value': expr_value,\n",
    "        'presentation_time': 500 + N * 1500\n",
    "    }\n",
    "\n",
    "def exp_name(N_var, N_trials):\n",
    "    return f'vararithmem_{N_var}_{N_trials}'"
   ]
  },
  {
   "cell_type": "code",
   "execution_count": 4,
   "metadata": {
    "ExecuteTime": {
     "end_time": "2020-04-22T22:06:13.734824Z",
     "start_time": "2020-04-22T22:06:13.699826Z"
    },
    "scrolled": true
   },
   "outputs": [
    {
     "data": {
      "application/vnd.jupyter.widget-view+json": {
       "model_id": "9de4345ee4664a27b8811047c74cfd32",
       "version_major": 2,
       "version_minor": 0
      },
      "text/plain": [
       "VariableArithmeticMemoryExperiment(experiment='{\"trials\": [{\"variables\": [{\"variable\": \"d\", \"value\": 7}, {\"var…"
      ]
     },
     "metadata": {},
     "output_type": "display_data"
    }
   ],
   "source": [
    "N_var = 3\n",
    "N_trials = 10\n",
    "\n",
    "\n",
    "experiment = {\n",
    "    'trials': [generate_trial(N_var) for _ in range(N_trials)],\n",
    "    'between_trials_time': 1000\n",
    "}\n",
    "\n",
    "exp = VariableArithmeticMemoryExperiment(experiment=json.dumps(experiment), results='[]')\n",
    "\n",
    "def on_result_change(_):\n",
    "    pcache.set(exp_name(N_var, N_trials), {\n",
    "        'experiment': experiment,\n",
    "        'results': json.loads(exp.results)\n",
    "    })\n",
    "    \n",
    "#exp.observe(on_result_change)\n",
    "\n",
    "exp"
   ]
  },
  {
   "cell_type": "code",
   "execution_count": 5,
   "metadata": {
    "ExecuteTime": {
     "end_time": "2020-04-22T22:06:13.763970Z",
     "start_time": "2020-04-22T22:06:13.737293Z"
    }
   },
   "outputs": [],
   "source": [
    "def process_results(N_var, N_trials):\n",
    "    data = pcache.get(exp_name(N_var, N_trials))\n",
    "    experiment = data['experiment']\n",
    "    results = data['results']\n",
    "    \n",
    "    correct = 0\n",
    "    for (trial, result) in zip(experiment['trials'], results):\n",
    "        try:\n",
    "            response = int(result['response'])\n",
    "        except ValueError:\n",
    "            continue\n",
    "            \n",
    "        if trial['expression_value'] == response:\n",
    "            correct += 1\n",
    "\n",
    "    return {\n",
    "        'N_var': N_var,\n",
    "        'Correct': correct / N_trials,\n",
    "    }"
   ]
  },
  {
   "cell_type": "code",
   "execution_count": 6,
   "metadata": {
    "ExecuteTime": {
     "end_time": "2020-04-22T22:06:13.976912Z",
     "start_time": "2020-04-22T22:06:13.765871Z"
    }
   },
   "outputs": [
    {
     "data": {
      "text/plain": [
       "<matplotlib.axes._subplots.AxesSubplot at 0x1383c0150>"
      ]
     },
     "execution_count": 6,
     "metadata": {},
     "output_type": "execute_result"
    },
    {
     "data": {
      "image/png": "[encoded data removed]",
      "text/plain": [
       "<Figure size 432x288 with 1 Axes>"
      ]
     },
     "metadata": {},
     "output_type": "display_data"
    }
   ],
   "source": [
    "all_exp = [2, 3, 4, 5]\n",
    "results = pd.DataFrame([process_results(N_var, 10) for N_var in all_exp])\n",
    "\n",
    "def plot_results(results):\n",
    "    results = results.set_index('N_var')\n",
    "    ax = results.plot.bar()\n",
    "    ax.set_ylabel('Fraction of responses over 10 trials')\n",
    "    return ax\n",
    "\n",
    "    #plt.savefig('var_arith_mem.png', dpi=300)\n",
    "    \n",
    "plot_results(results)"
   ]
  },
  {
   "cell_type": "code",
   "execution_count": 10,
   "metadata": {
    "ExecuteTime": {
     "end_time": "2020-04-22T23:42:13.865533Z",
     "start_time": "2020-04-22T23:42:08.428101Z"
    }
   },
   "outputs": [
    {
     "data": {
      "text/plain": [
       "<matplotlib.axes._subplots.AxesSubplot at 0x13abd6f50>"
      ]
     },
     "execution_count": 10,
     "metadata": {},
     "output_type": "execute_result"
    },
    {
     "data": {
      "image/png": "[encoded data removed]",
      "text/plain": [
       "<Figure size 432x288 with 1 Axes>"
      ]
     },
     "metadata": {},
     "output_type": "display_data"
    }
   ],
   "source": [
    "def model(trial):\n",
    "    wm = WorkingMemory()\n",
    "    \n",
    "    for var in trial['variables']:\n",
    "        wm.store_var_val(var['variable'], var['value'])\n",
    "        \n",
    "    expr = parse(trial['expression']).statements[0].value\n",
    "    return trace_expr(expr, wm) == trial['expression_value']\n",
    "\n",
    "df = []\n",
    "for N_var in all_exp:\n",
    "    #data = pcache.get(exp_name(4, N_trials))\n",
    "    #trials = data['experiment']['trials']\n",
    "    trials = [generate_trial(N_var) for _ in range(1000)]\n",
    "    correct = 0\n",
    "    for trial in trials:\n",
    "        correct += 1 if model(trial) else 0\n",
    "    df.append({\n",
    "        'N_var': N_var,\n",
    "        'correct': correct / len(trials)\n",
    "    })\n",
    "plot_results(pd.DataFrame(df))"
   ]
  }
 ],
 "metadata": {
  "kernelspec": {
   "display_name": "Python 3",
   "language": "python",
   "name": "python3"
  },
  "language_info": {
   "codemirror_mode": {
    "name": "ipython",
    "version": 3
   },
   "file_extension": ".py",
   "mimetype": "text/x-python",
   "name": "python",
   "nbconvert_exporter": "python",
   "pygments_lexer": "ipython3",
   "version": "3.7.7"
  },
  "toc": {
   "base_numbering": 1,
   "nav_menu": {},
   "number_sections": true,
   "sideBar": true,
   "skip_h1_title": false,
   "title_cell": "Table of Contents",
   "title_sidebar": "Contents",
   "toc_cell": false,
   "toc_position": {},
   "toc_section_display": true,
   "toc_window_display": false
  },
  "varInspector": {
   "cols": {
    "lenName": 16,
    "lenType": 16,
    "lenVar": 40
   },
   "kernels_config": {
    "python": {
     "delete_cmd_postfix": "",
     "delete_cmd_prefix": "del ",
     "library": "var_list.py",
     "varRefreshCmd": "print(var_dic_list())"
    },
    "r": {
     "delete_cmd_postfix": ") ",
     "delete_cmd_prefix": "rm(",
     "library": "var_list.r",
     "varRefreshCmd": "cat(var_dic_list()) "
    }
   },
   "types_to_exclude": [
    "module",
    "function",
    "builtin_function_or_method",
    "instance",
    "_Feature"
   ],
   "window_display": false
  }
 },
 "nbformat": 4,
 "nbformat_minor": 4
}
