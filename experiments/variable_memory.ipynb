{
 "cells": [
  {
   "cell_type": "code",
   "execution_count": 1,
   "metadata": {
    "ExecuteTime": {
     "end_time": "2020-04-18T00:33:50.942879Z",
     "start_time": "2020-04-18T00:33:50.919065Z"
    }
   },
   "outputs": [],
   "source": [
    "%load_ext autoreload\n",
    "%autoreload 2"
   ]
  },
  {
   "cell_type": "code",
   "execution_count": 2,
   "metadata": {
    "ExecuteTime": {
     "end_time": "2020-04-18T00:33:52.105633Z",
     "start_time": "2020-04-18T00:33:50.945114Z"
    }
   },
   "outputs": [],
   "source": [
    "from model import *\n",
    "from pickle_cache import PickleCache\n",
    "import pandas as pd\n",
    "from  experiment_widgets import VariableMemoryExperiment\n",
    "import json\n",
    "from random import sample, randint\n",
    "import string\n",
    "import matplotlib.pyplot as plt \n",
    "import seaborn as sns\n",
    "sns.set()\n",
    "\n",
    "pcache = PickleCache()"
   ]
  },
  {
   "cell_type": "code",
   "execution_count": 3,
   "metadata": {
    "ExecuteTime": {
     "end_time": "2020-04-18T00:33:52.135618Z",
     "start_time": "2020-04-18T00:33:52.108234Z"
    }
   },
   "outputs": [],
   "source": [
    "all_names = string.ascii_lowercase\n",
    "\n",
    "def generate_trial(N):\n",
    "    names = sample(all_names, k=N)\n",
    "    return {'variables': [\n",
    "        {'variable': names[i], 'value': randint(0, 9)}\n",
    "        for i in range(N)\n",
    "    ], 'presentation_time': N * 1500}"
   ]
  },
  {
   "cell_type": "code",
   "execution_count": 4,
   "metadata": {
    "ExecuteTime": {
     "end_time": "2020-04-18T00:33:52.172594Z",
     "start_time": "2020-04-18T00:33:52.137745Z"
    },
    "scrolled": true
   },
   "outputs": [
    {
     "data": {
      "application/vnd.jupyter.widget-view+json": {
       "model_id": "0e5468ca04604cf588c20d5881b142fa",
       "version_major": 2,
       "version_minor": 0
      },
      "text/plain": [
       "VariableMemoryExperiment(experiment='{\"trials\": [{\"variables\": [{\"variable\": \"b\", \"value\": 8}, {\"variable\": \"c…"
      ]
     },
     "metadata": {},
     "output_type": "display_data"
    }
   ],
   "source": [
    "N_var = 2\n",
    "N_trials = 10\n",
    "\n",
    "def exp_name(N_var, N_trials):\n",
    "    return f'varmem_{N_var}_{N_trials}'\n",
    "\n",
    "experiment = {\n",
    "    'trials': [generate_trial(N_var) for _ in range(N_trials)],\n",
    "    'between_trials_time': 1000\n",
    "}\n",
    "\n",
    "exp = VariableMemoryExperiment(experiment=json.dumps(experiment), results='[]')\n",
    "\n",
    "def on_result_change(_):\n",
    "    pcache.set(exp_name(N_var, N_trials), {\n",
    "        'experiment': experiment,\n",
    "        'results': json.loads(exp.results)\n",
    "    })\n",
    "    \n",
    "#exp.observe(on_result_change)\n",
    "\n",
    "exp"
   ]
  },
  {
   "cell_type": "code",
   "execution_count": 5,
   "metadata": {
    "ExecuteTime": {
     "end_time": "2020-04-18T00:33:52.218009Z",
     "start_time": "2020-04-18T00:33:52.174344Z"
    }
   },
   "outputs": [],
   "source": [
    "def eval_response(N_var, experiment, results):\n",
    "    df = []\n",
    "    for i, (trial, result) in enumerate(zip(experiment['trials'], results)):\n",
    "        correct = 0\n",
    "        badvalue = 0\n",
    "        badname = 0\n",
    "        for j, var in enumerate(trial['variables']):\n",
    "            category = None\n",
    "            for var2 in result['response']:\n",
    "                if var['variable'] == var2['variable']:\n",
    "                    if var['value'] == int(var2['value']):\n",
    "                        correct += 1\n",
    "                    else:\n",
    "                        badvalue += 1\n",
    "                    break\n",
    "            else:\n",
    "                badname += 1\n",
    "\n",
    "        df.append({\n",
    "            'N_var': N_var,\n",
    "            'correct': correct,\n",
    "            'badvalue': badvalue,\n",
    "            'badname': badname\n",
    "        })\n",
    "\n",
    "    return pd.DataFrame(df)  \n",
    "\n",
    "def process_results(N_var, N_trials):\n",
    "    data = pcache.get(exp_name(N_var, N_trials))\n",
    "    experiment = data['experiment']\n",
    "    results = data['results']\n",
    "    return eval_response(N_var, experiment, results)"
   ]
  },
  {
   "cell_type": "code",
   "execution_count": 6,
   "metadata": {
    "ExecuteTime": {
     "end_time": "2020-04-18T00:33:52.257822Z",
     "start_time": "2020-04-18T00:33:52.220786Z"
    }
   },
   "outputs": [],
   "source": [
    "all_exp = [3, 4, 5, 6]\n",
    "results = pd.concat([process_results(N_var, 10) for N_var in all_exp])"
   ]
  },
  {
   "cell_type": "code",
   "execution_count": 7,
   "metadata": {
    "ExecuteTime": {
     "end_time": "2020-04-18T00:33:52.441161Z",
     "start_time": "2020-04-18T00:33:52.260140Z"
    }
   },
   "outputs": [
    {
     "data": {
      "text/plain": [
       "[<matplotlib.axis.YTick at 0x12e665690>,\n",
       " <matplotlib.axis.YTick at 0x13d26bf90>,\n",
       " <matplotlib.axis.YTick at 0x13d263310>,\n",
       " <matplotlib.axis.YTick at 0x13d2c5890>,\n",
       " <matplotlib.axis.YTick at 0x13d2c5d50>]"
      ]
     },
     "execution_count": 7,
     "metadata": {},
     "output_type": "execute_result"
    },
    {
     "data": {
      "image/png": "[encoded data removed]",
      "text/plain": [
       "<Figure size 432x288 with 1 Axes>"
      ]
     },
     "metadata": {},
     "output_type": "display_data"
    }
   ],
   "source": [
    "ax = sns.swarmplot(data=results, x='N_var', y='correct')\n",
    "ax.set_yticks(list(range(1, 6)))"
   ]
  },
  {
   "cell_type": "code",
   "execution_count": 178,
   "metadata": {
    "ExecuteTime": {
     "end_time": "2020-04-18T01:05:57.029699Z",
     "start_time": "2020-04-18T01:05:56.839033Z"
    }
   },
   "outputs": [
    {
     "data": {
      "text/plain": [
       "[<matplotlib.axis.YTick at 0x1419d2bd0>,\n",
       " <matplotlib.axis.YTick at 0x1419ce710>,\n",
       " <matplotlib.axis.YTick at 0x1419d2510>,\n",
       " <matplotlib.axis.YTick at 0x141a88190>,\n",
       " <matplotlib.axis.YTick at 0x141a88750>]"
      ]
     },
     "execution_count": 178,
     "metadata": {},
     "output_type": "execute_result"
    },
    {
     "data": {
      "image/png": "[encoded data removed]",
      "text/plain": [
       "<Figure size 432x288 with 1 Axes>"
      ]
     },
     "metadata": {},
     "output_type": "display_data"
    }
   ],
   "source": [
    "def model(variables):\n",
    "    wm = WorkingMemory()\n",
    "    \n",
    "    for var in variables:\n",
    "        wm.store_var_val(var['variable'], var['value'])\n",
    "\n",
    "    response = []\n",
    "    for var in variables:\n",
    "        val = wm.fetch_var(var['variable'])\n",
    "        if val is not None:\n",
    "            response.append({'variable': var['variable'], 'value': val})\n",
    "                        \n",
    "    return response\n",
    "        \n",
    "def simulate_trials(N_var, N_trials):\n",
    "    #data = pcache.get(exp_name(N_var, N_trials))\n",
    "    #experiment = data['experiment']\n",
    "    experiment = {\n",
    "        'trials': [generate_trial(N_var) for _ in range(N_trials)]\n",
    "    }\n",
    "    \n",
    "    response = [\n",
    "        {'response': model(trial['variables'])} for trial in experiment['trials']\n",
    "    ]\n",
    "\n",
    "    return eval_response(N_var, experiment, response)\n",
    "\n",
    "sim_results = pd.concat([simulate_trials(N_var, 10) for N_var in all_exp])\n",
    "ax = sns.swarmplot(data=sim_results, x='N_var', y='correct')\n",
    "ax.set_yticks(list(range(1, 6)))"
   ]
  }
 ],
 "metadata": {
  "kernelspec": {
   "display_name": "Python 3",
   "language": "python",
   "name": "python3"
  },
  "language_info": {
   "codemirror_mode": {
    "name": "ipython",
    "version": 3
   },
   "file_extension": ".py",
   "mimetype": "text/x-python",
   "name": "python",
   "nbconvert_exporter": "python",
   "pygments_lexer": "ipython3",
   "version": "3.7.7"
  },
  "toc": {
   "base_numbering": 1,
   "nav_menu": {},
   "number_sections": true,
   "sideBar": true,
   "skip_h1_title": false,
   "title_cell": "Table of Contents",
   "title_sidebar": "Contents",
   "toc_cell": false,
   "toc_position": {},
   "toc_section_display": true,
   "toc_window_display": false
  },
  "varInspector": {
   "cols": {
    "lenName": 16,
    "lenType": 16,
    "lenVar": 40
   },
   "kernels_config": {
    "python": {
     "delete_cmd_postfix": "",
     "delete_cmd_prefix": "del ",
     "library": "var_list.py",
     "varRefreshCmd": "print(var_dic_list())"
    },
    "r": {
     "delete_cmd_postfix": ") ",
     "delete_cmd_prefix": "rm(",
     "library": "var_list.r",
     "varRefreshCmd": "cat(var_dic_list()) "
    }
   },
   "types_to_exclude": [
    "module",
    "function",
    "builtin_function_or_method",
    "instance",
    "_Feature"
   ],
   "window_display": false
  }
 },
 "nbformat": 4,
 "nbformat_minor": 4
}
