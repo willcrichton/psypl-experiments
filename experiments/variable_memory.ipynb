{
 "cells": [
  {
   "cell_type": "code",
   "execution_count": 1,
   "metadata": {
    "ExecuteTime": {
     "end_time": "2020-04-22T22:05:14.218425Z",
     "start_time": "2020-04-22T22:05:12.068595Z"
    }
   },
   "outputs": [],
   "source": [
    "%load_ext autoreload\n",
    "%autoreload 2\n",
    "from model import *\n",
    "from pickle_cache import PickleCache\n",
    "import pandas as pd\n",
    "from  experiment_widgets import VariableMemoryExperiment\n",
    "import json\n",
    "from random import sample, randint\n",
    "import string\n",
    "import matplotlib.pyplot as plt \n",
    "import seaborn as sns\n",
    "import inspect\n",
    "sns.set()\n",
    "pcache = PickleCache()"
   ]
  },
  {
   "cell_type": "code",
   "execution_count": 2,
   "metadata": {
    "ExecuteTime": {
     "end_time": "2020-04-22T22:05:14.248771Z",
     "start_time": "2020-04-22T22:05:14.221312Z"
    }
   },
   "outputs": [],
   "source": [
    "all_names = string.ascii_lowercase\n",
    "\n",
    "def generate_trial(N):\n",
    "    names = sample(all_names, k=N)\n",
    "    return {'variables': [\n",
    "        {'variable': names[i], 'value': randint(0, 9)}\n",
    "        for i in range(N)\n",
    "    ], 'presentation_time': N * 1500}"
   ]
  },
  {
   "cell_type": "code",
   "execution_count": 3,
   "metadata": {
    "ExecuteTime": {
     "end_time": "2020-04-22T22:05:14.287298Z",
     "start_time": "2020-04-22T22:05:14.251477Z"
    },
    "scrolled": true
   },
   "outputs": [
    {
     "data": {
      "application/vnd.jupyter.widget-view+json": {
       "model_id": "f4509a8f84994800b0ef009f5b77d884",
       "version_major": 2,
       "version_minor": 0
      },
      "text/plain": [
       "VariableMemoryExperiment(experiment='{\"trials\": [{\"variables\": [{\"variable\": \"i\", \"value\": 8}, {\"variable\": \"d…"
      ]
     },
     "metadata": {},
     "output_type": "display_data"
    }
   ],
   "source": [
    "N_var = 4\n",
    "N_trials = 10\n",
    "\n",
    "def exp_name(N_var, N_trials):\n",
    "    return f'varmem_{N_var}_{N_trials}'\n",
    "\n",
    "experiment = {\n",
    "    'trials': [generate_trial(N_var) for _ in range(N_trials)],\n",
    "    'between_trials_time': 1000\n",
    "}\n",
    "\n",
    "exp = VariableMemoryExperiment(experiment=json.dumps(experiment), results='[]')\n",
    "\n",
    "def on_result_change(_):\n",
    "    pcache.set(exp_name(N_var, N_trials), {\n",
    "        'experiment': experiment,\n",
    "        'results': json.loads(exp.results)\n",
    "    })\n",
    "    \n",
    "#exp.observe(on_result_change)\n",
    "exp"
   ]
  },
  {
   "cell_type": "code",
   "execution_count": 4,
   "metadata": {
    "ExecuteTime": {
     "end_time": "2020-04-22T22:05:14.320881Z",
     "start_time": "2020-04-22T22:05:14.290546Z"
    }
   },
   "outputs": [],
   "source": [
    "def eval_response(N_var, experiment, results):\n",
    "    df = []\n",
    "    for i, (trial, result) in enumerate(zip(experiment['trials'], results)):\n",
    "        correct = 0\n",
    "        badvalue = 0\n",
    "        badname = 0\n",
    "        for j, var in enumerate(trial['variables']):\n",
    "            category = None\n",
    "            for var2 in result['response']:\n",
    "                if var['variable'] == var2['variable']:\n",
    "                    if var['value'] == int(var2['value']):\n",
    "                        correct += 1\n",
    "                    else:\n",
    "                        badvalue += 1\n",
    "                    break\n",
    "            else:\n",
    "                badname += 1\n",
    "\n",
    "        df.append({\n",
    "            'N_var': N_var,\n",
    "            'correct': correct,\n",
    "            'badvalue': badvalue,\n",
    "            'badname': badname\n",
    "        })\n",
    "\n",
    "    return pd.DataFrame(df)  \n",
    "\n",
    "def process_results(N_var, N_trials):\n",
    "    data = pcache.get(exp_name(N_var, N_trials))\n",
    "    experiment = data['experiment']\n",
    "    results = data['results']\n",
    "    return eval_response(N_var, experiment, results)"
   ]
  },
  {
   "cell_type": "code",
   "execution_count": 5,
   "metadata": {
    "ExecuteTime": {
     "end_time": "2020-04-22T22:05:14.357520Z",
     "start_time": "2020-04-22T22:05:14.323075Z"
    }
   },
   "outputs": [],
   "source": [
    "all_exp = [3, 4, 5, 6]\n",
    "results = pd.concat([process_results(N_var, 10) for N_var in all_exp])"
   ]
  },
  {
   "cell_type": "code",
   "execution_count": 6,
   "metadata": {
    "ExecuteTime": {
     "end_time": "2020-04-22T22:05:14.535396Z",
     "start_time": "2020-04-22T22:05:14.359149Z"
    }
   },
   "outputs": [
    {
     "data": {
      "text/plain": [
       "[<matplotlib.axis.YTick at 0x13a23c8d0>,\n",
       " <matplotlib.axis.YTick at 0x13a23c110>,\n",
       " <matplotlib.axis.YTick at 0x13a224390>,\n",
       " <matplotlib.axis.YTick at 0x13a298a50>,\n",
       " <matplotlib.axis.YTick at 0x13a298f10>]"
      ]
     },
     "execution_count": 6,
     "metadata": {},
     "output_type": "execute_result"
    },
    {
     "data": {
      "image/png": "[encoded data removed]",
      "text/plain": [
       "<Figure size 432x288 with 1 Axes>"
      ]
     },
     "metadata": {},
     "output_type": "display_data"
    }
   ],
   "source": [
    "ax = sns.swarmplot(data=results, x='N_var', y='correct')\n",
    "ax.set_yticks(list(range(1, 6)))"
   ]
  },
  {
   "cell_type": "code",
   "execution_count": 10,
   "metadata": {
    "ExecuteTime": {
     "end_time": "2020-04-22T22:06:02.858070Z",
     "start_time": "2020-04-22T22:06:00.787518Z"
    }
   },
   "outputs": [
    {
     "data": {
      "text/plain": [
       "[<matplotlib.axis.YTick at 0x13a5ee090>,\n",
       " <matplotlib.axis.YTick at 0x13a4e6e10>,\n",
       " <matplotlib.axis.YTick at 0x13a4349d0>,\n",
       " <matplotlib.axis.YTick at 0x13a6d8cd0>,\n",
       " <matplotlib.axis.YTick at 0x13a6e20d0>]"
      ]
     },
     "execution_count": 10,
     "metadata": {},
     "output_type": "execute_result"
    },
    {
     "data": {
      "image/png": "[encoded data removed]",
      "text/plain": [
       "<Figure size 432x288 with 1 Axes>"
      ]
     },
     "metadata": {},
     "output_type": "display_data"
    }
   ],
   "source": [
    "def model(variables):\n",
    "    wm = WorkingMemory()\n",
    "    \n",
    "    for var in variables:\n",
    "        wm.store_var_val(var['variable'], var['value'])\n",
    "\n",
    "    response = []\n",
    "    for var in variables:\n",
    "        val = wm.fetch_var(var['variable'])\n",
    "        if val is not None:\n",
    "            response.append({'variable': var['variable'], 'value': val})\n",
    "                        \n",
    "    return response\n",
    "        \n",
    "def simulate_trials(N_var, N_trials):\n",
    "    #data = pcache.get(exp_name(N_var, N_trials))\n",
    "    #experiment = data['experiment']\n",
    "    experiment = {\n",
    "        'trials': [generate_trial(N_var) for _ in range(N_trials)]\n",
    "    }\n",
    "    \n",
    "    response = [\n",
    "        {'response': model(trial['variables'])} for trial in experiment['trials']\n",
    "    ]\n",
    "\n",
    "    return eval_response(N_var, experiment, response)\n",
    "\n",
    "sim_results = pd.concat([simulate_trials(N_var, 1000) for N_var in all_exp])\n",
    "ax = sns.violinplot(data=sim_results, x='N_var', y='correct')\n",
    "ax.set_yticks(list(range(1, 6)))"
   ]
  }
 ],
 "metadata": {
  "kernelspec": {
   "display_name": "Python 3",
   "language": "python",
   "name": "python3"
  },
  "language_info": {
   "codemirror_mode": {
    "name": "ipython",
    "version": 3
   },
   "file_extension": ".py",
   "mimetype": "text/x-python",
   "name": "python",
   "nbconvert_exporter": "python",
   "pygments_lexer": "ipython3",
   "version": "3.7.7"
  },
  "toc": {
   "base_numbering": 1,
   "nav_menu": {},
   "number_sections": true,
   "sideBar": true,
   "skip_h1_title": false,
   "title_cell": "Table of Contents",
   "title_sidebar": "Contents",
   "toc_cell": false,
   "toc_position": {},
   "toc_section_display": true,
   "toc_window_display": false
  },
  "varInspector": {
   "cols": {
    "lenName": 16,
    "lenType": 16,
    "lenVar": 40
   },
   "kernels_config": {
    "python": {
     "delete_cmd_postfix": "",
     "delete_cmd_prefix": "del ",
     "library": "var_list.py",
     "varRefreshCmd": "print(var_dic_list())"
    },
    "r": {
     "delete_cmd_postfix": ") ",
     "delete_cmd_prefix": "rm(",
     "library": "var_list.r",
     "varRefreshCmd": "cat(var_dic_list()) "
    }
   },
   "types_to_exclude": [
    "module",
    "function",
    "builtin_function_or_method",
    "instance",
    "_Feature"
   ],
   "window_display": false
  }
 },
 "nbformat": 4,
 "nbformat_minor": 4
}
