{
 "cells": [
  {
   "cell_type": "code",
   "execution_count": 16,
   "metadata": {
    "ExecuteTime": {
     "end_time": "2020-06-22T22:41:36.112999Z",
     "start_time": "2020-06-22T22:41:36.068506Z"
    }
   },
   "outputs": [
    {
     "name": "stdout",
     "output_type": "stream",
     "text": [
      "The autoreload extension is already loaded. To reload it, use:\n",
      "  %reload_ext autoreload\n"
     ]
    }
   ],
   "source": [
    "%load_ext autoreload\n",
    "%autoreload 2\n",
    "from utils import *\n",
    "from numpy import median\n",
    "from scipy.stats import median_test, f_oneway\n",
    "palette = sns.color_palette()\n",
    "sns.set(rc={'figure.figsize':(8, 5)})"
   ]
  },
  {
   "cell_type": "markdown",
   "metadata": {},
   "source": [
    "# The Effects of Working Memory on Program Tracing\n",
    "\n",
    "In this series of experiments, my goal is to understand how working memory affects our ability to mentally trace through a simple program. We are going to analyze the language of *arithmetic programs*, i.e. those containing numbers, binary operators, variables with assignment, and functions. Here's an example program demonstrating the full range of language features."
   ]
  },
  {
   "cell_type": "code",
   "execution_count": 17,
   "metadata": {
    "ExecuteTime": {
     "end_time": "2020-06-22T22:41:36.998335Z",
     "start_time": "2020-06-22T22:41:36.965321Z"
    }
   },
   "outputs": [
    {
     "data": {
      "text/plain": [
       "-5"
      ]
     },
     "execution_count": 17,
     "metadata": {},
     "output_type": "execute_result"
    }
   ],
   "source": [
    "def f(x):\n",
    "    y = x + 1\n",
    "    return y + x\n",
    "\n",
    "def g(z, q):\n",
    "    return f(z - q)\n",
    "\n",
    "g(1, 4)"
   ]
  },
  {
   "cell_type": "markdown",
   "metadata": {},
   "source": [
    "We will focus on the task of mentally computing the output of the function without use of external aids (pen/paper, calculator, etc.) except for the program listing. To focus on working memory, all arithmetic will be addition and subtraction, with all literals in the range 1-9.  The goal is to identify kinds of programs that stress working memory, and to understand the size of the effect on accuracy, response time, and other measures."
   ]
  },
  {
   "cell_type": "markdown",
   "metadata": {},
   "source": [
    "# 1. Variables\n",
    "\n",
    "When tracing an arithmetic program, I hypothesize there are two main kinds of working memory load:\n",
    "1. Things to remember: any kind of program state that needs to be tracked, e.g. variables and their values, and the order of functions on a call stack.\n",
    "2. Interference: mental operations that induce forgetting of things to remember, e.g. searching for a function may cause one to forget variables in working memory\n",
    "\n",
    "The simplest kind of program state in our programming model are variables. In the worst case, a person theoretically needs to remember three things about a variable:\n",
    "* The name (e.g. `x`)\n",
    "* The value (e.g. `1`)\n",
    "* The association between the two (e.g. `x = 1`)\n",
    "\n",
    "In this way, variables represent a form of _paired-associate_ learning. When used in the context of program tracing, e.g. `x = 1; y = x + 1`, a variable lookup (\"what is the value of `x`?\") is a form of _cued recall_.\n",
    "\n",
    "A basic first question: if a person does nothing but just remember variables, how many can they remember? Assuming the standard model that working memory has 4±1 chunks, we would assume a person can remember about 4 variables/value pairs if they are chunked together.\n",
    "\n",
    "## 1.1 Experiment 1: Variable free recall\n",
    "\n",
    "To test this hypothesis, I first did a free recall experiment. The participant was shown $N_{var}$ variable/value bindings (e.g. `x = 1; y = 8; ...`), where each variable was randomly chozen from A to Z, and each value is 1 to 9. After being presented these bindings for $1.5*N_{var}$ seconds, then the participant was prompted to immediately recall as many pairs as they could in any order. The experiment was run for 10 trials per value of $N_{var}$. Below, I plot the number of correctly remembered pairs per trial at each $N_{var}$. Each dot represents a single trial."
   ]
  },
  {
   "cell_type": "code",
   "execution_count": 18,
   "metadata": {
    "ExecuteTime": {
     "end_time": "2020-06-22T22:41:38.605495Z",
     "start_time": "2020-06-22T22:41:38.356076Z"
    }
   },
   "outputs": [
    {
     "data": {
      "image/png": "[encoded data removed]",
      "text/plain": [
       "<Figure size 576x360 with 1 Axes>"
      ]
     },
     "metadata": {},
     "output_type": "display_data"
    }
   ],
   "source": [
    "exp1 = VariableSpanExperiment()\n",
    "ax = sns.swarmplot(data=exp1.results(), x='N_var', y='correct', palette=palette[1:])\n",
    "_ = ax.set_yticks(list(range(0, 7)))"
   ]
  },
  {
   "cell_type": "markdown",
   "metadata": {},
   "source": [
    "Consistent with the hypothesis, the participant could only remember about 4 variables perfectly. Trying to remember more than 4 variables causes worse performance than doing 4 or 3. This decrease in performance could potentially be explained by interference: in trying to remember so many bindings, each binding individually was less likely to be maintained."
   ]
  },
  {
   "cell_type": "markdown",
   "metadata": {},
   "source": [
    "## 1.2 Experiment 2: Variable cued recall\n",
    "\n",
    "To confirm these findings in a slightly more realistic setting, I did the same experiment, except instead of asking for all $N_{var}$ variables and values, I provided two randomly selected variable names as prompts. The participant then input the corresponding values for those variables. \n",
    "\n",
    "From the prior experiment, we would predict e.g. that for $N_{var} = 6$, the participant can remember on average 2 to 3 bindings. Given 2 randomly selected variables, the probability of knowing at least one is $1 - \\left(\\frac{6-2.5}{6}\\right)^2 = 0.65$.\n",
    "\n",
    "The mean number of variables remembered per trial is shown below:"
   ]
  },
  {
   "cell_type": "code",
   "execution_count": 19,
   "metadata": {
    "ExecuteTime": {
     "end_time": "2020-06-22T22:41:42.623583Z",
     "start_time": "2020-06-22T22:41:42.334592Z"
    }
   },
   "outputs": [
    {
     "data": {
      "image/png": "[encoded data removed]",
      "text/plain": [
       "<Figure size 576x360 with 1 Axes>"
      ]
     },
     "metadata": {},
     "output_type": "display_data"
    }
   ],
   "source": [
    "exp2 = VariableCuedRecallExperiment()\n",
    "_ = sns.barplot(data=exp2.results(), x='N_var', y='correct', palette=palette[1:])"
   ]
  },
  {
   "cell_type": "markdown",
   "metadata": {},
   "source": [
    "This data appears to be consistent with the prior, despite the slight change in task. Use of cues vs. free recall did not significantly affect accuracy."
   ]
  },
  {
   "cell_type": "markdown",
   "metadata": {},
   "source": [
    "## 1.3 Experiment 3: Variable with single arithmetic expression\n",
    "\n",
    "Next, we consider how mental operations can interfere with variable bindings in working memory. Like before, we use the same experimental setup of showing $N_{var}$ variable bindings to the participant. Then the variables are removed, and a new screen is shown with a randomly generated arithmetic expression, e.g.\n",
    "\n",
    "```python\n",
    "y - z + x\n",
    "```\n",
    "\n",
    "The particpant is then prompted for the numeric answer with no time limit.\n",
    "\n",
    "We assume the participant produces a correct response if they correctly remember all $N_{var}$ variables. Under the null hypothesis that the arithmetic introduces no interference, the mean correct number of trials should match the mean number of trials with all $N_{var}$ variables remembered in experiment 1. Results are shown below (note the axis shift, N ranges 2 to 5 here)."
   ]
  },
  {
   "cell_type": "code",
   "execution_count": 20,
   "metadata": {
    "ExecuteTime": {
     "end_time": "2020-06-22T22:41:44.622181Z",
     "start_time": "2020-06-22T22:41:44.341010Z"
    }
   },
   "outputs": [
    {
     "data": {
      "image/png": "[encoded data removed]",
      "text/plain": [
       "<Figure size 576x360 with 1 Axes>"
      ]
     },
     "metadata": {},
     "output_type": "display_data"
    }
   ],
   "source": [
    "exp3 = VariableArithmeticExperiment()\n",
    "_ = sns.barplot(data=exp3.results(), x='N_var', y='correct', palette=palette)"
   ]
  },
  {
   "cell_type": "markdown",
   "metadata": {},
   "source": [
    "Consistent with the null hypothesis, the mean correctness is about the same as experiment 1 (e.g. ~70% at N=4 in E1 vs. ~80% at N=4 in E3). This suggests that a single arithmetic operation does not introduce substantial interference in variable bindings within working memory."
   ]
  },
  {
   "cell_type": "markdown",
   "metadata": {},
   "source": [
    "## 1.4 Experiment 4: Multi-stage variable/arithmetic procedures\n",
    "\n",
    "A more realistic kind of program is one that interleaves variable assignment and computation, i.e. a multi-stage procedure with intermediates that need to be remembered for later stages. Specifically, we consider performing an arithmetic operation before each variable binding. The key question is: does this produce noticeable interference, i.e. reduce working memory capacity beyond the pure-memorization limit?\n",
    "\n",
    "For this experiment, in each trial, the participant follows a randomly generated series of arithmetic statements of the form `var = left binop right`. The 0-th stage is always a constant assignment `var = constant`. Following this, the operands are randomly assigned to be either a random prior variable or a constant. \n",
    "\n",
    "The participant is shown one stage at a time. At each stage, the participant is prompted to input the value of the variable, e.g. if `x = 3 + y` is shown and previously `y = 4`, then the participant should enter `7`. After entering a value, if it is correct, the next stage is shown after 1sec. If it is incorrect, the trial is over, and the participant goes to the next trial.\n",
    "\n",
    "At stage $i$, the participant has seen $i-1$ variables bindings. As with the cued recall experiment, on a given stage, the participant needs to recall up to 2 values when prompted with the corresponding variables. To make a prediction for this experiment, let's look at the fraction of trials where both variables were perfectly remembered in cued recall:"
   ]
  },
  {
   "cell_type": "code",
   "execution_count": 21,
   "metadata": {
    "ExecuteTime": {
     "end_time": "2020-06-22T22:41:46.108410Z",
     "start_time": "2020-06-22T22:41:45.825415Z"
    }
   },
   "outputs": [
    {
     "data": {
      "image/png": "[encoded data removed]",
      "text/plain": [
       "<Figure size 576x360 with 1 Axes>"
      ]
     },
     "metadata": {},
     "output_type": "display_data"
    }
   ],
   "source": [
    "df = exp2.results()\n",
    "df['perfect'] = df['correct'] == 2\n",
    "ax = sns.barplot(data=df, x='N_var', y='perfect', palette=palette[1:])\n",
    "_ = ax.set_title('Cued recall perfect accuracy')"
   ]
  },
  {
   "cell_type": "markdown",
   "metadata": {},
   "source": [
    "Given this data, under the null hypothesis of zero interference from arithmetic, we would expect that <10% of the mistakes occur at stage 4, ~30% of the mistakes occur at stage 5, and most of the remaining mistakes occur at stage 6.\n",
    "\n",
    "To test this prediction, we ran the multi-stage experiment for 20 trials. The histogram and cumulative distribution of mistakes by stage are shown below:"
   ]
  },
  {
   "cell_type": "code",
   "execution_count": 22,
   "metadata": {
    "ExecuteTime": {
     "end_time": "2020-06-22T22:41:47.870344Z",
     "start_time": "2020-06-22T22:41:47.343054Z"
    }
   },
   "outputs": [
    {
     "data": {
      "text/plain": [
       "<matplotlib.axes._subplots.AxesSubplot at 0x1289b83d0>"
      ]
     },
     "execution_count": 22,
     "metadata": {},
     "output_type": "execute_result"
    },
    {
     "data": {
      "image/png": "[encoded data removed]",
      "text/plain": [
       "<Figure size 1080x360 with 2 Axes>"
      ]
     },
     "metadata": {},
     "output_type": "display_data"
    }
   ],
   "source": [
    "exp4 = VariableSequenceExperiment()\n",
    "_, (ax1, ax2) = plt.subplots(1, 2, figsize=(15, 5))\n",
    "\n",
    "# PDF\n",
    "ax1.set_title('Histogram of errors by stage')\n",
    "bins = np.arange(0.5, 7.5)\n",
    "sns.distplot(ax=ax1, a=exp4.results().stage, kde=False, bins=bins)\n",
    "\n",
    "# CDF \n",
    "ax2.set_title('CDF of errors by stage')\n",
    "kwargs = {'cumulative': True}\n",
    "sns.distplot(ax=ax2, a=exp4.results().stage, kde=False, norm_hist=True, hist_kws=kwargs, bins=bins)"
   ]
  },
  {
   "cell_type": "markdown",
   "metadata": {},
   "source": [
    "Contrary to the null hypothesis, these results suggest that the vast majority of mistakes (~90%) are made before stage 6. From this, we conclude that the participant is performing worse than purely memorizing some number of variable bindings.\n",
    "\n",
    "There are two potential explanations:\n",
    "\n",
    "1. Interference from arithmetic: doing repeated computation in between memory I/O causes forgetting because computation involves memory resources that compete with storage for variables.\n",
    "2. Decay over time: doing computation in between memory I/O causes reads to become more spaced out in time from the writes. "
   ]
  },
  {
   "cell_type": "markdown",
   "metadata": {},
   "source": [
    "## 1.5 Summary of variable experiments\n",
    "\n",
    "Here's a brief summary of conclusions from the experiments above.\n",
    "\n",
    "1. Given unrelated variable/value pairs, the participant could only remember about 4 of them at a time. This effect was consistent across free and cued recall.\n",
    "2. A single arithmetic operation involving remembered variables did not produce memory interference. Multiple interleaved arithmetic operations did produce substantial interference."
   ]
  },
  {
   "cell_type": "markdown",
   "metadata": {},
   "source": [
    "# 2. Function calls\n",
    "\n",
    "Next, we consider the cognitive load of function calls on working memory. Consider, for instance, these two equivalent programs:\n",
    "\n",
    "Program 1:\n",
    "```python\n",
    "x = 1 \n",
    "y = x - 4\n",
    "z = y - x\n",
    "```\n",
    "\n",
    "Program 2:\n",
    "```python\n",
    "def h(a, b):\n",
    "    return b - a\n",
    "def q():\n",
    "    return 1\n",
    "def r(f):\n",
    "    return f - 4\n",
    "\n",
    "x = q()\n",
    "y = r(x)\n",
    "z = h(x, y)\n",
    "```\n",
    "\n",
    "The main question of inquiry: is the second program cognitively harder to trace, and if so, in what ways? There are a number of possible effects to consider:\n",
    "\n",
    "1. **More syntax**: functions provide more characters to read/parse, which induces low-level comprehension overhead.<br /><br />\n",
    "2. **Matching names to functions**: the person tracing must either memorize the name and body of a function (unlikely, in my experience) or lookup the function on-demand when it's called. This requires a search process (e.g. given a call `r(x)`, where is the definition of `r`?) which could interfere with working memory. This search could be harder depending on the source order of the function definitions relative to their usage.<br /><br />\n",
    "3. **Matching call-site arguments to definition-site arguments**: in `h(x, y)`, the tracer needs to recognize/remember the association `a = x` and `b = y`. This could involve a careful perception process (matching the i-th call arg to i-th def arg as needed) or a memory process (adding K variable bindings to memory). This matching could be harder depending on the variable names (e.g. `def h(x, y)` would hypothetically be easier) and the order of variables (e.g. if order is `def h(a, b)`, is it easier when variables are used in definition order like `a - b` or out-of-order like `b - a`?)"
   ]
  },
  {
   "cell_type": "markdown",
   "metadata": {},
   "source": [
    "## 2.1 Experiment 5: Straight-line code vs. function calls\n",
    "\n",
    "To evaluate the three effects mentioned, we can start by comparing code with functions to code without functions. Specifically, the experiment here is as follows. For a given number of variables $N_{var}$, generate a program of this form:\n",
    "\n",
    "```\n",
    "var1 = C1\n",
    "var2 = var1 binop C2\n",
    "var3 = var(1|2) binop var(1|2)\n",
    "...\n",
    "```\n",
    "\n",
    "Let's consider the example at the beginning of the section.\n",
    "\n",
    "```python\n",
    "x = 1 \n",
    "y = x - 4\n",
    "z = y - x\n",
    "```\n",
    "\n",
    "We will consider four conditions for presenting this program. First, no-functions, exactly as presented. Only variables.\n",
    "\n",
    "Second, simple functions. Here, the order of the function definitions is the same as order of use. The names of the function arguments are the same as the names of the call-site variables. The function arguments are declared in their order of usage within the function.\n",
    "\n",
    "```python\n",
    "def f():\n",
    "    return 1\n",
    "def q(x):\n",
    "    return x - 4\n",
    "def w(y, x):\n",
    "    return y - x\n",
    "\n",
    "x = f()\n",
    "y = q(x)\n",
    "z = w(y, x)\n",
    "```\n",
    "\n",
    "This condition should introduce just effects (1) and (2), adding more syntax and requiring search for functions. Because the variables and parameters are identically named, aligning arguments should not be an issue.\n",
    "\n",
    "The next condition randomly renames the function arguments, introducing the cognitive load of alignment (effect 3). For example:\n",
    "\n",
    "```python\n",
    "def f():\n",
    "    return 1\n",
    "def q(a):\n",
    "    return a - 4\n",
    "def w(u, r):\n",
    "    return u - r\n",
    "\n",
    "x = f()\n",
    "y = q(x)\n",
    "z = w(y, x)\n",
    "```\n",
    "\n",
    "The final condition reorders the function arguments with respect to their usage. For example, `def w(r, u)` instead of `def w(u, r)` in the previous program. This hypothetically increases the cognitive load of searching for a function call.\n",
    "\n",
    "More like a traditional comprehension setting, we do not impose any arbitrary memory restrictions (e.g. memorize these variables before continuing). Rather, the participant is presented the entire program and asked to trace its final value. We then evaluate the response time and accuracy of the response.\n",
    "\n",
    "We hypothesize that the four conditions should have increasing difficulty in the order presented, corresponding to increased response times.\n",
    "\n",
    "\n",
    "For $N_{var} = 2, 3, 4$, the experiment was run for 10 trials per condition, 120 in total. The response times and accuracy are shown below:"
   ]
  },
  {
   "cell_type": "code",
   "execution_count": 23,
   "metadata": {
    "ExecuteTime": {
     "end_time": "2020-06-22T22:41:50.893368Z",
     "start_time": "2020-06-22T22:41:50.387606Z"
    }
   },
   "outputs": [
    {
     "data": {
      "image/png": "[encoded data removed]",
      "text/plain": [
       "<Figure size 1152x432 with 2 Axes>"
      ]
     },
     "metadata": {},
     "output_type": "display_data"
    }
   ],
   "source": [
    "exp5 = FunctionBasicExperiment()\n",
    "\n",
    "_, (ax1, ax2) = plt.subplots(1, 2, figsize=(16, 6))\n",
    "sns.boxplot(\n",
    "    ax=ax1, data=exp5.results(), x='N_var', y='response_time', hue='condition',\n",
    "    #estimator=median,\n",
    "    hue_order=[str(c).split('.')[1] for c in exp5.Condition])\n",
    "ax1.set_title('Median response times (ms)')\n",
    "\n",
    "sns.barplot(\n",
    "    ax=ax2, data=exp5.results().groupby(['N_var', 'condition']).sum().reset_index(), \n",
    "    x='N_var', y='correct', hue='condition',\n",
    "    hue_order=[str(c).split('.')[1] for c in exp5.Condition])\n",
    "ax2.get_legend().remove()\n",
    "_ = ax2.set_title('Number of trials with correct response')"
   ]
  },
  {
   "cell_type": "markdown",
   "metadata": {
    "ExecuteTime": {
     "end_time": "2020-06-17T23:02:17.951472Z",
     "start_time": "2020-06-17T23:02:17.918561Z"
    }
   },
   "source": [
    "The three with-function conditions do not have a noticeable difference in response time or correctness. The only reliable trend was that the condition without functions had a a median about ~50% that of the other conditions. Below is a table of the median of the SimpleFunction condition divided by the median of the NoFunction condition, along with the associated p-value for a Mood's median test."
   ]
  },
  {
   "cell_type": "code",
   "execution_count": 28,
   "metadata": {
    "ExecuteTime": {
     "end_time": "2020-06-22T22:51:50.448181Z",
     "start_time": "2020-06-22T22:51:50.376704Z"
    }
   },
   "outputs": [
    {
     "data": {
      "text/html": [
       "<div>\n",
       "<style scoped>\n",
       "    .dataframe tbody tr th:only-of-type {\n",
       "        vertical-align: middle;\n",
       "    }\n",
       "\n",
       "    .dataframe tbody tr th {\n",
       "        vertical-align: top;\n",
       "    }\n",
       "\n",
       "    .dataframe thead th {\n",
       "        text-align: right;\n",
       "    }\n",
       "</style>\n",
       "<table border=\"1\" class=\"dataframe\">\n",
       "  <thead>\n",
       "    <tr style=\"text-align: right;\">\n",
       "      <th></th>\n",
       "      <th>rt_frac</th>\n",
       "      <th>pvalue</th>\n",
       "    </tr>\n",
       "    <tr>\n",
       "      <th>N_var</th>\n",
       "      <th></th>\n",
       "      <th></th>\n",
       "    </tr>\n",
       "  </thead>\n",
       "  <tbody>\n",
       "    <tr>\n",
       "      <th>2</th>\n",
       "      <td>2.175162</td>\n",
       "      <td>0.001745</td>\n",
       "    </tr>\n",
       "    <tr>\n",
       "      <th>3</th>\n",
       "      <td>1.665655</td>\n",
       "      <td>0.025347</td>\n",
       "    </tr>\n",
       "    <tr>\n",
       "      <th>4</th>\n",
       "      <td>1.532575</td>\n",
       "      <td>0.025347</td>\n",
       "    </tr>\n",
       "  </tbody>\n",
       "</table>\n",
       "</div>"
      ],
      "text/plain": [
       "        rt_frac    pvalue\n",
       "N_var                    \n",
       "2      2.175162  0.001745\n",
       "3      1.665655  0.025347\n",
       "4      1.532575  0.025347"
      ]
     },
     "execution_count": 28,
     "metadata": {},
     "output_type": "execute_result"
    }
   ],
   "source": [
    "def median_stats(df, col, val1, val2):\n",
    "    rt = df.groupby(['N_var', col]).median().response_time\n",
    "    rt_frac = rt[:,val1] / rt[:,val2]\n",
    "    pvalues = df.groupby(['N_var']).apply(\n",
    "        lambda data: median_test(data[data[col] == val1].response_time, \n",
    "                                 data[data[col] == val2].response_time)[1])\n",
    "    return pd.concat([rt_frac.rename(\"rt_frac\"), pvalues.rename(\"pvalue\")], axis=1)\n",
    "\n",
    "median_stats(exp5.results(), 'condition', 'SimpleFunction', 'NoFunction')"
   ]
  },
  {
   "cell_type": "markdown",
   "metadata": {},
   "source": [
    "The difference in medians is statistically significant, and the proportion is at least 1.5 for all values of $N_{var}$. This result suggests that the general overhead of tracing a function instead of straight-line code incurs a significant cognitive penalty for this task."
   ]
  },
  {
   "cell_type": "markdown",
   "metadata": {},
   "source": [
    "## 2.2 Experiment 6: Function argument style\n",
    "\n",
    "The prior experiment used many function calls in one program. The particular task did not reveal significant variance between the kinds of function calls used. This is possibly because the task was already quite hard (remembering several variables in a multi-step computation). To drill-down on the effect of function call style, we next simplify the task and expand the set of conditions.\n",
    "\n",
    "In this experiment, we consider programs that contain a single function call. For example:\n",
    "\n",
    "```python\n",
    "def f(a, b, c):\n",
    "    return a - b + c\n",
    "\n",
    "f(1, 4, 6)\n",
    "```\n",
    "\n",
    "Specifically, we manipulate two categories of conditions. First, the function has one of two conditions:\n",
    "1. Ordered: arguments are defined in the order they are use\n",
    "2. Shuffled: arguments are randomly shuffled wrt their usage\n",
    "\n",
    "Second, the call site has one of three conditions:\n",
    "1. Constant: parameters are numbers directly in the function call\n",
    "2. Variable: parameters are variables defined before the function call (e.g. `x = 1; f(x)`). The order of definition is the same as the order given to the function\n",
    "3. Shuffled: parameters are variables in a random order wrt how they are given to the function\n",
    "\n",
    "For a given $N_{var}$, we do 5 trials in each of the 6 function/call condition pairs, for a total of 90 trials. The response time in each condition is below. Each chart is a different $N_{var}$ shown in the title. The x-axis is function condition, y-axis is response time, and hue-axis is call condition."
   ]
  },
  {
   "cell_type": "code",
   "execution_count": 25,
   "metadata": {
    "ExecuteTime": {
     "end_time": "2020-06-22T22:41:54.544185Z",
     "start_time": "2020-06-22T22:41:53.635263Z"
    }
   },
   "outputs": [
    {
     "data": {
      "text/plain": [
       "<seaborn.axisgrid.FacetGrid at 0x128ced290>"
      ]
     },
     "execution_count": 25,
     "metadata": {},
     "output_type": "execute_result"
    },
    {
     "data": {
      "image/png": "[encoded data removed]",
      "text/plain": [
       "<Figure size 1232.72x360 with 3 Axes>"
      ]
     },
     "metadata": {},
     "output_type": "display_data"
    }
   ],
   "source": [
    "exp6 = FunctionArgsExperiment()\n",
    "\n",
    "g = sns.FacetGrid(data=exp6.results(), col='N_var', height=5)\n",
    "g.map(sns.boxplot, \n",
    "      'func_cond', 'response_time', 'call_cond', \n",
    "      palette=sns.color_palette(),\n",
    "      order=list(map(str, exp6.FuncCondition)), hue_order=list(map(str, exp6.CallCondition))) \\\n",
    "    .add_legend()"
   ]
  },
  {
   "cell_type": "markdown",
   "metadata": {},
   "source": [
    "Immediately, we can tell that there is much more between-condition variation (for a given $N_{var}$) than before. The ordering of mean response times corresponds to intuition: for functions, shuffled is harder than ordered. And for calls, shuffled > variable > constant. To quantify these discrepancies, we compare the % difference in median response time between conditions. "
   ]
  },
  {
   "cell_type": "code",
   "execution_count": 30,
   "metadata": {
    "ExecuteTime": {
     "end_time": "2020-06-22T22:52:14.714508Z",
     "start_time": "2020-06-22T22:52:14.647529Z"
    }
   },
   "outputs": [
    {
     "name": "stdout",
     "output_type": "stream",
     "text": [
      "===== Function condition: Shuffled percent slower than Ordered\n"
     ]
    },
    {
     "data": {
      "text/html": [
       "<div>\n",
       "<style scoped>\n",
       "    .dataframe tbody tr th:only-of-type {\n",
       "        vertical-align: middle;\n",
       "    }\n",
       "\n",
       "    .dataframe tbody tr th {\n",
       "        vertical-align: top;\n",
       "    }\n",
       "\n",
       "    .dataframe thead th {\n",
       "        text-align: right;\n",
       "    }\n",
       "</style>\n",
       "<table border=\"1\" class=\"dataframe\">\n",
       "  <thead>\n",
       "    <tr style=\"text-align: right;\">\n",
       "      <th></th>\n",
       "      <th>rt_frac</th>\n",
       "      <th>pvalue</th>\n",
       "    </tr>\n",
       "    <tr>\n",
       "      <th>N_var</th>\n",
       "      <th></th>\n",
       "      <th></th>\n",
       "    </tr>\n",
       "  </thead>\n",
       "  <tbody>\n",
       "    <tr>\n",
       "      <th>2</th>\n",
       "      <td>1.275479</td>\n",
       "      <td>0.144127</td>\n",
       "    </tr>\n",
       "    <tr>\n",
       "      <th>3</th>\n",
       "      <td>1.516656</td>\n",
       "      <td>0.028460</td>\n",
       "    </tr>\n",
       "    <tr>\n",
       "      <th>4</th>\n",
       "      <td>1.241788</td>\n",
       "      <td>0.144127</td>\n",
       "    </tr>\n",
       "  </tbody>\n",
       "</table>\n",
       "</div>"
      ],
      "text/plain": [
       "        rt_frac    pvalue\n",
       "N_var                    \n",
       "2      1.275479  0.144127\n",
       "3      1.516656  0.028460\n",
       "4      1.241788  0.144127"
      ]
     },
     "execution_count": 30,
     "metadata": {},
     "output_type": "execute_result"
    }
   ],
   "source": [
    "print('===== Function condition: Shuffled percent slower than Ordered')\n",
    "median_stats(exp6.results(), 'func_cond', 'FuncCondition.Shuffled', 'FuncCondition.Ordered')"
   ]
  },
  {
   "cell_type": "markdown",
   "metadata": {},
   "source": [
    "These data show that the Shuffled condition (function arguments in different order than usage) induced a 20-50% slowdown. However, the smaller slowdowns were not statistically significant.\n",
    "\n",
    "We can similarly look at the median response time fraction in the call condition, shuffled to variable:"
   ]
  },
  {
   "cell_type": "code",
   "execution_count": 31,
   "metadata": {
    "ExecuteTime": {
     "end_time": "2020-06-22T22:52:41.191217Z",
     "start_time": "2020-06-22T22:52:41.123677Z"
    }
   },
   "outputs": [
    {
     "name": "stdout",
     "output_type": "stream",
     "text": [
      "===== Call condition: Shuffled percent slower than Variable\n"
     ]
    },
    {
     "data": {
      "text/html": [
       "<div>\n",
       "<style scoped>\n",
       "    .dataframe tbody tr th:only-of-type {\n",
       "        vertical-align: middle;\n",
       "    }\n",
       "\n",
       "    .dataframe tbody tr th {\n",
       "        vertical-align: top;\n",
       "    }\n",
       "\n",
       "    .dataframe thead th {\n",
       "        text-align: right;\n",
       "    }\n",
       "</style>\n",
       "<table border=\"1\" class=\"dataframe\">\n",
       "  <thead>\n",
       "    <tr style=\"text-align: right;\">\n",
       "      <th></th>\n",
       "      <th>rt_frac</th>\n",
       "      <th>pvalue</th>\n",
       "    </tr>\n",
       "    <tr>\n",
       "      <th>N_var</th>\n",
       "      <th></th>\n",
       "      <th></th>\n",
       "    </tr>\n",
       "  </thead>\n",
       "  <tbody>\n",
       "    <tr>\n",
       "      <th>2</th>\n",
       "      <td>1.410945</td>\n",
       "      <td>0.025347</td>\n",
       "    </tr>\n",
       "    <tr>\n",
       "      <th>3</th>\n",
       "      <td>1.114824</td>\n",
       "      <td>1.000000</td>\n",
       "    </tr>\n",
       "    <tr>\n",
       "      <th>4</th>\n",
       "      <td>1.211404</td>\n",
       "      <td>0.179712</td>\n",
       "    </tr>\n",
       "  </tbody>\n",
       "</table>\n",
       "</div>"
      ],
      "text/plain": [
       "        rt_frac    pvalue\n",
       "N_var                    \n",
       "2      1.410945  0.025347\n",
       "3      1.114824  1.000000\n",
       "4      1.211404  0.179712"
      ]
     },
     "execution_count": 31,
     "metadata": {},
     "output_type": "execute_result"
    }
   ],
   "source": [
    "print('===== Call condition: Shuffled percent slower than Variable')\n",
    "median_stats(exp6.results(), 'call_cond', 'CallCondition.Shuffled', 'CallCondition.Variable')"
   ]
  },
  {
   "cell_type": "markdown",
   "metadata": {},
   "source": [
    "For $N_{var} \\geq 3$, the difference is not significant."
   ]
  },
  {
   "cell_type": "markdown",
   "metadata": {},
   "source": [
    "## 2.3 Experiment 7: Function call alignment\n",
    "\n",
    "The previous experiment demonstrated that for a simple computation-with-functions task, order of arguments had a meaningful impact on response times. To drill-down on this effect further, we can consider an extremely simple intervention. Consider these two programs:\n",
    "\n",
    "Program 1 (Misaligned):\n",
    "\n",
    "```python\n",
    "def e(a, n, w, x):\n",
    "    return x - n - a - w\n",
    "\n",
    "e(4, 6, 6, 9)\n",
    "```\n",
    "\n",
    "Program 2 (Aligned):\n",
    "\n",
    "```python\n",
    "    e(4, 6, 6, 9)\n",
    "def e(a, n, w, x):\n",
    "    return x - n - a - w\n",
    "```\n",
    "\n",
    "Similar to how aligning digits is useful for long multiplication, we hypothetize that second program should be easier to trace because the index-based relationship between variables (in the function definition) and values (in the function call) is easier to see at a glance. \n",
    "\n",
    "To test this hypothesis, we randomly generate programs of the above forms for $N_{var} = 3 \\ldots 6$, then measure the participant's response time in mentally tracing the value of the function call. For each $N_{var}$, we run 10 trials of the Aligned condition and 10 trials of the Misaligned condition. The distribution of response times is shown below:"
   ]
  },
  {
   "cell_type": "code",
   "execution_count": 33,
   "metadata": {
    "ExecuteTime": {
     "end_time": "2020-06-22T22:53:14.026943Z",
     "start_time": "2020-06-22T22:53:13.677145Z"
    }
   },
   "outputs": [
    {
     "data": {
      "text/plain": [
       "<matplotlib.axes._subplots.AxesSubplot at 0x1292114d0>"
      ]
     },
     "execution_count": 33,
     "metadata": {},
     "output_type": "execute_result"
    },
    {
     "data": {
      "image/png": "[encoded data removed]",
      "text/plain": [
       "<Figure size 576x360 with 1 Axes>"
      ]
     },
     "metadata": {},
     "output_type": "display_data"
    }
   ],
   "source": [
    "exp7 = FunctionAlignExperiment()\n",
    "sns.boxplot(\n",
    "    data=exp7.results(), x='N_var', y='response_time', hue='cond', hue_order=list(map(str, exp7.Condition)))"
   ]
  },
  {
   "cell_type": "markdown",
   "metadata": {},
   "source": [
    "The misaligned condition appears to be generally slower, albeit with high variance. As before, I compare the ratio of medians in each condition, and compute the significance level."
   ]
  },
  {
   "cell_type": "code",
   "execution_count": 34,
   "metadata": {
    "ExecuteTime": {
     "end_time": "2020-06-22T22:53:14.614364Z",
     "start_time": "2020-06-22T22:53:14.560362Z"
    }
   },
   "outputs": [
    {
     "data": {
      "text/html": [
       "<div>\n",
       "<style scoped>\n",
       "    .dataframe tbody tr th:only-of-type {\n",
       "        vertical-align: middle;\n",
       "    }\n",
       "\n",
       "    .dataframe tbody tr th {\n",
       "        vertical-align: top;\n",
       "    }\n",
       "\n",
       "    .dataframe thead th {\n",
       "        text-align: right;\n",
       "    }\n",
       "</style>\n",
       "<table border=\"1\" class=\"dataframe\">\n",
       "  <thead>\n",
       "    <tr style=\"text-align: right;\">\n",
       "      <th></th>\n",
       "      <th>rt_frac</th>\n",
       "      <th>pvalue</th>\n",
       "    </tr>\n",
       "    <tr>\n",
       "      <th>N_var</th>\n",
       "      <th></th>\n",
       "      <th></th>\n",
       "    </tr>\n",
       "  </thead>\n",
       "  <tbody>\n",
       "    <tr>\n",
       "      <th>3</th>\n",
       "      <td>1.221894</td>\n",
       "      <td>0.179712</td>\n",
       "    </tr>\n",
       "    <tr>\n",
       "      <th>4</th>\n",
       "      <td>1.154726</td>\n",
       "      <td>0.025347</td>\n",
       "    </tr>\n",
       "    <tr>\n",
       "      <th>5</th>\n",
       "      <td>1.246136</td>\n",
       "      <td>0.025347</td>\n",
       "    </tr>\n",
       "    <tr>\n",
       "      <th>6</th>\n",
       "      <td>1.198770</td>\n",
       "      <td>0.179712</td>\n",
       "    </tr>\n",
       "  </tbody>\n",
       "</table>\n",
       "</div>"
      ],
      "text/plain": [
       "        rt_frac    pvalue\n",
       "N_var                    \n",
       "3      1.221894  0.179712\n",
       "4      1.154726  0.025347\n",
       "5      1.246136  0.025347\n",
       "6      1.198770  0.179712"
      ]
     },
     "execution_count": 34,
     "metadata": {},
     "output_type": "execute_result"
    }
   ],
   "source": [
    "median_stats(exp7.results(), 'cond', 'Condition.Misaligned', 'Condition.Aligned')"
   ]
  },
  {
   "cell_type": "markdown",
   "metadata": {},
   "source": [
    "On average, the misaligned condition is 20% slower than the aligned condition. This result is statistically significant for $N_{var} = 4, 5$ but not $3, 6$. "
   ]
  },
  {
   "cell_type": "markdown",
   "metadata": {},
   "source": [
    "## 2.3 Summary of function call experiments\n",
    "\n",
    "For equivalent programs, tracing function calls can induce siginificant amounts of cognitive load. The two main conclusions:\n",
    "\n",
    "1. For two multi-stage arithmetic programs, tracing the version with functions is 2x slower than the version without functions.<br /><br />\n",
    "\n",
    "2. For single-function programs, both the order of arguments at the function definition site influenced response time, 30% slower when randomized.<br /><br />\n",
    "\n",
    "3. For a simple computation, aligning a function call with its definition was 15-20% faster than leaving them unaligned."
   ]
  },
  {
   "cell_type": "markdown",
   "metadata": {},
   "source": [
    "# 3. Call stack\n",
    "\n",
    "When multiple functions call each other, the resulting call stack requires maintenance (or recomputation) of intermediates in the call frame, as well as a \"return pointer\" for the previous function. For example, consider these three equivalent programs:\n",
    "\n",
    "Program 1, nameless form:\n",
    "\n",
    "```python\n",
    "(3 - 2) - ((4 - 1) + (3 - 6))\n",
    "```\n",
    "\n",
    "Program 2: variable form:\n",
    "\n",
    "```python\n",
    "x = 4 - 1\n",
    "y = 3 - 6\n",
    "z = x + y\n",
    "w = 3 - 2\n",
    "q = w - z\n",
    "q\n",
    "```\n",
    "\n",
    "Program 3, function form:\n",
    "\n",
    "```python\n",
    "def a():\n",
    "    return 4 - 1\n",
    "def b():\n",
    "    return 3 - 6\n",
    "def c():\n",
    "    return a() + b()\n",
    "def d():\n",
    "    return 3 - 2\n",
    "def e():\n",
    "    return d() - c()\n",
    "e()\n",
    "```\n",
    "\n",
    "In each program, the tracer must maintain either the left or right side of a binary operation in working memory as an intermediate. For example, in program 3, the fact that `d() = 1` must be retained while computing `c()`. Alternatively, it can be computed later while remembering `c() = 0`. In program 2, bindings to be maintained have variable names, like remembering `x = 3`. In program 1, intermediates are nameless.\n",
    "\n",
    "A key difference is knowing where to continue computation after an intermediate has been computed. \n",
    "* Program 2 implies a regular execution order (top to bottom). \n",
    "* For program 1, an execution order must be inferred from the parenthetical text structure. The next operation to compute can be determined by looking for the binary operation associated with the layer of parentheses outside the current intermediate.\n",
    "* For program 3, the execution order is set by the program, but is less obvious than program 2. For example, when computing `a() = 4 - 1 = 5`, the tracer must remember to jump back to program `c()`, then back `e()` after computing `b()`.\n",
    "\n",
    "Our hypothesis is that the additional information of maintaining backpointers introduces cognitive load that can interfere with working memory for intermediates. Programs with a deep or convoluted call stack should require more time to trace than programs with a clear execution order. The function form should be harder than the variable and nameless forms."
   ]
  },
  {
   "cell_type": "markdown",
   "metadata": {},
   "source": [
    "## 3.1 Experiment 8: Call stack tracing\n",
    "\n",
    "To test the above hypothesis, we performed an experiment comparing response times in each condition described above. Specifically, for a given $N_{var}$, we randomly generate a arithmetic expression tree with $N_var$ binary operations (essentially randomly inserting parentheses). Then the arithmetic expression tree is converted into either a nameless form, variable form, or function form. Within the function form, we consider functions ordered both in a preorder traversal and randomly ordered.\n",
    "\n",
    "For each $N_{var}$ and condition, we ran 10 trials and evaluated response time and accuracy. The response time distributions are shown below:"
   ]
  },
  {
   "cell_type": "code",
   "execution_count": 26,
   "metadata": {
    "ExecuteTime": {
     "end_time": "2020-06-22T22:41:58.312157Z",
     "start_time": "2020-06-22T22:41:57.847510Z"
    }
   },
   "outputs": [
    {
     "data": {
      "text/plain": [
       "<matplotlib.axes._subplots.AxesSubplot at 0x129262310>"
      ]
     },
     "execution_count": 26,
     "metadata": {},
     "output_type": "execute_result"
    },
    {
     "data": {
      "image/png": "[encoded data removed]",
      "text/plain": [
       "<Figure size 576x360 with 1 Axes>"
      ]
     },
     "metadata": {},
     "output_type": "display_data"
    }
   ],
   "source": [
    "exp8 = FunctionDepthExperiment()\n",
    "sns.boxplot(\n",
    "    data=exp8.results(), x='N_var', y='response_time', hue='cond', hue_order=list(map(str, exp8.Condition)))"
   ]
  },
  {
   "cell_type": "markdown",
   "metadata": {},
   "source": [
    "The results somewhat seem to match our hypothesis, although variance is high. Nameless/parentheses is clearly easier than the other conditions. Variable vs. preorder appear to be similar, and random is worse than all the other conditions. Double-checking the pvalues, we get signifiance (or close to it) in these cases:"
   ]
  },
  {
   "cell_type": "code",
   "execution_count": 46,
   "metadata": {
    "ExecuteTime": {
     "end_time": "2020-06-22T23:03:09.053891Z",
     "start_time": "2020-06-22T23:03:08.970163Z"
    }
   },
   "outputs": [
    {
     "name": "stdout",
     "output_type": "stream",
     "text": [
      "==== Variable is % slower than Parentheses\n",
      "        rt_frac    pvalue\n",
      "N_var                    \n",
      "4      1.378628  0.154729\n",
      "5      1.599950  0.017706\n",
      "6      1.611679  0.017706\n",
      "\n",
      "\n",
      "==== Random is % slower than Variable\n",
      "        rt_frac    pvalue\n",
      "N_var                    \n",
      "4      1.439966  0.154729\n",
      "5      1.290797  0.154729\n",
      "6      1.332419  0.154729\n"
     ]
    }
   ],
   "source": [
    "print('==== Variable is % slower than Parentheses')\n",
    "print(median_stats(exp8.results(), 'cond', 'Condition.Variable', 'Condition.Parentheses'))\n",
    "\n",
    "print('\\n\\n==== Random is % slower than Variable')\n",
    "print(median_stats(exp8.results(), 'cond', 'Condition.Random', 'Condition.Variable'))"
   ]
  },
  {
   "cell_type": "markdown",
   "metadata": {},
   "source": [
    "Variable (and all other conditions) are significantly slower than Parentheses. Random is slower than variable, but only with $p = 0.15$. \n",
    "\n",
    "**Conclusions**\n",
    "\n",
    "1. For $N_{var} = 4 \\ldots 6$, a nameless arithmetic expression is faster to evaluate by ~50% than one separated into variables or functions.<br /><br />\n",
    "\n",
    "2. Randomly ordered functions are traced ~30% slower than equivalent variable and preordered function programs."
   ]
  }
 ],
 "metadata": {
  "kernelspec": {
   "display_name": "Python 3",
   "language": "python",
   "name": "python3"
  },
  "language_info": {
   "codemirror_mode": {
    "name": "ipython",
    "version": 3
   },
   "file_extension": ".py",
   "mimetype": "text/x-python",
   "name": "python",
   "nbconvert_exporter": "python",
   "pygments_lexer": "ipython3",
   "version": "3.7.7"
  },
  "toc": {
   "base_numbering": 1,
   "nav_menu": {},
   "number_sections": true,
   "sideBar": true,
   "skip_h1_title": false,
   "title_cell": "Table of Contents",
   "title_sidebar": "Contents",
   "toc_cell": false,
   "toc_position": {},
   "toc_section_display": true,
   "toc_window_display": false
  },
  "varInspector": {
   "cols": {
    "lenName": 16,
    "lenType": 16,
    "lenVar": 40
   },
   "kernels_config": {
    "python": {
     "delete_cmd_postfix": "",
     "delete_cmd_prefix": "del ",
     "library": "var_list.py",
     "varRefreshCmd": "print(var_dic_list())"
    },
    "r": {
     "delete_cmd_postfix": ") ",
     "delete_cmd_prefix": "rm(",
     "library": "var_list.r",
     "varRefreshCmd": "cat(var_dic_list()) "
    }
   },
   "types_to_exclude": [
    "module",
    "function",
    "builtin_function_or_method",
    "instance",
    "_Feature"
   ],
   "window_display": false
  }
 },
 "nbformat": 4,
 "nbformat_minor": 4
}
