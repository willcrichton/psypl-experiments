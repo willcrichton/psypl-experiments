{
 "cells": [
  {
   "cell_type": "code",
   "execution_count": 1,
   "metadata": {
    "ExecuteTime": {
     "end_time": "2020-05-01T21:28:45.490151Z",
     "start_time": "2020-05-01T21:28:45.456722Z"
    }
   },
   "outputs": [],
   "source": [
    "%load_ext autoreload\n",
    "%autoreload 2"
   ]
  },
  {
   "cell_type": "code",
   "execution_count": 2,
   "metadata": {
    "ExecuteTime": {
     "end_time": "2020-05-01T21:28:46.839219Z",
     "start_time": "2020-05-01T21:28:45.493465Z"
    }
   },
   "outputs": [],
   "source": [
    "from model import *\n",
    "from pickle_cache import PickleCache\n",
    "import pandas as pd\n",
    "from experiment_widgets import VariableTracingExperiment\n",
    "import json\n",
    "from random import sample, randint, choices\n",
    "import string\n",
    "import matplotlib.pyplot as plt \n",
    "from tqdm.auto import tqdm\n",
    "import seaborn as sns\n",
    "import torch.distributions.constraints as constraints\n",
    "\n",
    "sns.set()\n",
    "\n",
    "pcache = PickleCache()"
   ]
  },
  {
   "cell_type": "code",
   "execution_count": 3,
   "metadata": {
    "ExecuteTime": {
     "end_time": "2020-05-01T21:28:46.872377Z",
     "start_time": "2020-05-01T21:28:46.842377Z"
    }
   },
   "outputs": [],
   "source": [
    "all_names = string.ascii_lowercase\n",
    "all_operators = ['+', '-']\n",
    "\n",
    "def generate_trial(N):\n",
    "    names = sample(all_names, k=N)\n",
    "    variables = [\n",
    "        {'variable': names[i], 'value': randint(1, 9)}\n",
    "        for i in range(N)\n",
    "    ]\n",
    "\n",
    "    expr_var_order = sample(variables, k=len(variables))\n",
    "    operators = choices(all_operators, k=N-1)\n",
    "    expr_list = []\n",
    "    expr_value = expr_var_order[0]['value']\n",
    "    for i in range(N):\n",
    "        if i > 0:\n",
    "            op = operators[i-1]\n",
    "            expr_value = eval(f\"{expr_value} {op} {expr_var_order[i]['value']}\")\n",
    "            expr_list.append(op)\n",
    "        expr_list.append(expr_var_order[i]['variable'])\n",
    "    expr = ' '.join(expr_list)\n",
    "    \n",
    "    return {\n",
    "        'variables': variables, \n",
    "        'expression': expr,\n",
    "        'expression_value': expr_value\n",
    "    }\n",
    "\n",
    "def exp_name(N_var, N_trials):\n",
    "    return f'vartrace_{N_var}_{N_trials}'"
   ]
  },
  {
   "cell_type": "code",
   "execution_count": 4,
   "metadata": {
    "ExecuteTime": {
     "end_time": "2020-05-01T21:28:46.911656Z",
     "start_time": "2020-05-01T21:28:46.874572Z"
    }
   },
   "outputs": [
    {
     "data": {
      "application/vnd.jupyter.widget-view+json": {
       "model_id": "5bb1b23c2e0a4580b7a77718c59d9556",
       "version_major": 2,
       "version_minor": 0
      },
      "text/plain": [
       "VariableTracingExperiment(experiment='{\"trials\": [{\"variables\": [{\"variable\": \"p\", \"value\": 8}, {\"variable\": \"…"
      ]
     },
     "metadata": {},
     "output_type": "display_data"
    }
   ],
   "source": [
    "N_var = 7\n",
    "N_trials = 10\n",
    "\n",
    "experiment = {\n",
    "    'trials': [generate_trial(N_var) for _ in range(N_trials)],\n",
    "    'between_trials_time': 1000\n",
    "}\n",
    "\n",
    "exp = VariableTracingExperiment(experiment=json.dumps(experiment), results='[]')\n",
    "\n",
    "def on_result_change(_):\n",
    "    pcache.set(exp_name(N_var, N_trials), {\n",
    "        'experiment': experiment,\n",
    "        'results': json.loads(exp.results)\n",
    "    })\n",
    "    \n",
    "#exp.observe(on_result_change)\n",
    "\n",
    "exp"
   ]
  },
  {
   "cell_type": "code",
   "execution_count": 5,
   "metadata": {
    "ExecuteTime": {
     "end_time": "2020-05-01T21:28:46.954505Z",
     "start_time": "2020-05-01T21:28:46.913939Z"
    }
   },
   "outputs": [
    {
     "data": {
      "text/html": [
       "<div>\n",
       "<style scoped>\n",
       "    .dataframe tbody tr th:only-of-type {\n",
       "        vertical-align: middle;\n",
       "    }\n",
       "\n",
       "    .dataframe tbody tr th {\n",
       "        vertical-align: top;\n",
       "    }\n",
       "\n",
       "    .dataframe thead th {\n",
       "        text-align: right;\n",
       "    }\n",
       "</style>\n",
       "<table border=\"1\" class=\"dataframe\">\n",
       "  <thead>\n",
       "    <tr style=\"text-align: right;\">\n",
       "      <th></th>\n",
       "      <th>N_var</th>\n",
       "      <th>correct</th>\n",
       "      <th>switches</th>\n",
       "      <th>response_time</th>\n",
       "    </tr>\n",
       "  </thead>\n",
       "  <tbody>\n",
       "    <tr>\n",
       "      <th>0</th>\n",
       "      <td>7</td>\n",
       "      <td>True</td>\n",
       "      <td>3</td>\n",
       "      <td>25.240</td>\n",
       "    </tr>\n",
       "    <tr>\n",
       "      <th>1</th>\n",
       "      <td>7</td>\n",
       "      <td>True</td>\n",
       "      <td>1</td>\n",
       "      <td>20.318</td>\n",
       "    </tr>\n",
       "    <tr>\n",
       "      <th>2</th>\n",
       "      <td>7</td>\n",
       "      <td>False</td>\n",
       "      <td>2</td>\n",
       "      <td>18.790</td>\n",
       "    </tr>\n",
       "    <tr>\n",
       "      <th>3</th>\n",
       "      <td>7</td>\n",
       "      <td>True</td>\n",
       "      <td>3</td>\n",
       "      <td>24.138</td>\n",
       "    </tr>\n",
       "    <tr>\n",
       "      <th>4</th>\n",
       "      <td>7</td>\n",
       "      <td>True</td>\n",
       "      <td>2</td>\n",
       "      <td>26.821</td>\n",
       "    </tr>\n",
       "    <tr>\n",
       "      <th>5</th>\n",
       "      <td>7</td>\n",
       "      <td>True</td>\n",
       "      <td>1</td>\n",
       "      <td>13.549</td>\n",
       "    </tr>\n",
       "    <tr>\n",
       "      <th>6</th>\n",
       "      <td>7</td>\n",
       "      <td>True</td>\n",
       "      <td>1</td>\n",
       "      <td>15.813</td>\n",
       "    </tr>\n",
       "    <tr>\n",
       "      <th>7</th>\n",
       "      <td>7</td>\n",
       "      <td>True</td>\n",
       "      <td>1</td>\n",
       "      <td>11.606</td>\n",
       "    </tr>\n",
       "    <tr>\n",
       "      <th>8</th>\n",
       "      <td>7</td>\n",
       "      <td>True</td>\n",
       "      <td>3</td>\n",
       "      <td>35.147</td>\n",
       "    </tr>\n",
       "    <tr>\n",
       "      <th>9</th>\n",
       "      <td>7</td>\n",
       "      <td>True</td>\n",
       "      <td>1</td>\n",
       "      <td>18.842</td>\n",
       "    </tr>\n",
       "  </tbody>\n",
       "</table>\n",
       "</div>"
      ],
      "text/plain": [
       "   N_var  correct  switches  response_time\n",
       "0      7     True         3         25.240\n",
       "1      7     True         1         20.318\n",
       "2      7    False         2         18.790\n",
       "3      7     True         3         24.138\n",
       "4      7     True         2         26.821\n",
       "5      7     True         1         13.549\n",
       "6      7     True         1         15.813\n",
       "7      7     True         1         11.606\n",
       "8      7     True         3         35.147\n",
       "9      7     True         1         18.842"
      ]
     },
     "execution_count": 5,
     "metadata": {},
     "output_type": "execute_result"
    }
   ],
   "source": [
    "def process_results(N_var, N_trials):\n",
    "    data = pcache.get(exp_name(N_var, N_trials))\n",
    "    experiment = data['experiment']\n",
    "    results = data['results']\n",
    "    \n",
    "    df = []\n",
    "    for (trial, result) in zip(experiment['trials'], results):\n",
    "        try:\n",
    "            response = int(result['response'])\n",
    "        except ValueError:\n",
    "            response = -1000\n",
    "                   \n",
    "        correct = trial['expression_value'] == response\n",
    "        df.append({\n",
    "            'N_var': N_var,\n",
    "            'correct': correct,\n",
    "            'switches': result['switch_count']//2,\n",
    "            'response_time': result['response_time']/1000.\n",
    "        })\n",
    "    return pd.DataFrame(df)\n",
    "\n",
    "process_results(N_var, N_trials)"
   ]
  },
  {
   "cell_type": "code",
   "execution_count": 6,
   "metadata": {
    "ExecuteTime": {
     "end_time": "2020-05-01T21:28:46.992730Z",
     "start_time": "2020-05-01T21:28:46.956425Z"
    }
   },
   "outputs": [],
   "source": [
    "all_exp = [2, 3, 4, 5, 6, 7]\n",
    "results = pd.concat([process_results(N_var, 10) for N_var in all_exp])"
   ]
  },
  {
   "cell_type": "code",
   "execution_count": 7,
   "metadata": {
    "ExecuteTime": {
     "end_time": "2020-05-01T21:28:47.228003Z",
     "start_time": "2020-05-01T21:28:46.994890Z"
    }
   },
   "outputs": [
    {
     "data": {
      "text/plain": [
       "Text(0, 0.5, 'Response time (s)')"
      ]
     },
     "execution_count": 7,
     "metadata": {},
     "output_type": "execute_result"
    },
    {
     "data": {
      "image/png": "[encoded data removed]",
      "text/plain": [
       "<Figure size 432x288 with 1 Axes>"
      ]
     },
     "metadata": {},
     "output_type": "display_data"
    }
   ],
   "source": [
    "ax = sns.swarmplot(data=results, x='N_var', y='response_time')\n",
    "ax.set_ylabel('Response time (s)')"
   ]
  },
  {
   "cell_type": "code",
   "execution_count": 8,
   "metadata": {
    "ExecuteTime": {
     "end_time": "2020-05-01T21:28:47.386016Z",
     "start_time": "2020-05-01T21:28:47.231879Z"
    }
   },
   "outputs": [],
   "source": [
    "import statsmodels.formula.api as smf\n",
    "data = results.groupby('N_var').response_time.nlargest(2).reset_index().groupby('N_var').mean().reset_index()\n",
    "#smf.ols('response_time ~ np.power(N_var,2)', data=data).fit().summary()"
   ]
  },
  {
   "cell_type": "code",
   "execution_count": 9,
   "metadata": {
    "ExecuteTime": {
     "end_time": "2020-05-01T21:28:47.674225Z",
     "start_time": "2020-05-01T21:28:47.389173Z"
    }
   },
   "outputs": [
    {
     "data": {
      "text/plain": [
       "<matplotlib.axes._subplots.AxesSubplot at 0x135f6cad0>"
      ]
     },
     "execution_count": 9,
     "metadata": {},
     "output_type": "execute_result"
    },
    {
     "data": {
      "image/png": "[encoded data removed]",
      "text/plain": [
       "<Figure size 432x288 with 1 Axes>"
      ]
     },
     "metadata": {},
     "output_type": "display_data"
    }
   ],
   "source": [
    "results.groupby('N_var').mean().plot(y='response_time')"
   ]
  },
  {
   "cell_type": "code",
   "execution_count": 10,
   "metadata": {
    "ExecuteTime": {
     "end_time": "2020-05-01T21:28:47.875349Z",
     "start_time": "2020-05-01T21:28:47.675807Z"
    }
   },
   "outputs": [
    {
     "data": {
      "text/plain": [
       "[<matplotlib.axis.YTick at 0x13602fc10>,\n",
       " <matplotlib.axis.YTick at 0x13602f190>,\n",
       " <matplotlib.axis.YTick at 0x135fed450>,\n",
       " <matplotlib.axis.YTick at 0x136011cd0>,\n",
       " <matplotlib.axis.YTick at 0x1360d1510>]"
      ]
     },
     "execution_count": 10,
     "metadata": {},
     "output_type": "execute_result"
    },
    {
     "data": {
      "image/png": "[encoded data removed]",
      "text/plain": [
       "<Figure size 432x288 with 1 Axes>"
      ]
     },
     "metadata": {},
     "output_type": "display_data"
    }
   ],
   "source": [
    "\n",
    "ax = sns.swarmplot(data=results, x='N_var', y='switches')\n",
    "ax.set_yticks(list(range(5)))"
   ]
  },
  {
   "cell_type": "code",
   "execution_count": 11,
   "metadata": {
    "ExecuteTime": {
     "end_time": "2020-05-01T21:28:48.080553Z",
     "start_time": "2020-05-01T21:28:47.878126Z"
    }
   },
   "outputs": [
    {
     "data": {
      "text/plain": [
       "<matplotlib.axes._subplots.AxesSubplot at 0x1360df8d0>"
      ]
     },
     "execution_count": 11,
     "metadata": {},
     "output_type": "execute_result"
    },
    {
     "data": {
      "image/png": "[encoded data removed]",
      "text/plain": [
       "<Figure size 432x288 with 1 Axes>"
      ]
     },
     "metadata": {},
     "output_type": "display_data"
    }
   ],
   "source": [
    "results.groupby('N_var').sum().plot.bar(y='correct')"
   ]
  },
  {
   "cell_type": "code",
   "execution_count": 12,
   "metadata": {
    "ExecuteTime": {
     "end_time": "2020-05-01T21:28:48.107613Z",
     "start_time": "2020-05-01T21:28:48.082360Z"
    }
   },
   "outputs": [],
   "source": [
    "#     params = {\n",
    "#     name: {\n",
    "#         'mu': pyro.param(f'{name}_mu', tensor(init_mu)),\n",
    "#         'sigma': pyro.param(f'{name}_sigma', tensor(init_sigma))\n",
    "#     }   \n",
    "#     for name, (init_mu, init_sigma) in params.items()\n",
    "# }\n"
   ]
  },
  {
   "cell_type": "code",
   "execution_count": 13,
   "metadata": {
    "ExecuteTime": {
     "end_time": "2020-05-01T21:28:48.142608Z",
     "start_time": "2020-05-01T21:28:48.109214Z"
    },
    "scrolled": false
   },
   "outputs": [],
   "source": [
    "# params = {\n",
    "#     'number_cost': (1.0, 0.01),\n",
    "#     'var_cost': (0.1, 0.01),\n",
    "#     'binop_cost': (2.5, 0.2),\n",
    "#     'assign_cost': (0.1, 0.01)\n",
    "# }\n",
    "\n",
    "params = {\n",
    "    'number_cost': (0.5, 0.5),\n",
    "    'var_cost': (0.5, 0.5),\n",
    "    'binop_cost': (2.0, 1.0),\n",
    "    'assign_cost': (0.5, 0.5)\n",
    "}\n",
    "\n",
    "def _model(trial, param_values):\n",
    "    wm = WorkingMemory()\n",
    "    src = [\n",
    "        f\"{v['variable']} = {v['value']}\"\n",
    "        for v in trial['variables']\n",
    "    ] + [trial['expression']]\n",
    "    prog = parse('\\n'.join(src))\n",
    "\n",
    "    visitor = TraceVisitor(wm=wm, ctx=prog.statements[:-1], params=param_values)\n",
    "    visitor.visit(prog.statements[-1])\n",
    "    \n",
    "    ret = pyro.sample('response_time', dist.Normal(visitor.time, 1.0))\n",
    "    reset_name_counters()\n",
    "    return ret\n",
    "\n",
    "def model(trial):\n",
    "    param_values = {\n",
    "        name: {\n",
    "            'mu': tensor(init_mu),\n",
    "            'sigma': tensor(init_sigma)\n",
    "        }\n",
    "        for name, (init_mu, init_sigma) in params.items()\n",
    "    }\n",
    "    return _model(trial, param_values)\n",
    "\n",
    "def guide(trial):\n",
    "    param_values = {\n",
    "        name: {\n",
    "            'mu': pyro.param(f'{name}_mu', tensor(init_mu)),\n",
    "            'sigma': pyro.param(f'{name}_sigma', tensor(init_sigma), constraint=constraints.positive)\n",
    "        }\n",
    "        for name, (init_mu, init_sigma) in params.items()\n",
    "    }\n",
    "    return _model(trial, param_values)"
   ]
  },
  {
   "cell_type": "code",
   "execution_count": 14,
   "metadata": {
    "ExecuteTime": {
     "end_time": "2020-05-01T21:28:48.173904Z",
     "start_time": "2020-05-01T21:28:48.144622Z"
    }
   },
   "outputs": [],
   "source": [
    "data = pcache.get(exp_name(N_var, N_trials))\n",
    "experiment = data['experiment']\n",
    "#results = data['results']\n",
    "trials = experiment['trials']\n",
    "\n",
    "def obs_model(i):\n",
    "    return pyro.condition(model, data={\n",
    "        'response_time': tensor(data['results'][i]['response_time']/1000.)})(trials[i])"
   ]
  },
  {
   "cell_type": "code",
   "execution_count": 15,
   "metadata": {
    "ExecuteTime": {
     "end_time": "2020-05-01T21:28:48.277634Z",
     "start_time": "2020-05-01T21:28:48.175660Z"
    }
   },
   "outputs": [
    {
     "data": {
      "text/plain": [
       "tensor(860.7120)"
      ]
     },
     "execution_count": 15,
     "metadata": {},
     "output_type": "execute_result"
    }
   ],
   "source": [
    "from pyro.poutine import trace\n",
    "t = trace(obs_model).get_trace(0)\n",
    "#sorted(list(t.nodes.keys()))\n",
    "t.log_prob_sum()"
   ]
  },
  {
   "cell_type": "code",
   "execution_count": 28,
   "metadata": {
    "ExecuteTime": {
     "end_time": "2020-05-01T21:41:17.656783Z",
     "start_time": "2020-05-01T21:41:17.620957Z"
    }
   },
   "outputs": [
    {
     "ename": "IndentationError",
     "evalue": "expected an indented block (<ipython-input-28-ea679863a6cb>, line 8)",
     "output_type": "error",
     "traceback": [
      "\u001b[0;36m  File \u001b[0;32m\"<ipython-input-28-ea679863a6cb>\"\u001b[0;36m, line \u001b[0;32m8\u001b[0m\n\u001b[0;31m    svi = SVI(obs_model, lambda i: guide(trials[i]), Adam({'lr': 1.0}), loss=Trace_ELBO())\u001b[0m\n\u001b[0m      ^\u001b[0m\n\u001b[0;31mIndentationError\u001b[0m\u001b[0;31m:\u001b[0m expected an indented block\n"
     ]
    }
   ],
   "source": [
    "from pyro.infer import SVI, ELBO\n",
    "from pyro.optim import Adam\n",
    "from pyro.infer.autoguide import AutoDelta\n",
    "pyro.clear_param_store()\n",
    "\n",
    "class Loss(ELBO):\n",
    "    def loss(self, model, guide):\n",
    "        \n",
    "svi = SVI(obs_model, lambda i: guide(trials[i]), Adam({'lr': 1.0}), loss=Trace_ELBO())\n",
    "loss_over_time = []\n",
    "for i in tqdm(range(300)):\n",
    "    loss = []\n",
    "    for j in range(len(trials)):\n",
    "        loss.append(svi.step(j))\n",
    "        \n",
    "    loss_over_time.append(pd.Series(loss).median())\n",
    "    \n",
    "    if i % 10 == 0:\n",
    "        print(loss_over_time[-1])"
   ]
  },
  {
   "cell_type": "code",
   "execution_count": 17,
   "metadata": {
    "ExecuteTime": {
     "end_time": "2020-05-01T21:33:26.735318Z",
     "start_time": "2020-05-01T21:33:26.705166Z"
    }
   },
   "outputs": [
    {
     "data": {
      "text/plain": [
       "{'number_cost': (0.5, 0.5),\n",
       " 'var_cost': (0.5, 0.5),\n",
       " 'binop_cost': (2.0, 1.0),\n",
       " 'assign_cost': (0.5, 0.5)}"
      ]
     },
     "execution_count": 17,
     "metadata": {},
     "output_type": "execute_result"
    }
   ],
   "source": [
    "params"
   ]
  },
  {
   "cell_type": "code",
   "execution_count": 18,
   "metadata": {
    "ExecuteTime": {
     "end_time": "2020-05-01T21:33:26.769548Z",
     "start_time": "2020-05-01T21:33:26.737828Z"
    }
   },
   "outputs": [
    {
     "data": {
      "text/plain": [
       "{'number_cost': {'mu': 0.35697755217552185, 'sigma': 0.22034183144569397},\n",
       " 'var_cost': {'mu': 0.08643551915884018, 'sigma': 0.33893024921417236},\n",
       " 'binop_cost': {'mu': 0.9074722528457642, 'sigma': 0.33093294501304626},\n",
       " 'assign_cost': {'mu': 0.11931444704532623, 'sigma': 0.3331072926521301}}"
      ]
     },
     "execution_count": 18,
     "metadata": {},
     "output_type": "execute_result"
    }
   ],
   "source": [
    "{\n",
    "    name: {\n",
    "        'mu': pyro.param(f'{name}_mu', tensor(init_mu)).item(),\n",
    "        'sigma': pyro.param(f'{name}_sigma', tensor(init_sigma)).item()\n",
    "    }\n",
    "    for name, (init_mu, init_sigma) in params.items()\n",
    "}"
   ]
  },
  {
   "cell_type": "code",
   "execution_count": 19,
   "metadata": {
    "ExecuteTime": {
     "end_time": "2020-05-01T21:33:26.801513Z",
     "start_time": "2020-05-01T21:33:26.772061Z"
    },
    "scrolled": false
   },
   "outputs": [],
   "source": [
    "# from pyro.infer import MCMC, NUTS\n",
    "# nuts = NUTS(obs_model)\n",
    "# mcmc = MCMC(nuts, num_samples=500, warmup_steps=100).run(0)\n",
    "# mcmc.run()"
   ]
  },
  {
   "cell_type": "code",
   "execution_count": 20,
   "metadata": {
    "ExecuteTime": {
     "end_time": "2020-05-01T21:33:26.835695Z",
     "start_time": "2020-05-01T21:33:26.803443Z"
    }
   },
   "outputs": [],
   "source": [
    "def simulate_many(model):\n",
    "    return pd.DataFrame([\n",
    "        {'N_var': N_var, 'response_time': model(generate_trial(N_var)).item()}\n",
    "        for N_var in tqdm(range(2, 8))\n",
    "        for _ in range(200)\n",
    "    ])\n",
    "\n",
    "def stats(results, prefix):\n",
    "    group = results.groupby('N_var')    \n",
    "    return pd.DataFrame({\n",
    "        f'{prefix}_median': group.median().response_time,\n",
    "        f'{prefix}_mean': group.mean().response_time,\n",
    "        f'{prefix}_std': group.std().response_time\n",
    "    })\n",
    "\n",
    "def show_results(results_sim):\n",
    "    print(stats(results, 'actual'))\n",
    "    print(stats(results_sim, 'sim'))\n",
    "    ax = sns.boxplot(data=results_sim, x='N_var', y='response_time')\n",
    "    ax.set_ylabel('Response time (s)')"
   ]
  },
  {
   "cell_type": "code",
   "execution_count": 21,
   "metadata": {
    "ExecuteTime": {
     "end_time": "2020-05-01T21:33:39.765035Z",
     "start_time": "2020-05-01T21:33:26.837389Z"
    }
   },
   "outputs": [
    {
     "data": {
      "application/vnd.jupyter.widget-view+json": {
       "model_id": "35269c5ed63d463abba79d0d980e46f6",
       "version_major": 2,
       "version_minor": 0
      },
      "text/plain": [
       "HBox(children=(FloatProgress(value=0.0, max=6.0), HTML(value='')))"
      ]
     },
     "metadata": {},
     "output_type": "display_data"
    },
    {
     "name": "stdout",
     "output_type": "stream",
     "text": [
      "\n",
      "       actual_median  actual_mean  actual_std\n",
      "N_var                                        \n",
      "2             2.7690       3.1004    0.856344\n",
      "3             6.8465       6.8672    1.633656\n",
      "4             9.8850       9.6823    1.981255\n",
      "5            12.8400      12.3691    3.436759\n",
      "6            16.0865      17.6909    4.822709\n",
      "7            19.5800      21.0264    7.012014\n",
      "       sim_median   sim_mean    sim_std\n",
      "N_var                                  \n",
      "2        6.622843   6.668116   2.050813\n",
      "3       11.071151  11.622802   3.370313\n",
      "4       15.938436  17.631330   6.479887\n",
      "5       20.777253  24.260350  10.274637\n",
      "6       26.413540  31.346066  13.665385\n",
      "7       31.191304  38.983996  18.687033\n"
     ]
    },
    {
     "data": {
      "image/png": "[encoded data removed]",
      "text/plain": [
       "<Figure size 432x288 with 1 Axes>"
      ]
     },
     "metadata": {},
     "output_type": "display_data"
    }
   ],
   "source": [
    "show_results(simulate_many(model))"
   ]
  },
  {
   "cell_type": "code",
   "execution_count": 22,
   "metadata": {
    "ExecuteTime": {
     "end_time": "2020-05-01T21:33:54.515682Z",
     "start_time": "2020-05-01T21:33:39.767617Z"
    }
   },
   "outputs": [
    {
     "data": {
      "application/vnd.jupyter.widget-view+json": {
       "model_id": "d288dd385b994f16b700a42c85082fb2",
       "version_major": 2,
       "version_minor": 0
      },
      "text/plain": [
       "HBox(children=(FloatProgress(value=0.0, max=6.0), HTML(value='')))"
      ]
     },
     "metadata": {},
     "output_type": "display_data"
    },
    {
     "name": "stdout",
     "output_type": "stream",
     "text": [
      "\n",
      "       actual_median  actual_mean  actual_std\n",
      "N_var                                        \n",
      "2             2.7690       3.1004    0.856344\n",
      "3             6.8465       6.8672    1.633656\n",
      "4             9.8850       9.6823    1.981255\n",
      "5            12.8400      12.3691    3.436759\n",
      "6            16.0865      17.6909    4.822709\n",
      "7            19.5800      21.0264    7.012014\n",
      "       sim_median   sim_mean   sim_std\n",
      "N_var                                 \n",
      "2        2.975122   2.911501  1.262706\n",
      "3        4.960077   5.291601  1.892244\n",
      "4        7.300668   8.262322  3.540583\n",
      "5        9.479843  10.594427  4.329399\n",
      "6       12.144700  14.159629  5.865160\n",
      "7       14.155668  17.445018  8.317524\n"
     ]
    },
    {
     "data": {
      "image/png": "[encoded data removed]",
      "text/plain": [
       "<Figure size 432x288 with 1 Axes>"
      ]
     },
     "metadata": {},
     "output_type": "display_data"
    }
   ],
   "source": [
    "show_results(simulate_many(guide))"
   ]
  },
  {
   "cell_type": "code",
   "execution_count": 23,
   "metadata": {
    "ExecuteTime": {
     "end_time": "2020-05-01T21:33:54.745413Z",
     "start_time": "2020-05-01T21:33:54.522653Z"
    }
   },
   "outputs": [
    {
     "data": {
      "text/plain": [
       "Text(0, 0.5, 'Response time (s)')"
      ]
     },
     "execution_count": 23,
     "metadata": {},
     "output_type": "execute_result"
    },
    {
     "data": {
      "image/png": "[encoded data removed]",
      "text/plain": [
       "<Figure size 432x288 with 1 Axes>"
      ]
     },
     "metadata": {},
     "output_type": "display_data"
    }
   ],
   "source": [
    "ax = sns.swarmplot(data=results, x='N_var', y='response_time')\n",
    "ax.set_ylabel('Response time (s)')"
   ]
  }
 ],
 "metadata": {
  "kernelspec": {
   "display_name": "Python 3",
   "language": "python",
   "name": "python3"
  },
  "language_info": {
   "codemirror_mode": {
    "name": "ipython",
    "version": 3
   },
   "file_extension": ".py",
   "mimetype": "text/x-python",
   "name": "python",
   "nbconvert_exporter": "python",
   "pygments_lexer": "ipython3",
   "version": "3.7.7"
  },
  "toc": {
   "base_numbering": 1,
   "nav_menu": {},
   "number_sections": true,
   "sideBar": true,
   "skip_h1_title": false,
   "title_cell": "Table of Contents",
   "title_sidebar": "Contents",
   "toc_cell": false,
   "toc_position": {},
   "toc_section_display": true,
   "toc_window_display": false
  },
  "varInspector": {
   "cols": {
    "lenName": 16,
    "lenType": 16,
    "lenVar": 40
   },
   "kernels_config": {
    "python": {
     "delete_cmd_postfix": "",
     "delete_cmd_prefix": "del ",
     "library": "var_list.py",
     "varRefreshCmd": "print(var_dic_list())"
    },
    "r": {
     "delete_cmd_postfix": ") ",
     "delete_cmd_prefix": "rm(",
     "library": "var_list.r",
     "varRefreshCmd": "cat(var_dic_list()) "
    }
   },
   "types_to_exclude": [
    "module",
    "function",
    "builtin_function_or_method",
    "instance",
    "_Feature"
   ],
   "window_display": false
  }
 },
 "nbformat": 4,
 "nbformat_minor": 4
}
