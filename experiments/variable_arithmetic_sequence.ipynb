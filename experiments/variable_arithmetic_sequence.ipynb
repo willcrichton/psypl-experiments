{
 "cells": [
  {
   "cell_type": "code",
   "execution_count": 1,
   "metadata": {
    "ExecuteTime": {
     "end_time": "2020-04-22T23:53:32.027653Z",
     "start_time": "2020-04-22T23:53:32.007728Z"
    }
   },
   "outputs": [],
   "source": [
    "%load_ext autoreload\n",
    "%autoreload 2"
   ]
  },
  {
   "cell_type": "code",
   "execution_count": 2,
   "metadata": {
    "ExecuteTime": {
     "end_time": "2020-04-22T23:53:33.129834Z",
     "start_time": "2020-04-22T23:53:32.029686Z"
    }
   },
   "outputs": [],
   "source": [
    "from model import *\n",
    "from pickle_cache import PickleCache\n",
    "import pandas as pd\n",
    "from experiment_widgets import VariableArithmeticSequenceExperiment\n",
    "import json\n",
    "from random import sample, randint, choices\n",
    "import string\n",
    "import matplotlib.pyplot as plt \n",
    "import seaborn as sns\n",
    "from enum import Enum\n",
    "from itertools import permutations\n",
    "\n",
    "sns.set()\n",
    "pcache = PickleCache()"
   ]
  },
  {
   "cell_type": "code",
   "execution_count": 3,
   "metadata": {
    "ExecuteTime": {
     "end_time": "2020-04-22T23:53:33.164119Z",
     "start_time": "2020-04-22T23:53:33.132358Z"
    }
   },
   "outputs": [],
   "source": [
    "all_names = string.ascii_lowercase\n",
    "all_operators = ['+', '-']\n",
    "\n",
    "def generate_expression(variables):\n",
    "    if len(variables) == 0:\n",
    "        value = randint(1, 9)\n",
    "        return str(value), value\n",
    "    elif len(variables) == 1:\n",
    "        rhs = randint(1, 9)\n",
    "        op = choice(all_operators)\n",
    "        expression = f\"{variables[0]['variable']} {op} {rhs}\"\n",
    "        value = eval(f\"{variables[0]['value']} {op} {rhs}\")\n",
    "        return expression, value\n",
    "    else:\n",
    "        [lhs, rhs] = sample(variables, k=2)\n",
    "        op = choice(all_operators)\n",
    "        expression = f\"{lhs['variable']} {op} {rhs['variable']}\"\n",
    "        value = eval(f\"{lhs['value']} {op} {rhs['value']}\")\n",
    "        return expression, value\n",
    "\n",
    "def generate_trial():\n",
    "    K = 10\n",
    "    names = sample(all_names, k=K)\n",
    "    variables = []\n",
    "    for i in range(K):\n",
    "        expression, value = generate_expression(variables)\n",
    "        variables.append({\n",
    "            'variable': names[i],\n",
    "            'expression': expression,\n",
    "            'value': value\n",
    "        })\n",
    "    \n",
    "    return {\n",
    "        'variables': variables, \n",
    "        'wait_time': 1000\n",
    "    }\n",
    "\n",
    "def exp_name(N_trials):\n",
    "    return f'vararithseq_{N_trials}'"
   ]
  },
  {
   "cell_type": "code",
   "execution_count": 4,
   "metadata": {
    "ExecuteTime": {
     "end_time": "2020-04-22T23:53:33.208408Z",
     "start_time": "2020-04-22T23:53:33.166404Z"
    },
    "scrolled": false
   },
   "outputs": [
    {
     "data": {
      "application/vnd.jupyter.widget-view+json": {
       "model_id": "26c59654c0bf4dbebc1b5ab3fc8fd12a",
       "version_major": 2,
       "version_minor": 0
      },
      "text/plain": [
       "VariableArithmeticSequenceExperiment(experiment='{\"trials\": [{\"variables\": [{\"variable\": \"k\", \"expression\": \"2…"
      ]
     },
     "metadata": {},
     "output_type": "display_data"
    }
   ],
   "source": [
    "N_trials = 10\n",
    "\n",
    "experiment = {\n",
    "    'trials': [generate_trial() for _ in range(N_trials)],\n",
    "    'between_trials_time': 1000\n",
    "}\n",
    "\n",
    "exp = VariableArithmeticSequenceExperiment(experiment=json.dumps(experiment), results='[]')\n",
    "\n",
    "def on_result_change(_):\n",
    "    pcache.set(exp_name(N_trials), {\n",
    "        'experiment': experiment,\n",
    "        'results': json.loads(exp.results)\n",
    "    })\n",
    "    \n",
    "#exp.observe(on_result_change)\n",
    "\n",
    "exp"
   ]
  },
  {
   "cell_type": "code",
   "execution_count": 5,
   "metadata": {
    "ExecuteTime": {
     "end_time": "2020-04-22T23:53:33.442249Z",
     "start_time": "2020-04-22T23:53:33.210513Z"
    }
   },
   "outputs": [
    {
     "data": {
      "text/plain": [
       "Text(0.5, 1.0, 'Distribution of errors across stages')"
      ]
     },
     "execution_count": 5,
     "metadata": {},
     "output_type": "execute_result"
    },
    {
     "data": {
      "image/png": "[encoded data removed]",
      "text/plain": [
       "<Figure size 432x288 with 1 Axes>"
      ]
     },
     "metadata": {},
     "output_type": "display_data"
    }
   ],
   "source": [
    "data = pcache.get(exp_name(N_trials))\n",
    "experiment = data['experiment']\n",
    "results = [r['response'] for r in data['results']]\n",
    "\n",
    "\n",
    "ax = pd.Series([r['i'] for r in results]).plot.hist()\n",
    "ax.set_xticks(list(range(0, 5)))\n",
    "ax.set_xlabel('Number of variables seen')\n",
    "ax.set_ylabel('Frequency of errors')\n",
    "ax.set_title('Distribution of errors across stages')"
   ]
  },
  {
   "cell_type": "code",
   "execution_count": 6,
   "metadata": {
    "ExecuteTime": {
     "end_time": "2020-04-22T23:53:33.474450Z",
     "start_time": "2020-04-22T23:53:33.444187Z"
    }
   },
   "outputs": [],
   "source": [
    "class ErrorType(Enum):\n",
    "    Substitution = 1\n",
    "    Calculation = 2\n",
    "    \n",
    "def analyze_error(variables, expression, guess):\n",
    "    possible_values = [v['value'] for v in variables]\n",
    "    ast = parse(expression).statements[0].value\n",
    "    if len(variables) == 0:\n",
    "        return ErrorType.Calculation\n",
    "    \n",
    "    op = ast.operator\n",
    "    for (a, b) in permutations(possible_values, 2):\n",
    "        if op.eval(a, b) == guess:\n",
    "            return ErrorType.Substitution\n",
    "    return ErrorType.Calculation\n",
    "    \n",
    "def process_results(experiment, results):\n",
    "    df = []    \n",
    "    for (trial, result) in zip(experiment['trials'], results):\n",
    "        variables = trial['variables']\n",
    "        i = result['i']\n",
    "        error = analyze_error(variables[:i], variables[i]['expression'], result['value'])\n",
    "        df.append({\n",
    "            'stage': i,\n",
    "            'error': error \n",
    "        })\n",
    "    return pd.DataFrame(df)\n"
   ]
  },
  {
   "cell_type": "code",
   "execution_count": 7,
   "metadata": {
    "ExecuteTime": {
     "end_time": "2020-04-22T23:53:33.510963Z",
     "start_time": "2020-04-22T23:53:33.476137Z"
    }
   },
   "outputs": [],
   "source": [
    "df = process_results(experiment, results)"
   ]
  },
  {
   "cell_type": "code",
   "execution_count": 8,
   "metadata": {
    "ExecuteTime": {
     "end_time": "2020-04-22T23:53:34.151135Z",
     "start_time": "2020-04-22T23:53:33.516597Z"
    }
   },
   "outputs": [
    {
     "data": {
      "image/png": "[encoded data removed]",
      "text/plain": [
       "<Figure size 720x360 with 2 Axes>"
      ]
     },
     "metadata": {},
     "output_type": "display_data"
    }
   ],
   "source": [
    "def plot_errors(df):\n",
    "    bins = list(range(11))\n",
    "    g = sns.FacetGrid(data=df, col='error', height=5, xlim=(bins[0], bins[-1]), \n",
    "                      col_order=[ErrorType.Substitution, ErrorType.Calculation])\n",
    "    g.map(plt.hist, 'stage', bins=bins)\n",
    "    g.set(xticks=bins)\n",
    "    g.set_xticklabels(bins)\n",
    "    \n",
    "plot_errors(df)    "
   ]
  },
  {
   "cell_type": "code",
   "execution_count": 15,
   "metadata": {
    "ExecuteTime": {
     "end_time": "2020-04-22T23:55:11.915051Z",
     "start_time": "2020-04-22T23:55:03.738985Z"
    }
   },
   "outputs": [
    {
     "data": {
      "image/png": "[encoded data removed]",
      "text/plain": [
       "<Figure size 720x360 with 2 Axes>"
      ]
     },
     "metadata": {},
     "output_type": "display_data"
    }
   ],
   "source": [
    "def model(trial):\n",
    "    wm = WorkingMemory()\n",
    "    \n",
    "    for i, var in enumerate(trial['variables']):\n",
    "        name = var['variable']\n",
    "        stmt = parse(f\"{name} = {var['expression']}\").statements[0]\n",
    "        trace_stmt(stmt, wm)        \n",
    "        response = wm.fetch_var(name)\n",
    "        response = response if response is not None else guess()\n",
    "        if response != var['value']:\n",
    "            return {\n",
    "                'i': i,\n",
    "                'value': response\n",
    "            }\n",
    "    \n",
    "    return {'i': i, 'value': 0}\n",
    "        \n",
    "#data = pcache.get(exp_name(N_trials))\n",
    "#trials = data['experiment']['trials']\n",
    "trials = [generate_trial() for _ in range(1000)]\n",
    "results = [model(trial) for trial in trials]\n",
    "df_sim = process_results({'trials': trials}, results)\n",
    "plot_errors(df_sim)"
   ]
  }
 ],
 "metadata": {
  "kernelspec": {
   "display_name": "Python 3",
   "language": "python",
   "name": "python3"
  },
  "language_info": {
   "codemirror_mode": {
    "name": "ipython",
    "version": 3
   },
   "file_extension": ".py",
   "mimetype": "text/x-python",
   "name": "python",
   "nbconvert_exporter": "python",
   "pygments_lexer": "ipython3",
   "version": "3.7.7"
  },
  "toc": {
   "base_numbering": 1,
   "nav_menu": {},
   "number_sections": true,
   "sideBar": true,
   "skip_h1_title": false,
   "title_cell": "Table of Contents",
   "title_sidebar": "Contents",
   "toc_cell": false,
   "toc_position": {},
   "toc_section_display": true,
   "toc_window_display": false
  },
  "varInspector": {
   "cols": {
    "lenName": 16,
    "lenType": 16,
    "lenVar": 40
   },
   "kernels_config": {
    "python": {
     "delete_cmd_postfix": "",
     "delete_cmd_prefix": "del ",
     "library": "var_list.py",
     "varRefreshCmd": "print(var_dic_list())"
    },
    "r": {
     "delete_cmd_postfix": ") ",
     "delete_cmd_prefix": "rm(",
     "library": "var_list.r",
     "varRefreshCmd": "cat(var_dic_list()) "
    }
   },
   "types_to_exclude": [
    "module",
    "function",
    "builtin_function_or_method",
    "instance",
    "_Feature"
   ],
   "window_display": false
  }
 },
 "nbformat": 4,
 "nbformat_minor": 4
}
