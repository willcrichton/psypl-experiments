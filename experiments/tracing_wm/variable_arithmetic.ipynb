{
 "cells": [
  {
   "cell_type": "markdown",
   "metadata": {},
   "source": [
    "# Impact of variable lookups on working memory\n",
    "\n",
    "This experiment evalutes the impact of remembering variable <-> value mappings in mentally computing arithmetic expressions. The participant is repeatedly provided expressions like:\n",
    "\n",
    "```\n",
    "x = 1\n",
    "y = 1\n",
    "\n",
    "x - 2 + y + 4 - 1 - y + y + x\n",
    "```\n",
    "\n",
    "The response is measured for duration and correctness. Specifically, we generate arithmetic expressions with 4 variable lookups, 4 constants, and 7 binary operations (either addition or subtraction). In each condition, the number of unique variables is varied from 1 to 8 (the example above has 2 unique variables). Each condition was run 10 times on a random expression with only Will as the participant.\n",
    "\n",
    "**Hypothesis:** the average duration should increase nonlinearly with the number of variables in the expression due to working memory load in looking up variables."
   ]
  },
  {
   "cell_type": "code",
   "execution_count": 3,
   "metadata": {
    "ExecuteTime": {
     "end_time": "2019-11-04T03:35:48.719902Z",
     "start_time": "2019-11-04T03:35:47.882674Z"
    }
   },
   "outputs": [],
   "source": [
    "from IPython.core.display import display, HTML, clear_output\n",
    "from code_diff import Code\n",
    "import ipywidgets as widgets\n",
    "from timeit import default_timer as now\n",
    "import random\n",
    "from random import choice, randint\n",
    "import ast\n",
    "import showast\n",
    "import astor\n",
    "import pandas as pd\n",
    "from scipy.stats import f_oneway\n",
    "a2s = astor.to_source"
   ]
  },
  {
   "cell_type": "markdown",
   "metadata": {},
   "source": [
    "# Method\n",
    "This code implements the expression generation and experiment UI."
   ]
  },
  {
   "cell_type": "code",
   "execution_count": 7,
   "metadata": {
    "ExecuteTime": {
     "end_time": "2019-10-21T17:01:05.218240Z",
     "start_time": "2019-10-21T17:01:05.212394Z"
    }
   },
   "outputs": [],
   "source": [
    "class Expr:\n",
    "    def __init__(self, assignments, expr, params):\n",
    "        self.assignments = assignments\n",
    "        self.expr = expr\n",
    "        self.params = params\n",
    "        \n",
    "    def to_string(self):\n",
    "        return '\\n'.join(self.assignments), ' '.join(self.expr)[:-1]\n",
    "    \n",
    "    def eval_expr(self):\n",
    "        ctx, expr = self.to_string()\n",
    "        ctx2 = '\\n\\t'.join(ctx.split('\\n'))\n",
    "        exec(f'def p():\\n\\t{ctx2}\\n\\treturn {expr}\\nret = p()', globals())\n",
    "        return ret "
   ]
  },
  {
   "cell_type": "code",
   "execution_count": 8,
   "metadata": {
    "ExecuteTime": {
     "end_time": "2019-10-21T17:01:05.481212Z",
     "start_time": "2019-10-21T17:01:05.472118Z"
    }
   },
   "outputs": [],
   "source": [
    "class ExprGenerator:\n",
    "    def __init__(self, cnst_count, vr_count):\n",
    "        self.vrs = ['a', 'b', 'c', 'd', 'e', 'f', 'g', 'h']\n",
    "        self.cnst_count = cnst_count\n",
    "        self.vr_count = vr_count\n",
    "        self.ops = ['+', '-']\n",
    "        \n",
    "    def gen(self, distinct_vrs):\n",
    "        random.shuffle(self.vrs)\n",
    "        vrs = self.vrs[:distinct_vrs]\n",
    "        vr_assgn = [f'{vr} = {randint(1, 8)}' for vr in vrs]        \n",
    "        assert self.vr_count >= distinct_vrs\n",
    "        values = vrs + [choice(vrs) for _ in range(self.vr_count - distinct_vrs)] \\\n",
    "            + [randint(1, 8) for _ in range(self.cnst_count)]\n",
    "        random.shuffle(values)\n",
    "        expr = [f'{v} {choice(self.ops)}' for v in values]\n",
    "        assign_str = '\\n'.join(vr_assgn)\n",
    "        expr_str = ' '.join(expr)[:-1]\n",
    "        return Expr(vr_assgn, expr, \n",
    "                    {'cnst_count': self.cnst_count, 'vr_count': self.vr_count, 'distinct_vrs': distinct_vrs})"
   ]
  },
  {
   "cell_type": "code",
   "execution_count": 9,
   "metadata": {
    "ExecuteTime": {
     "end_time": "2019-10-21T17:01:05.832956Z",
     "start_time": "2019-10-21T17:01:05.825409Z"
    }
   },
   "outputs": [],
   "source": [
    "def tracing_test(expr, results):    \n",
    "    ctx_str, expr_str = expr.to_string()\n",
    "    next_btn = widgets.Button(description='Next')\n",
    "\n",
    "    def on_next(_):\n",
    "        clear_output()\n",
    "    \n",
    "        start = now()\n",
    "        entry = widgets.Text(placeholder='Answer here...')\n",
    "\n",
    "        def on_submit(_):\n",
    "            duration = now() - start\n",
    "            value = entry.value\n",
    "            results.append({\n",
    "                'expr': expr,\n",
    "                'guess': value, \n",
    "                'duration': duration\n",
    "            })\n",
    "            clear_output()\n",
    "\n",
    "        entry.on_submit(on_submit)\n",
    "    \n",
    "        code = f'{ctx_str}\\n\\n{expr_str}'\n",
    "        display(Code(code=code))\n",
    "        display(widgets.HTML('Compute the value of the expression above.'))\n",
    "        display(entry)\n",
    "        \n",
    "    next_btn.on_click(on_next)\n",
    "    display(Code(code=ctx_str))\n",
    "    display(next_btn)"
   ]
  },
  {
   "cell_type": "code",
   "execution_count": 10,
   "metadata": {
    "ExecuteTime": {
     "end_time": "2019-10-21T17:01:06.169864Z",
     "start_time": "2019-10-21T17:01:06.166990Z"
    }
   },
   "outputs": [],
   "source": [
    "results = []"
   ]
  },
  {
   "cell_type": "code",
   "execution_count": 14,
   "metadata": {
    "ExecuteTime": {
     "end_time": "2019-10-21T17:03:05.228610Z",
     "start_time": "2019-10-21T17:03:05.210800Z"
    }
   },
   "outputs": [
    {
     "data": {
      "application/vnd.jupyter.widget-view+json": {
       "model_id": "bcc2c8aee76a4e9fb1bdd6e148310c14",
       "version_major": 2,
       "version_minor": 0
      },
      "text/plain": [
       "Code(code='d = 8\\n\\n8 + 6 + d - 4 + d + d + d + 5 ')"
      ]
     },
     "metadata": {},
     "output_type": "display_data"
    },
    {
     "data": {
      "application/vnd.jupyter.widget-view+json": {
       "model_id": "15452024b1674734b5359dfb64119b81",
       "version_major": 2,
       "version_minor": 0
      },
      "text/plain": [
       "HTML(value='Compute the value of the expression above.')"
      ]
     },
     "metadata": {},
     "output_type": "display_data"
    },
    {
     "data": {
      "application/vnd.jupyter.widget-view+json": {
       "model_id": "2238b5f3bc4d41328b39f36f072545be",
       "version_major": 2,
       "version_minor": 0
      },
      "text/plain": [
       "Text(value='', placeholder='Answer here...')"
      ]
     },
     "metadata": {},
     "output_type": "display_data"
    }
   ],
   "source": [
    "expr = ExprGenerator(cnst_count=4, vr_count=4).gen(distinct_vrs=1)\n",
    "tracing_test(expr, results)"
   ]
  },
  {
   "cell_type": "code",
   "execution_count": 209,
   "metadata": {
    "ExecuteTime": {
     "end_time": "2019-10-10T18:06:15.026312Z",
     "start_time": "2019-10-10T18:06:15.023345Z"
    }
   },
   "outputs": [],
   "source": [
    "onevar_results = results"
   ]
  },
  {
   "cell_type": "code",
   "execution_count": 12,
   "metadata": {
    "ExecuteTime": {
     "end_time": "2019-10-21T17:01:36.535523Z",
     "start_time": "2019-10-21T17:01:36.532927Z"
    }
   },
   "outputs": [],
   "source": [
    "fourvar_results = []"
   ]
  },
  {
   "cell_type": "code",
   "execution_count": 13,
   "metadata": {
    "ExecuteTime": {
     "end_time": "2019-10-21T17:01:36.683180Z",
     "start_time": "2019-10-21T17:01:36.669129Z"
    }
   },
   "outputs": [
    {
     "data": {
      "application/vnd.jupyter.widget-view+json": {
       "model_id": "08435472b97a4db0b22133e01cbcd26e",
       "version_major": 2,
       "version_minor": 0
      },
      "text/plain": [
       "Code(code='a = 6\\nd = 7\\nb = 3\\nc = 3\\n\\n1 - b - 8 + c - 3 + a + 4 - d ')"
      ]
     },
     "metadata": {},
     "output_type": "display_data"
    },
    {
     "data": {
      "application/vnd.jupyter.widget-view+json": {
       "model_id": "5f7a6891bded4626bada8b333fde4c83",
       "version_major": 2,
       "version_minor": 0
      },
      "text/plain": [
       "HTML(value='Compute the value of the expression above.')"
      ]
     },
     "metadata": {},
     "output_type": "display_data"
    },
    {
     "data": {
      "application/vnd.jupyter.widget-view+json": {
       "model_id": "d00fcb3de2e546c1823ffc6939469d33",
       "version_major": 2,
       "version_minor": 0
      },
      "text/plain": [
       "Text(value='', placeholder='Answer here...')"
      ]
     },
     "metadata": {},
     "output_type": "display_data"
    }
   ],
   "source": [
    "expr = ExprGenerator(cnst_count=4, vr_count=4).gen(distinct_vrs=4)\n",
    "tracing_test(expr, fourvar_results)"
   ]
  },
  {
   "cell_type": "code",
   "execution_count": 225,
   "metadata": {
    "ExecuteTime": {
     "end_time": "2019-10-10T18:11:20.864379Z",
     "start_time": "2019-10-10T18:11:20.861278Z"
    }
   },
   "outputs": [],
   "source": [
    "twovar_results = []"
   ]
  },
  {
   "cell_type": "code",
   "execution_count": 240,
   "metadata": {
    "ExecuteTime": {
     "end_time": "2019-10-10T18:14:21.133781Z",
     "start_time": "2019-10-10T18:14:21.116203Z"
    }
   },
   "outputs": [],
   "source": [
    "expr = ExprGenerator(cnst_count=4, vr_count=4).gen(distinct_vrs=2)\n",
    "tracing_test(expr, twovar_results)"
   ]
  },
  {
   "cell_type": "code",
   "execution_count": 286,
   "metadata": {
    "ExecuteTime": {
     "end_time": "2019-10-10T18:22:48.098502Z",
     "start_time": "2019-10-10T18:22:48.093900Z"
    }
   },
   "outputs": [],
   "source": [
    "def to_df(res, nv):\n",
    "    for r in res:\n",
    "        r['answer'] = r['expr'].eval_expr()\n",
    "        r['correct'] = 1. if r['answer'] == int(r['guess']) else 0.\n",
    "        r['distinct_vrs'] = nv\n",
    "    return pd.DataFrame(res).drop('expr', 1)"
   ]
  },
  {
   "cell_type": "code",
   "execution_count": 287,
   "metadata": {
    "ExecuteTime": {
     "end_time": "2019-10-10T18:22:48.486847Z",
     "start_time": "2019-10-10T18:22:48.474227Z"
    }
   },
   "outputs": [],
   "source": [
    "all_results = {1: onevar_results, 2: twovar_results, 4: fourvar_results}\n",
    "all_results = [to_df(v, k) for k, v in all_results.items()]"
   ]
  },
  {
   "cell_type": "code",
   "execution_count": 288,
   "metadata": {
    "ExecuteTime": {
     "end_time": "2019-10-10T18:22:48.725151Z",
     "start_time": "2019-10-10T18:22:48.719871Z"
    }
   },
   "outputs": [],
   "source": [
    "result_df = pd.concat(all_results)"
   ]
  },
  {
   "cell_type": "markdown",
   "metadata": {},
   "source": [
    "# Results\n",
    "\n",
    "The results are shown below. `duration` is the time to complete the task, and `correct` is `1` if correct and `0` if incorrect. `distinct_vrs` is the unique number of variables. Below is the per-treatment mean of each measurement. Findings:\n",
    "\n",
    "* The average duration for the 4 variable condition appears significantly higher than 1 or 2, suggesting that there is a non-linear increase in mental work consistent with high load on working memory.\n",
    "* The mean correctness also significantly decreases in the 4 variable case."
   ]
  },
  {
   "cell_type": "code",
   "execution_count": 363,
   "metadata": {
    "ExecuteTime": {
     "end_time": "2019-10-14T17:50:51.067263Z",
     "start_time": "2019-10-14T17:50:51.026425Z"
    }
   },
   "outputs": [
    {
     "data": {
      "text/html": [
       "<div>\n",
       "<style scoped>\n",
       "    .dataframe tbody tr th:only-of-type {\n",
       "        vertical-align: middle;\n",
       "    }\n",
       "\n",
       "    .dataframe tbody tr th {\n",
       "        vertical-align: top;\n",
       "    }\n",
       "\n",
       "    .dataframe thead th {\n",
       "        text-align: right;\n",
       "    }\n",
       "</style>\n",
       "<table border=\"1\" class=\"dataframe\">\n",
       "  <thead>\n",
       "    <tr style=\"text-align: right;\">\n",
       "      <th></th>\n",
       "      <th>duration</th>\n",
       "      <th>answer</th>\n",
       "      <th>correct</th>\n",
       "    </tr>\n",
       "    <tr>\n",
       "      <th>distinct_vrs</th>\n",
       "      <th></th>\n",
       "      <th></th>\n",
       "      <th></th>\n",
       "    </tr>\n",
       "  </thead>\n",
       "  <tbody>\n",
       "    <tr>\n",
       "      <td>1</td>\n",
       "      <td>11.060034</td>\n",
       "      <td>3.8</td>\n",
       "      <td>0.9</td>\n",
       "    </tr>\n",
       "    <tr>\n",
       "      <td>2</td>\n",
       "      <td>10.910329</td>\n",
       "      <td>2.9</td>\n",
       "      <td>0.9</td>\n",
       "    </tr>\n",
       "    <tr>\n",
       "      <td>4</td>\n",
       "      <td>15.892765</td>\n",
       "      <td>7.7</td>\n",
       "      <td>0.6</td>\n",
       "    </tr>\n",
       "  </tbody>\n",
       "</table>\n",
       "</div>"
      ],
      "text/plain": [
       "               duration  answer  correct\n",
       "distinct_vrs                            \n",
       "1             11.060034     3.8      0.9\n",
       "2             10.910329     2.9      0.9\n",
       "4             15.892765     7.7      0.6"
      ]
     },
     "execution_count": 363,
     "metadata": {},
     "output_type": "execute_result"
    }
   ],
   "source": [
    "result_df.groupby('distinct_vrs').mean()"
   ]
  },
  {
   "cell_type": "markdown",
   "metadata": {},
   "source": [
    "Looking at the durations graphically, we can see that the distribution of duration is significantly different from the other two conditions."
   ]
  },
  {
   "cell_type": "code",
   "execution_count": 310,
   "metadata": {
    "ExecuteTime": {
     "end_time": "2019-10-10T18:31:48.979990Z",
     "start_time": "2019-10-10T18:31:48.775869Z"
    }
   },
   "outputs": [
    {
     "data": {
      "text/plain": [
       "<matplotlib.axes._subplots.AxesSubplot at 0x121ab5630>"
      ]
     },
     "execution_count": 310,
     "metadata": {},
     "output_type": "execute_result"
    },
    {
     "data": {
      "image/png": "[encoded data removed]",
      "text/plain": [
       "<Figure size 432x288 with 1 Axes>"
      ]
     },
     "metadata": {
      "needs_background": "light"
     },
     "output_type": "display_data"
    }
   ],
   "source": [
    "result_df.boxplot('duration', by=['distinct_vrs'])"
   ]
  }
 ],
 "metadata": {
  "kernelspec": {
   "display_name": "Python 3",
   "language": "python",
   "name": "python3"
  },
  "language_info": {
   "codemirror_mode": {
    "name": "ipython",
    "version": 3
   },
   "file_extension": ".py",
   "mimetype": "text/x-python",
   "name": "python",
   "nbconvert_exporter": "python",
   "pygments_lexer": "ipython3",
   "version": "3.7.3"
  },
  "toc": {
   "base_numbering": 1,
   "nav_menu": {},
   "number_sections": true,
   "sideBar": true,
   "skip_h1_title": false,
   "title_cell": "Table of Contents",
   "title_sidebar": "Contents",
   "toc_cell": false,
   "toc_position": {},
   "toc_section_display": true,
   "toc_window_display": false
  },
  "varInspector": {
   "cols": {
    "lenName": 16,
    "lenType": 16,
    "lenVar": 40
   },
   "kernels_config": {
    "python": {
     "delete_cmd_postfix": "",
     "delete_cmd_prefix": "del ",
     "library": "var_list.py",
     "varRefreshCmd": "print(var_dic_list())"
    },
    "r": {
     "delete_cmd_postfix": ") ",
     "delete_cmd_prefix": "rm(",
     "library": "var_list.r",
     "varRefreshCmd": "cat(var_dic_list()) "
    }
   },
   "types_to_exclude": [
    "module",
    "function",
    "builtin_function_or_method",
    "instance",
    "_Feature"
   ],
   "window_display": false
  }
 },
 "nbformat": 4,
 "nbformat_minor": 2
}
