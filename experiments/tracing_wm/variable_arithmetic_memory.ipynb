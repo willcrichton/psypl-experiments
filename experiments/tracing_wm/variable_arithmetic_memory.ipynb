{
 "cells": [
  {
   "cell_type": "code",
   "execution_count": 1,
   "metadata": {
    "ExecuteTime": {
     "end_time": "2020-05-14T22:37:45.925865Z",
     "start_time": "2020-05-14T22:37:45.898811Z"
    }
   },
   "outputs": [],
   "source": [
    "%load_ext autoreload\n",
    "%autoreload 2"
   ]
  },
  {
   "cell_type": "code",
   "execution_count": 2,
   "metadata": {
    "ExecuteTime": {
     "end_time": "2020-05-14T22:37:47.775757Z",
     "start_time": "2020-05-14T22:37:45.928403Z"
    }
   },
   "outputs": [],
   "source": [
    "from model import *\n",
    "from pickle_cache import PickleCache\n",
    "import pandas as pd\n",
    "from experiment_widgets import VariableArithmeticMemoryExperiment\n",
    "import json\n",
    "from random import sample, randint, choices\n",
    "import string\n",
    "import matplotlib.pyplot as plt \n",
    "import seaborn as sns\n",
    "sns.set()\n",
    "\n",
    "pcache = PickleCache()"
   ]
  },
  {
   "cell_type": "code",
   "execution_count": 3,
   "metadata": {
    "ExecuteTime": {
     "end_time": "2020-05-14T22:37:47.820533Z",
     "start_time": "2020-05-14T22:37:47.778360Z"
    }
   },
   "outputs": [],
   "source": [
    "all_names = string.ascii_lowercase\n",
    "all_operators = ['+', '-']\n",
    "\n",
    "def generate_trial(N):\n",
    "    names = sample(all_names, k=N)\n",
    "    variables = [\n",
    "        {'variable': names[i], 'value': randint(1, 9)}\n",
    "        for i in range(N)\n",
    "    ]\n",
    "\n",
    "    expr_var_order = sample(variables, k=len(variables))\n",
    "    operators = choices(all_operators, k=N-1)\n",
    "    expr_list = []\n",
    "    expr_value = expr_var_order[0]['value']\n",
    "    for i in range(N):\n",
    "        if i > 0:\n",
    "            op = operators[i-1]\n",
    "            expr_value = eval(f\"{expr_value} {op} {expr_var_order[i]['value']}\")\n",
    "            expr_list.append(op)\n",
    "        expr_list.append(expr_var_order[i]['variable'])\n",
    "    expr = ' '.join(expr_list)\n",
    "    \n",
    "    return {\n",
    "        'variables': variables, \n",
    "        'expression': expr,\n",
    "        'expression_value': expr_value,\n",
    "        'presentation_time': 500 + N * 1500\n",
    "    }\n",
    "\n",
    "def exp_name(N_var, N_trials):\n",
    "    return f'vararithmem_{N_var}_{N_trials}'"
   ]
  },
  {
   "cell_type": "code",
   "execution_count": 4,
   "metadata": {
    "ExecuteTime": {
     "end_time": "2020-05-14T22:37:47.867583Z",
     "start_time": "2020-05-14T22:37:47.823899Z"
    },
    "scrolled": true
   },
   "outputs": [
    {
     "data": {
      "application/vnd.jupyter.widget-view+json": {
       "model_id": "20260373b038456a837b3c3f4cfb1d0d",
       "version_major": 2,
       "version_minor": 0
      },
      "text/plain": [
       "VariableArithmeticMemoryExperiment(experiment='{\"trials\": [{\"variables\": [{\"variable\": \"r\", \"value\": 6}, {\"var…"
      ]
     },
     "metadata": {},
     "output_type": "display_data"
    }
   ],
   "source": [
    "N_var = 3\n",
    "N_trials = 10\n",
    "\n",
    "\n",
    "experiment = {\n",
    "    'trials': [generate_trial(N_var) for _ in range(N_trials)],\n",
    "    'between_trials_time': 1000\n",
    "}\n",
    "\n",
    "exp = VariableArithmeticMemoryExperiment(experiment=json.dumps(experiment), results='[]')\n",
    "\n",
    "def on_result_change(_):\n",
    "    pcache.set(exp_name(N_var, N_trials), {\n",
    "        'experiment': experiment,\n",
    "        'results': json.loads(exp.results)\n",
    "    })\n",
    "    \n",
    "#exp.observe(on_result_change)\n",
    "\n",
    "exp"
   ]
  },
  {
   "cell_type": "code",
   "execution_count": 5,
   "metadata": {
    "ExecuteTime": {
     "end_time": "2020-05-14T22:37:47.901695Z",
     "start_time": "2020-05-14T22:37:47.869475Z"
    }
   },
   "outputs": [],
   "source": [
    "def process_results(N_var, N_trials):\n",
    "    data = pcache.get(exp_name(N_var, N_trials))\n",
    "    experiment = data['experiment']\n",
    "    results = data['results']\n",
    "    \n",
    "    correct = 0\n",
    "    for (trial, result) in zip(experiment['trials'], results):\n",
    "        try:\n",
    "            response = int(result['response'])\n",
    "        except ValueError:\n",
    "            continue\n",
    "            \n",
    "        if trial['expression_value'] == response:\n",
    "            correct += 1\n",
    "\n",
    "    return {\n",
    "        'N_var': N_var,\n",
    "        'Correct': correct / N_trials,\n",
    "    }"
   ]
  },
  {
   "cell_type": "code",
   "execution_count": 6,
   "metadata": {
    "ExecuteTime": {
     "end_time": "2020-05-14T22:37:48.155814Z",
     "start_time": "2020-05-14T22:37:47.905381Z"
    }
   },
   "outputs": [
    {
     "data": {
      "text/plain": [
       "<matplotlib.axes._subplots.AxesSubplot at 0x138591850>"
      ]
     },
     "execution_count": 6,
     "metadata": {},
     "output_type": "execute_result"
    },
    {
     "data": {
      "image/png": "[encoded data removed]",
      "text/plain": [
       "<Figure size 432x288 with 1 Axes>"
      ]
     },
     "metadata": {},
     "output_type": "display_data"
    }
   ],
   "source": [
    "all_exp = [2, 3, 4, 5]\n",
    "results = pd.DataFrame([process_results(N_var, 10) for N_var in all_exp])\n",
    "\n",
    "def plot_results(results):\n",
    "    results = results.set_index('N_var')\n",
    "    ax = results.plot.bar()\n",
    "    ax.set_ylabel('Fraction of responses over 10 trials')\n",
    "    return ax\n",
    "\n",
    "    #plt.savefig('var_arith_mem.png', dpi=300)\n",
    "    \n",
    "plot_results(results)"
   ]
  },
  {
   "cell_type": "code",
   "execution_count": 7,
   "metadata": {
    "ExecuteTime": {
     "end_time": "2020-05-14T22:37:50.363853Z",
     "start_time": "2020-05-14T22:37:48.157705Z"
    }
   },
   "outputs": [
    {
     "ename": "TypeError",
     "evalue": "guess_behavior() missing 1 required positional argument: 'wm'",
     "output_type": "error",
     "traceback": [
      "\u001b[0;31m---------------------------------------------------------------------------\u001b[0m",
      "\u001b[0;31mTypeError\u001b[0m                                 Traceback (most recent call last)",
      "\u001b[0;32m<ipython-input-7-a185ec5f0fe0>\u001b[0m in \u001b[0;36m<module>\u001b[0;34m\u001b[0m\n\u001b[1;32m     15\u001b[0m     \u001b[0mcorrect\u001b[0m \u001b[0;34m=\u001b[0m \u001b[0;36m0\u001b[0m\u001b[0;34m\u001b[0m\u001b[0;34m\u001b[0m\u001b[0m\n\u001b[1;32m     16\u001b[0m     \u001b[0;32mfor\u001b[0m \u001b[0mtrial\u001b[0m \u001b[0;32min\u001b[0m \u001b[0mtrials\u001b[0m\u001b[0;34m:\u001b[0m\u001b[0;34m\u001b[0m\u001b[0;34m\u001b[0m\u001b[0m\n\u001b[0;32m---> 17\u001b[0;31m         \u001b[0mcorrect\u001b[0m \u001b[0;34m+=\u001b[0m \u001b[0;36m1\u001b[0m \u001b[0;32mif\u001b[0m \u001b[0mmodel\u001b[0m\u001b[0;34m(\u001b[0m\u001b[0mtrial\u001b[0m\u001b[0;34m)\u001b[0m \u001b[0;32melse\u001b[0m \u001b[0;36m0\u001b[0m\u001b[0;34m\u001b[0m\u001b[0;34m\u001b[0m\u001b[0m\n\u001b[0m\u001b[1;32m     18\u001b[0m     df.append({\n\u001b[1;32m     19\u001b[0m         \u001b[0;34m'N_var'\u001b[0m\u001b[0;34m:\u001b[0m \u001b[0mN_var\u001b[0m\u001b[0;34m,\u001b[0m\u001b[0;34m\u001b[0m\u001b[0;34m\u001b[0m\u001b[0m\n",
      "\u001b[0;32m<ipython-input-7-a185ec5f0fe0>\u001b[0m in \u001b[0;36mmodel\u001b[0;34m(trial)\u001b[0m\n\u001b[1;32m      6\u001b[0m \u001b[0;34m\u001b[0m\u001b[0m\n\u001b[1;32m      7\u001b[0m     \u001b[0mexpr\u001b[0m \u001b[0;34m=\u001b[0m \u001b[0mparse\u001b[0m\u001b[0;34m(\u001b[0m\u001b[0mtrial\u001b[0m\u001b[0;34m[\u001b[0m\u001b[0;34m'expression'\u001b[0m\u001b[0;34m]\u001b[0m\u001b[0;34m)\u001b[0m\u001b[0;34m.\u001b[0m\u001b[0mstatements\u001b[0m\u001b[0;34m[\u001b[0m\u001b[0;36m0\u001b[0m\u001b[0;34m]\u001b[0m\u001b[0;34m.\u001b[0m\u001b[0mvalue\u001b[0m\u001b[0;34m\u001b[0m\u001b[0;34m\u001b[0m\u001b[0m\n\u001b[0;32m----> 8\u001b[0;31m     \u001b[0;32mreturn\u001b[0m \u001b[0mtrace_expr\u001b[0m\u001b[0;34m(\u001b[0m\u001b[0mexpr\u001b[0m\u001b[0;34m,\u001b[0m \u001b[0mwm\u001b[0m\u001b[0;34m)\u001b[0m \u001b[0;34m==\u001b[0m \u001b[0mtrial\u001b[0m\u001b[0;34m[\u001b[0m\u001b[0;34m'expression_value'\u001b[0m\u001b[0;34m]\u001b[0m\u001b[0;34m\u001b[0m\u001b[0;34m\u001b[0m\u001b[0m\n\u001b[0m\u001b[1;32m      9\u001b[0m \u001b[0;34m\u001b[0m\u001b[0m\n\u001b[1;32m     10\u001b[0m \u001b[0mdf\u001b[0m \u001b[0;34m=\u001b[0m \u001b[0;34m[\u001b[0m\u001b[0;34m]\u001b[0m\u001b[0;34m\u001b[0m\u001b[0;34m\u001b[0m\u001b[0m\n",
      "\u001b[0;32m~/Code/psypl-experiments/experiments/model.py\u001b[0m in \u001b[0;36mtrace_expr\u001b[0;34m(expr, wm, lookup_behavior)\u001b[0m\n\u001b[1;32m    246\u001b[0m     \u001b[0;32melif\u001b[0m \u001b[0misinstance\u001b[0m\u001b[0;34m(\u001b[0m\u001b[0mexpr\u001b[0m\u001b[0;34m,\u001b[0m \u001b[0mBinop\u001b[0m\u001b[0;34m)\u001b[0m\u001b[0;34m:\u001b[0m\u001b[0;34m\u001b[0m\u001b[0;34m\u001b[0m\u001b[0m\n\u001b[1;32m    247\u001b[0m         \u001b[0mleft\u001b[0m \u001b[0;34m=\u001b[0m \u001b[0mtrace_expr\u001b[0m\u001b[0;34m(\u001b[0m\u001b[0mexpr\u001b[0m\u001b[0;34m.\u001b[0m\u001b[0mleft\u001b[0m\u001b[0;34m,\u001b[0m \u001b[0mwm\u001b[0m\u001b[0;34m)\u001b[0m\u001b[0;34m\u001b[0m\u001b[0;34m\u001b[0m\u001b[0m\n\u001b[0;32m--> 248\u001b[0;31m         \u001b[0mright\u001b[0m \u001b[0;34m=\u001b[0m \u001b[0mtrace_expr\u001b[0m\u001b[0;34m(\u001b[0m\u001b[0mexpr\u001b[0m\u001b[0;34m.\u001b[0m\u001b[0mright\u001b[0m\u001b[0;34m,\u001b[0m \u001b[0mwm\u001b[0m\u001b[0;34m)\u001b[0m\u001b[0;34m\u001b[0m\u001b[0;34m\u001b[0m\u001b[0m\n\u001b[0m\u001b[1;32m    249\u001b[0m         \u001b[0mresult\u001b[0m \u001b[0;34m=\u001b[0m \u001b[0mexpr\u001b[0m\u001b[0;34m.\u001b[0m\u001b[0moperator\u001b[0m\u001b[0;34m.\u001b[0m\u001b[0meval\u001b[0m\u001b[0;34m(\u001b[0m\u001b[0mleft\u001b[0m\u001b[0;34m,\u001b[0m \u001b[0mright\u001b[0m\u001b[0;34m)\u001b[0m\u001b[0;34m\u001b[0m\u001b[0;34m\u001b[0m\u001b[0m\n\u001b[1;32m    250\u001b[0m         \u001b[0;32mreturn\u001b[0m \u001b[0mresult\u001b[0m\u001b[0;34m\u001b[0m\u001b[0;34m\u001b[0m\u001b[0m\n",
      "\u001b[0;32m~/Code/psypl-experiments/experiments/model.py\u001b[0m in \u001b[0;36mtrace_expr\u001b[0;34m(expr, wm, lookup_behavior)\u001b[0m\n\u001b[1;32m    243\u001b[0m     \u001b[0;32melif\u001b[0m \u001b[0misinstance\u001b[0m\u001b[0;34m(\u001b[0m\u001b[0mexpr\u001b[0m\u001b[0;34m,\u001b[0m \u001b[0mVar\u001b[0m\u001b[0;34m)\u001b[0m\u001b[0;34m:\u001b[0m\u001b[0;34m\u001b[0m\u001b[0;34m\u001b[0m\u001b[0m\n\u001b[1;32m    244\u001b[0m         \u001b[0mval\u001b[0m \u001b[0;34m=\u001b[0m \u001b[0mwm\u001b[0m\u001b[0;34m.\u001b[0m\u001b[0mfetch_var\u001b[0m\u001b[0;34m(\u001b[0m\u001b[0mexpr\u001b[0m\u001b[0;34m.\u001b[0m\u001b[0mvar\u001b[0m\u001b[0;34m)\u001b[0m\u001b[0;34m\u001b[0m\u001b[0;34m\u001b[0m\u001b[0m\n\u001b[0;32m--> 245\u001b[0;31m         \u001b[0;32mreturn\u001b[0m \u001b[0mlookup_behavior\u001b[0m\u001b[0;34m(\u001b[0m\u001b[0;34m)\u001b[0m \u001b[0;32mif\u001b[0m \u001b[0mval\u001b[0m \u001b[0;32mis\u001b[0m \u001b[0;32mNone\u001b[0m \u001b[0;32melse\u001b[0m \u001b[0mval\u001b[0m\u001b[0;34m\u001b[0m\u001b[0;34m\u001b[0m\u001b[0m\n\u001b[0m\u001b[1;32m    246\u001b[0m     \u001b[0;32melif\u001b[0m \u001b[0misinstance\u001b[0m\u001b[0;34m(\u001b[0m\u001b[0mexpr\u001b[0m\u001b[0;34m,\u001b[0m \u001b[0mBinop\u001b[0m\u001b[0;34m)\u001b[0m\u001b[0;34m:\u001b[0m\u001b[0;34m\u001b[0m\u001b[0;34m\u001b[0m\u001b[0m\n\u001b[1;32m    247\u001b[0m         \u001b[0mleft\u001b[0m \u001b[0;34m=\u001b[0m \u001b[0mtrace_expr\u001b[0m\u001b[0;34m(\u001b[0m\u001b[0mexpr\u001b[0m\u001b[0;34m.\u001b[0m\u001b[0mleft\u001b[0m\u001b[0;34m,\u001b[0m \u001b[0mwm\u001b[0m\u001b[0;34m)\u001b[0m\u001b[0;34m\u001b[0m\u001b[0;34m\u001b[0m\u001b[0m\n",
      "\u001b[0;31mTypeError\u001b[0m: guess_behavior() missing 1 required positional argument: 'wm'"
     ]
    }
   ],
   "source": [
    "def model(trial):\n",
    "    wm = WorkingMemory()\n",
    "    \n",
    "    for var in trial['variables']:\n",
    "        wm.store_var_val(var['variable'], var['value'])\n",
    "        \n",
    "    expr = parse(trial['expression']).statements[0].value\n",
    "    return trace_expr(expr, wm) == trial['expression_value']\n",
    "\n",
    "df = []\n",
    "for N_var in all_exp:\n",
    "    #data = pcache.get(exp_name(4, N_trials))\n",
    "    #trials = data['experiment']['trials']\n",
    "    trials = [generate_trial(N_var) for _ in range(1000)]\n",
    "    correct = 0\n",
    "    for trial in trials:\n",
    "        correct += 1 if model(trial) else 0\n",
    "    df.append({\n",
    "        'N_var': N_var,\n",
    "        'correct': correct / len(trials)\n",
    "    })\n",
    "plot_results(pd.DataFrame(df))"
   ]
  }
 ],
 "metadata": {
  "kernelspec": {
   "display_name": "Python 3",
   "language": "python",
   "name": "python3"
  },
  "language_info": {
   "codemirror_mode": {
    "name": "ipython",
    "version": 3
   },
   "file_extension": ".py",
   "mimetype": "text/x-python",
   "name": "python",
   "nbconvert_exporter": "python",
   "pygments_lexer": "ipython3",
   "version": "3.7.7"
  },
  "toc": {
   "base_numbering": 1,
   "nav_menu": {},
   "number_sections": true,
   "sideBar": true,
   "skip_h1_title": false,
   "title_cell": "Table of Contents",
   "title_sidebar": "Contents",
   "toc_cell": false,
   "toc_position": {},
   "toc_section_display": true,
   "toc_window_display": false
  },
  "varInspector": {
   "cols": {
    "lenName": 16,
    "lenType": 16,
    "lenVar": 40
   },
   "kernels_config": {
    "python": {
     "delete_cmd_postfix": "",
     "delete_cmd_prefix": "del ",
     "library": "var_list.py",
     "varRefreshCmd": "print(var_dic_list())"
    },
    "r": {
     "delete_cmd_postfix": ") ",
     "delete_cmd_prefix": "rm(",
     "library": "var_list.r",
     "varRefreshCmd": "cat(var_dic_list()) "
    }
   },
   "types_to_exclude": [
    "module",
    "function",
    "builtin_function_or_method",
    "instance",
    "_Feature"
   ],
   "window_display": false
  }
 },
 "nbformat": 4,
 "nbformat_minor": 4
}
