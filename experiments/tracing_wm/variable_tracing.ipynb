{
 "cells": [
  {
   "cell_type": "code",
   "execution_count": 1,
   "metadata": {
    "ExecuteTime": {
     "end_time": "2020-05-02T00:03:41.877409Z",
     "start_time": "2020-05-02T00:03:41.853270Z"
    }
   },
   "outputs": [],
   "source": [
    "%load_ext autoreload\n",
    "%autoreload 2"
   ]
  },
  {
   "cell_type": "code",
   "execution_count": 2,
   "metadata": {
    "ExecuteTime": {
     "end_time": "2020-05-02T00:03:43.217068Z",
     "start_time": "2020-05-02T00:03:41.879552Z"
    }
   },
   "outputs": [],
   "source": [
    "from model import *\n",
    "from pickle_cache import PickleCache\n",
    "import pandas as pd\n",
    "from experiment_widgets import VariableTracingExperiment\n",
    "import json\n",
    "from random import sample, randint, choices\n",
    "import string\n",
    "import matplotlib.pyplot as plt \n",
    "from tqdm.auto import tqdm\n",
    "import seaborn as sns\n",
    "import torch.distributions.constraints as constraints\n",
    "\n",
    "sns.set()\n",
    "\n",
    "pcache = PickleCache()"
   ]
  },
  {
   "cell_type": "code",
   "execution_count": 3,
   "metadata": {
    "ExecuteTime": {
     "end_time": "2020-05-02T00:03:43.251293Z",
     "start_time": "2020-05-02T00:03:43.219932Z"
    }
   },
   "outputs": [],
   "source": [
    "all_names = string.ascii_lowercase\n",
    "all_operators = ['+', '-']\n",
    "\n",
    "def generate_trial(N):\n",
    "    names = sample(all_names, k=N)\n",
    "    variables = [\n",
    "        {'variable': names[i], 'value': randint(1, 9)}\n",
    "        for i in range(N)\n",
    "    ]\n",
    "\n",
    "    expr_var_order = sample(variables, k=len(variables))\n",
    "    operators = choices(all_operators, k=N-1)\n",
    "    expr_list = []\n",
    "    expr_value = expr_var_order[0]['value']\n",
    "    for i in range(N):\n",
    "        if i > 0:\n",
    "            op = operators[i-1]\n",
    "            expr_value = eval(f\"{expr_value} {op} {expr_var_order[i]['value']}\")\n",
    "            expr_list.append(op)\n",
    "        expr_list.append(expr_var_order[i]['variable'])\n",
    "    expr = ' '.join(expr_list)\n",
    "    \n",
    "    return {\n",
    "        'variables': variables, \n",
    "        'expression': expr,\n",
    "        'expression_value': expr_value\n",
    "    }\n",
    "\n",
    "def exp_name(N_var, N_trials):\n",
    "    return f'vartrace_{N_var}_{N_trials}'"
   ]
  },
  {
   "cell_type": "code",
   "execution_count": 4,
   "metadata": {
    "ExecuteTime": {
     "end_time": "2020-05-02T00:03:43.290317Z",
     "start_time": "2020-05-02T00:03:43.254524Z"
    }
   },
   "outputs": [
    {
     "data": {
      "application/vnd.jupyter.widget-view+json": {
       "model_id": "f14e2727474e46509a954bed219c25bc",
       "version_major": 2,
       "version_minor": 0
      },
      "text/plain": [
       "VariableTracingExperiment(experiment='{\"trials\": [{\"variables\": [{\"variable\": \"x\", \"value\": 7}, {\"variable\": \"…"
      ]
     },
     "metadata": {},
     "output_type": "display_data"
    }
   ],
   "source": [
    "N_var = 7\n",
    "N_trials = 10\n",
    "\n",
    "experiment = {\n",
    "    'trials': [generate_trial(N_var) for _ in range(N_trials)],\n",
    "    'between_trials_time': 1000\n",
    "}\n",
    "\n",
    "exp = VariableTracingExperiment(experiment=json.dumps(experiment), results='[]')\n",
    "\n",
    "def on_result_change(_):\n",
    "    pcache.set(exp_name(N_var, N_trials), {\n",
    "        'experiment': experiment,\n",
    "        'results': json.loads(exp.results)\n",
    "    })\n",
    "    \n",
    "#exp.observe(on_result_change)\n",
    "\n",
    "exp"
   ]
  },
  {
   "cell_type": "code",
   "execution_count": 33,
   "metadata": {
    "ExecuteTime": {
     "end_time": "2020-05-02T01:26:21.016199Z",
     "start_time": "2020-05-02T01:26:20.967749Z"
    }
   },
   "outputs": [
    {
     "data": {
      "text/html": [
       "<div>\n",
       "<style scoped>\n",
       "    .dataframe tbody tr th:only-of-type {\n",
       "        vertical-align: middle;\n",
       "    }\n",
       "\n",
       "    .dataframe tbody tr th {\n",
       "        vertical-align: top;\n",
       "    }\n",
       "\n",
       "    .dataframe thead th {\n",
       "        text-align: right;\n",
       "    }\n",
       "</style>\n",
       "<table border=\"1\" class=\"dataframe\">\n",
       "  <thead>\n",
       "    <tr style=\"text-align: right;\">\n",
       "      <th></th>\n",
       "      <th>N_var</th>\n",
       "      <th>correct</th>\n",
       "      <th>switches</th>\n",
       "      <th>response_time</th>\n",
       "      <th>type</th>\n",
       "    </tr>\n",
       "  </thead>\n",
       "  <tbody>\n",
       "    <tr>\n",
       "      <th>0</th>\n",
       "      <td>7</td>\n",
       "      <td>True</td>\n",
       "      <td>3</td>\n",
       "      <td>25.240</td>\n",
       "      <td>actual</td>\n",
       "    </tr>\n",
       "    <tr>\n",
       "      <th>1</th>\n",
       "      <td>7</td>\n",
       "      <td>True</td>\n",
       "      <td>1</td>\n",
       "      <td>20.318</td>\n",
       "      <td>actual</td>\n",
       "    </tr>\n",
       "    <tr>\n",
       "      <th>2</th>\n",
       "      <td>7</td>\n",
       "      <td>False</td>\n",
       "      <td>2</td>\n",
       "      <td>18.790</td>\n",
       "      <td>actual</td>\n",
       "    </tr>\n",
       "    <tr>\n",
       "      <th>3</th>\n",
       "      <td>7</td>\n",
       "      <td>True</td>\n",
       "      <td>3</td>\n",
       "      <td>24.138</td>\n",
       "      <td>actual</td>\n",
       "    </tr>\n",
       "    <tr>\n",
       "      <th>4</th>\n",
       "      <td>7</td>\n",
       "      <td>True</td>\n",
       "      <td>2</td>\n",
       "      <td>26.821</td>\n",
       "      <td>actual</td>\n",
       "    </tr>\n",
       "    <tr>\n",
       "      <th>5</th>\n",
       "      <td>7</td>\n",
       "      <td>True</td>\n",
       "      <td>1</td>\n",
       "      <td>13.549</td>\n",
       "      <td>actual</td>\n",
       "    </tr>\n",
       "    <tr>\n",
       "      <th>6</th>\n",
       "      <td>7</td>\n",
       "      <td>True</td>\n",
       "      <td>1</td>\n",
       "      <td>15.813</td>\n",
       "      <td>actual</td>\n",
       "    </tr>\n",
       "    <tr>\n",
       "      <th>7</th>\n",
       "      <td>7</td>\n",
       "      <td>True</td>\n",
       "      <td>1</td>\n",
       "      <td>11.606</td>\n",
       "      <td>actual</td>\n",
       "    </tr>\n",
       "    <tr>\n",
       "      <th>8</th>\n",
       "      <td>7</td>\n",
       "      <td>True</td>\n",
       "      <td>3</td>\n",
       "      <td>35.147</td>\n",
       "      <td>actual</td>\n",
       "    </tr>\n",
       "    <tr>\n",
       "      <th>9</th>\n",
       "      <td>7</td>\n",
       "      <td>True</td>\n",
       "      <td>1</td>\n",
       "      <td>18.842</td>\n",
       "      <td>actual</td>\n",
       "    </tr>\n",
       "  </tbody>\n",
       "</table>\n",
       "</div>"
      ],
      "text/plain": [
       "   N_var  correct  switches  response_time    type\n",
       "0      7     True         3         25.240  actual\n",
       "1      7     True         1         20.318  actual\n",
       "2      7    False         2         18.790  actual\n",
       "3      7     True         3         24.138  actual\n",
       "4      7     True         2         26.821  actual\n",
       "5      7     True         1         13.549  actual\n",
       "6      7     True         1         15.813  actual\n",
       "7      7     True         1         11.606  actual\n",
       "8      7     True         3         35.147  actual\n",
       "9      7     True         1         18.842  actual"
      ]
     },
     "execution_count": 33,
     "metadata": {},
     "output_type": "execute_result"
    }
   ],
   "source": [
    "def process_results(N_var, N_trials):\n",
    "    data = pcache.get(exp_name(N_var, N_trials))\n",
    "    experiment = data['experiment']\n",
    "    results = data['results']\n",
    "    \n",
    "    df = []\n",
    "    for (trial, result) in zip(experiment['trials'], results):\n",
    "        try:\n",
    "            response = int(result['response'])\n",
    "        except ValueError:\n",
    "            response = -1000\n",
    "                   \n",
    "        correct = trial['expression_value'] == response\n",
    "        df.append({\n",
    "            'N_var': N_var,\n",
    "            'correct': correct,\n",
    "            'switches': result['switch_count']//2,\n",
    "            'response_time': result['response_time']/1000.,\n",
    "            'type': 'actual'\n",
    "        })\n",
    "    return pd.DataFrame(df)\n",
    "\n",
    "process_results(N_var, N_trials)"
   ]
  },
  {
   "cell_type": "code",
   "execution_count": 34,
   "metadata": {
    "ExecuteTime": {
     "end_time": "2020-05-02T01:26:22.674283Z",
     "start_time": "2020-05-02T01:26:22.615968Z"
    }
   },
   "outputs": [],
   "source": [
    "all_exp = [2, 3, 4, 5, 6, 7]\n",
    "results = pd.concat([process_results(N_var, 10) for N_var in all_exp])"
   ]
  },
  {
   "cell_type": "code",
   "execution_count": 7,
   "metadata": {
    "ExecuteTime": {
     "end_time": "2020-05-02T00:03:43.595622Z",
     "start_time": "2020-05-02T00:03:43.371336Z"
    }
   },
   "outputs": [
    {
     "data": {
      "text/plain": [
       "Text(0, 0.5, 'Response time (s)')"
      ]
     },
     "execution_count": 7,
     "metadata": {},
     "output_type": "execute_result"
    },
    {
     "data": {
      "image/png": "[encoded data removed]",
      "text/plain": [
       "<Figure size 432x288 with 1 Axes>"
      ]
     },
     "metadata": {},
     "output_type": "display_data"
    }
   ],
   "source": [
    "ax = sns.swarmplot(data=results, x='N_var', y='response_time')\n",
    "ax.set_ylabel('Response time (s)')"
   ]
  },
  {
   "cell_type": "code",
   "execution_count": 8,
   "metadata": {
    "ExecuteTime": {
     "end_time": "2020-05-02T00:03:43.772902Z",
     "start_time": "2020-05-02T00:03:43.598831Z"
    }
   },
   "outputs": [],
   "source": [
    "import statsmodels.formula.api as smf\n",
    "data = results.groupby('N_var').response_time.nlargest(2).reset_index().groupby('N_var').mean().reset_index()\n",
    "#smf.ols('response_time ~ np.power(N_var,2)', data=data).fit().summary()"
   ]
  },
  {
   "cell_type": "code",
   "execution_count": 9,
   "metadata": {
    "ExecuteTime": {
     "end_time": "2020-05-02T00:03:44.067729Z",
     "start_time": "2020-05-02T00:03:43.776389Z"
    }
   },
   "outputs": [
    {
     "data": {
      "text/plain": [
       "<matplotlib.axes._subplots.AxesSubplot at 0x13e37a350>"
      ]
     },
     "execution_count": 9,
     "metadata": {},
     "output_type": "execute_result"
    },
    {
     "data": {
      "image/png": "[encoded data removed]",
      "text/plain": [
       "<Figure size 432x288 with 1 Axes>"
      ]
     },
     "metadata": {},
     "output_type": "display_data"
    }
   ],
   "source": [
    "results.groupby('N_var').mean().plot(y='response_time')"
   ]
  },
  {
   "cell_type": "code",
   "execution_count": 10,
   "metadata": {
    "ExecuteTime": {
     "end_time": "2020-05-02T00:03:44.268523Z",
     "start_time": "2020-05-02T00:03:44.069939Z"
    }
   },
   "outputs": [
    {
     "data": {
      "text/plain": [
       "[<matplotlib.axis.YTick at 0x13e842d90>,\n",
       " <matplotlib.axis.YTick at 0x13e842910>,\n",
       " <matplotlib.axis.YTick at 0x13e82ae10>,\n",
       " <matplotlib.axis.YTick at 0x13e858e50>,\n",
       " <matplotlib.axis.YTick at 0x13e8e5610>]"
      ]
     },
     "execution_count": 10,
     "metadata": {},
     "output_type": "execute_result"
    },
    {
     "data": {
      "image/png": "[encoded data removed]",
      "text/plain": [
       "<Figure size 432x288 with 1 Axes>"
      ]
     },
     "metadata": {},
     "output_type": "display_data"
    }
   ],
   "source": [
    "\n",
    "ax = sns.swarmplot(data=results, x='N_var', y='switches')\n",
    "ax.set_yticks(list(range(5)))"
   ]
  },
  {
   "cell_type": "code",
   "execution_count": 11,
   "metadata": {
    "ExecuteTime": {
     "end_time": "2020-05-02T00:03:44.464207Z",
     "start_time": "2020-05-02T00:03:44.270190Z"
    }
   },
   "outputs": [
    {
     "data": {
      "text/plain": [
       "<matplotlib.axes._subplots.AxesSubplot at 0x13e8f2c90>"
      ]
     },
     "execution_count": 11,
     "metadata": {},
     "output_type": "execute_result"
    },
    {
     "data": {
      "image/png": "[encoded data removed]",
      "text/plain": [
       "<Figure size 432x288 with 1 Axes>"
      ]
     },
     "metadata": {},
     "output_type": "display_data"
    }
   ],
   "source": [
    "results.groupby('N_var').sum().plot.bar(y='correct')"
   ]
  },
  {
   "cell_type": "code",
   "execution_count": 12,
   "metadata": {
    "ExecuteTime": {
     "end_time": "2020-05-02T00:03:44.491596Z",
     "start_time": "2020-05-02T00:03:44.465899Z"
    }
   },
   "outputs": [],
   "source": [
    "#     params = {\n",
    "#     name: {\n",
    "#         'mu': pyro.param(f'{name}_mu', tensor(init_mu)),\n",
    "#         'sigma': pyro.param(f'{name}_sigma', tensor(init_sigma))\n",
    "#     }   \n",
    "#     for name, (init_mu, init_sigma) in params.items()\n",
    "# }\n"
   ]
  },
  {
   "cell_type": "code",
   "execution_count": 13,
   "metadata": {
    "ExecuteTime": {
     "end_time": "2020-05-02T00:03:44.525017Z",
     "start_time": "2020-05-02T00:03:44.493644Z"
    },
    "scrolled": false
   },
   "outputs": [],
   "source": [
    "params = {\n",
    "    'number_cost': (0.2, 0.1),\n",
    "    'var_cost': (0.2, 0.1),\n",
    "    'binop_cost': (2.0, 1.0),\n",
    "    'assign_cost': (0.2, 0.1)\n",
    "}\n",
    "\n",
    "def model(trial):\n",
    "    param_values = {\n",
    "        name: {\n",
    "            'mu': pyro.param(f'{name}_mu', tensor(init_mu), constraint=constraints.positive),\n",
    "            'sigma': pyro.param(f'{name}_sigma', tensor(init_sigma), constraint=constraints.positive)\n",
    "        }\n",
    "        for name, (init_mu, init_sigma) in params.items()\n",
    "    }\n",
    "    \n",
    "    wm = WorkingMemory()\n",
    "    src = [\n",
    "        f\"{v['variable']} = {v['value']}\"\n",
    "        for v in trial['variables']\n",
    "    ] + [trial['expression']]\n",
    "    prog = parse('\\n'.join(src))\n",
    "\n",
    "    visitor = TraceVisitor(wm=wm, ctx=prog.statements[:-1], params=param_values)\n",
    "    visitor.visit(prog.statements[-1])\n",
    "    reset_name_counters()\n",
    "    \n",
    "    return visitor.time"
   ]
  },
  {
   "cell_type": "code",
   "execution_count": 14,
   "metadata": {
    "ExecuteTime": {
     "end_time": "2020-05-02T00:03:44.557121Z",
     "start_time": "2020-05-02T00:03:44.526948Z"
    }
   },
   "outputs": [],
   "source": [
    "trials = []\n",
    "results2 = []\n",
    "for N_var in all_exp:\n",
    "    data = pcache.get(exp_name(N_var, N_trials))\n",
    "    trials.extend(data['experiment']['trials'])\n",
    "    results2.extend(data['results'])"
   ]
  },
  {
   "cell_type": "code",
   "execution_count": 43,
   "metadata": {
    "ExecuteTime": {
     "end_time": "2020-05-02T01:51:04.822794Z",
     "start_time": "2020-05-02T01:49:40.250568Z"
    },
    "scrolled": false
   },
   "outputs": [
    {
     "data": {
      "application/vnd.jupyter.widget-view+json": {
       "model_id": "ba5a8317e65047188a241848aa4a930b",
       "version_major": 2,
       "version_minor": 0
      },
      "text/plain": [
       "HBox(children=(FloatProgress(value=0.0), HTML(value='')))"
      ]
     },
     "metadata": {},
     "output_type": "display_data"
    },
    {
     "name": "stdout",
     "output_type": "stream",
     "text": [
      "1281.36669921875 1.9800996780395508\n",
      "3118.933837890625 1.888255000114441\n",
      "1666.1715087890625 1.803974986076355\n",
      "1733.1748046875 1.7290558815002441\n",
      "1980.9595947265625 1.6685775518417358\n",
      "1754.6148681640625 1.626441240310669\n",
      "1535.4342041015625 1.595388650894165\n",
      "3722.1337890625 1.5770727396011353\n",
      "2450.185546875 1.5585237741470337\n",
      "2034.6051025390625 1.5525152683258057\n",
      "2136.262451171875 1.557250738143921\n",
      "2066.330322265625 1.5684850215911865\n",
      "3755.469970703125 1.5836488008499146\n",
      "1771.703125 1.590029001235962\n",
      "2921.274658203125 1.5841701030731201\n",
      "2165.439208984375 1.570756435394287\n",
      "1494.1783447265625 1.5637600421905518\n",
      "3755.79541015625 1.563080072402954\n",
      "2111.93896484375 1.5726754665374756\n",
      "1412.922607421875 1.585498332977295\n",
      "\n"
     ]
    }
   ],
   "source": [
    "from pyro.infer import SVI, Trace_ELBO\n",
    "from pyro.optim import Adam\n",
    "from pyro.infer.autoguide import AutoDelta\n",
    "from pyro.poutine import trace\n",
    "from functools import reduce\n",
    "\n",
    "pyro.clear_param_store()\n",
    "\n",
    "class Loss(Trace_ELBO):\n",
    "    def loss_and_grads(self, model, _):\n",
    "        total_loss = tensor(0.)\n",
    "        for i in range(len(trials)):\n",
    "            loss = (model(trials[i]) - tensor(results2[i]['response_time'])/1000.) \n",
    "            loss = loss ** 2\n",
    "            total_loss += loss\n",
    "        total_loss.backward()\n",
    "        return total_loss\n",
    "    \n",
    "svi = SVI(model, None, Adam({'lr': 0.01}), loss=Loss())\n",
    "loss_over_time = []\n",
    "for i in tqdm(range(100)):\n",
    "    loss = []\n",
    "    loss.append(svi.step())\n",
    "        \n",
    "    loss_over_time.append(pd.Series(loss).mean())\n",
    "    \n",
    "    if i % 5 == 0:\n",
    "        print(loss_over_time[-1], pyro.param('binop_cost_mu').item())"
   ]
  },
  {
   "cell_type": "code",
   "execution_count": null,
   "metadata": {
    "ExecuteTime": {
     "end_time": "2020-05-02T01:51:04.891225Z",
     "start_time": "2020-05-02T01:49:43.616Z"
    }
   },
   "outputs": [],
   "source": [
    "pd.Series(loss_over_time).plot()"
   ]
  },
  {
   "cell_type": "code",
   "execution_count": 23,
   "metadata": {
    "ExecuteTime": {
     "end_time": "2020-05-02T00:07:07.147958Z",
     "start_time": "2020-05-02T00:07:07.109398Z"
    }
   },
   "outputs": [
    {
     "data": {
      "text/plain": [
       "{'number_cost': (0.2, 0.1),\n",
       " 'var_cost': (0.2, 0.1),\n",
       " 'binop_cost': (2.0, 1.0),\n",
       " 'assign_cost': (0.2, 0.1)}"
      ]
     },
     "execution_count": 23,
     "metadata": {},
     "output_type": "execute_result"
    }
   ],
   "source": [
    "params"
   ]
  },
  {
   "cell_type": "code",
   "execution_count": 42,
   "metadata": {
    "ExecuteTime": {
     "end_time": "2020-05-02T01:49:24.979349Z",
     "start_time": "2020-05-02T01:49:24.948223Z"
    }
   },
   "outputs": [
    {
     "data": {
      "text/plain": [
       "{'number_cost': {'mu': 0.18888205289840698, 'sigma': 0.08806491643190384},\n",
       " 'var_cost': {'mu': 0.18988081812858582, 'sigma': 0.093576580286026},\n",
       " 'binop_cost': {'mu': 1.8909205198287964, 'sigma': 0.8368642926216125},\n",
       " 'assign_cost': {'mu': 0.18862661719322205, 'sigma': 0.1197272464632988}}"
      ]
     },
     "execution_count": 42,
     "metadata": {},
     "output_type": "execute_result"
    }
   ],
   "source": [
    "{\n",
    "    name: {\n",
    "        'mu': pyro.param(f'{name}_mu', tensor(init_mu)).item(),\n",
    "        'sigma': pyro.param(f'{name}_sigma', tensor(init_sigma)).item()\n",
    "    }\n",
    "    for name, (init_mu, init_sigma) in params.items()\n",
    "}"
   ]
  },
  {
   "cell_type": "code",
   "execution_count": 31,
   "metadata": {
    "ExecuteTime": {
     "end_time": "2020-05-02T01:25:55.646316Z",
     "start_time": "2020-05-02T01:25:55.610129Z"
    }
   },
   "outputs": [],
   "source": [
    "def simulate_many(model):\n",
    "    return pd.DataFrame([\n",
    "        {'N_var': N_var, 'response_time': model(generate_trial(N_var)).item(), 'type': 'simulated'}\n",
    "        for N_var in tqdm(range(2, 8))\n",
    "        for _ in range(200)\n",
    "    ])\n",
    "\n",
    "def stats(results, prefix):\n",
    "    group = results.groupby('N_var')    \n",
    "    return pd.DataFrame({\n",
    "        f'{prefix}_median': group.median().response_time,\n",
    "        f'{prefix}_mean': group.mean().response_time,\n",
    "        f'{prefix}_std': group.std().response_time\n",
    "    })\n",
    "\n",
    "def show_results(results_sim):\n",
    "    print(stats(results, 'actual'))\n",
    "    print(stats(results_sim, 'sim'))\n",
    "    ax = sns.boxplot(data=results_sim, x='N_var', y='response_time')\n",
    "    ax.set_ylabel('Response time (s)')"
   ]
  },
  {
   "cell_type": "code",
   "execution_count": 32,
   "metadata": {
    "ExecuteTime": {
     "end_time": "2020-05-02T01:26:11.016109Z",
     "start_time": "2020-05-02T01:25:56.160538Z"
    }
   },
   "outputs": [
    {
     "data": {
      "application/vnd.jupyter.widget-view+json": {
       "model_id": "cc37bb10d8944fb4a7291251183d9daa",
       "version_major": 2,
       "version_minor": 0
      },
      "text/plain": [
       "HBox(children=(FloatProgress(value=0.0, max=6.0), HTML(value='')))"
      ]
     },
     "metadata": {},
     "output_type": "display_data"
    },
    {
     "name": "stdout",
     "output_type": "stream",
     "text": [
      "\n",
      "       actual_median  actual_mean  actual_std\n",
      "N_var                                        \n",
      "2             2.7690       3.1004    0.856344\n",
      "3             6.8465       6.8672    1.633656\n",
      "4             9.8850       9.6823    1.981255\n",
      "5            12.8400      12.3691    3.436759\n",
      "6            16.0865      17.6909    4.822709\n",
      "7            19.5800      21.0264    7.012014\n",
      "       sim_median   sim_mean    sim_std\n",
      "N_var                                  \n",
      "2        3.404915   3.482996   0.876287\n",
      "3        6.427171   6.775398   1.946373\n",
      "4        9.513648  10.280121   3.313430\n",
      "5       12.311915  14.049466   5.000359\n",
      "6       15.102984  17.436189   7.379502\n",
      "7       18.722228  23.949437  11.379788\n"
     ]
    },
    {
     "data": {
      "image/png": "[encoded data removed]",
      "text/plain": [
       "<Figure size 432x288 with 1 Axes>"
      ]
     },
     "metadata": {},
     "output_type": "display_data"
    }
   ],
   "source": [
    "results_sim = simulate_many(model)\n",
    "show_results(results_sim)"
   ]
  },
  {
   "cell_type": "code",
   "execution_count": 27,
   "metadata": {
    "ExecuteTime": {
     "end_time": "2020-05-02T01:23:53.699968Z",
     "start_time": "2020-05-02T01:23:53.192246Z"
    }
   },
   "outputs": [
    {
     "data": {
      "text/plain": [
       "Text(0, 0.5, 'Response time (s)')"
      ]
     },
     "execution_count": 27,
     "metadata": {},
     "output_type": "execute_result"
    },
    {
     "data": {
      "image/png": "[encoded data removed]",
      "text/plain": [
       "<Figure size 432x288 with 1 Axes>"
      ]
     },
     "metadata": {},
     "output_type": "display_data"
    }
   ],
   "source": [
    "ax = sns.swarmplot(data=results, x='N_var', y='response_time')\n",
    "ax.set_ylabel('Response time (s)')"
   ]
  },
  {
   "cell_type": "code",
   "execution_count": 41,
   "metadata": {
    "ExecuteTime": {
     "end_time": "2020-05-02T01:32:29.705695Z",
     "start_time": "2020-05-02T01:32:28.886038Z"
    }
   },
   "outputs": [
    {
     "data": {
      "image/png": "[encoded data removed]",
      "text/plain": [
       "<Figure size 432x288 with 1 Axes>"
      ]
     },
     "metadata": {},
     "output_type": "display_data"
    }
   ],
   "source": [
    "results_all = pd.concat([results_sim, results])\n",
    "ax = sns.boxplot(data=results_all, x='N_var', y='response_time', hue='type')\n",
    "ax.set_ylabel('Response time (s)')\n",
    "plt.tight_layout()\n",
    "plt.savefig('variable_tracing.png', dpi=300)"
   ]
  }
 ],
 "metadata": {
  "kernelspec": {
   "display_name": "Python 3",
   "language": "python",
   "name": "python3"
  },
  "language_info": {
   "codemirror_mode": {
    "name": "ipython",
    "version": 3
   },
   "file_extension": ".py",
   "mimetype": "text/x-python",
   "name": "python",
   "nbconvert_exporter": "python",
   "pygments_lexer": "ipython3",
   "version": "3.7.7"
  },
  "toc": {
   "base_numbering": 1,
   "nav_menu": {},
   "number_sections": true,
   "sideBar": true,
   "skip_h1_title": false,
   "title_cell": "Table of Contents",
   "title_sidebar": "Contents",
   "toc_cell": false,
   "toc_position": {},
   "toc_section_display": true,
   "toc_window_display": false
  },
  "varInspector": {
   "cols": {
    "lenName": 16,
    "lenType": 16,
    "lenVar": 40
   },
   "kernels_config": {
    "python": {
     "delete_cmd_postfix": "",
     "delete_cmd_prefix": "del ",
     "library": "var_list.py",
     "varRefreshCmd": "print(var_dic_list())"
    },
    "r": {
     "delete_cmd_postfix": ") ",
     "delete_cmd_prefix": "rm(",
     "library": "var_list.r",
     "varRefreshCmd": "cat(var_dic_list()) "
    }
   },
   "types_to_exclude": [
    "module",
    "function",
    "builtin_function_or_method",
    "instance",
    "_Feature"
   ],
   "window_display": false
  }
 },
 "nbformat": 4,
 "nbformat_minor": 4
}
