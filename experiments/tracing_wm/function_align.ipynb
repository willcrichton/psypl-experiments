{
 "cells": [
  {
   "cell_type": "code",
   "execution_count": 1,
   "metadata": {
    "ExecuteTime": {
     "end_time": "2020-06-17T21:37:38.763916Z",
     "start_time": "2020-06-17T21:37:38.746103Z"
    }
   },
   "outputs": [],
   "source": [
    "%load_ext autoreload\n",
    "%autoreload 2"
   ]
  },
  {
   "cell_type": "code",
   "execution_count": 51,
   "metadata": {
    "ExecuteTime": {
     "end_time": "2020-06-17T22:20:30.315778Z",
     "start_time": "2020-06-17T22:20:30.276283Z"
    }
   },
   "outputs": [],
   "source": [
    "from utils import FunctionAlignExperiment\n",
    "import seaborn as sns\n",
    "from numpy import median\n",
    "from scipy.stats import median_test, f_oneway"
   ]
  },
  {
   "cell_type": "code",
   "execution_count": 4,
   "metadata": {
    "ExecuteTime": {
     "end_time": "2020-06-17T21:37:44.633961Z",
     "start_time": "2020-06-17T21:37:44.600685Z"
    }
   },
   "outputs": [],
   "source": [
    "exp = FunctionAlignExperiment()"
   ]
  },
  {
   "cell_type": "code",
   "execution_count": 56,
   "metadata": {
    "ExecuteTime": {
     "end_time": "2020-06-17T23:11:31.559980Z",
     "start_time": "2020-06-17T23:11:31.513998Z"
    },
    "scrolled": true
   },
   "outputs": [
    {
     "data": {
      "application/vnd.jupyter.widget-view+json": {
       "model_id": "6369d75e83954065940dbbf178e12ff8",
       "version_major": 2,
       "version_minor": 0
      },
      "text/plain": [
       "FunctionBasicExperiment(experiment='{\"trials\": [{\"program\": \"def e(a, n, w, x):\\\\n    return x - n - a - w\\\\n\\…"
      ]
     },
     "metadata": {},
     "output_type": "display_data"
    }
   ],
   "source": [
    "exp.run_experiment(participant='will', N_var=4, N_trials=20, dummy=True)"
   ]
  },
  {
   "cell_type": "code",
   "execution_count": 29,
   "metadata": {
    "ExecuteTime": {
     "end_time": "2020-06-17T22:02:32.120565Z",
     "start_time": "2020-06-17T22:02:31.130512Z"
    },
    "hide_input": false
   },
   "outputs": [
    {
     "data": {
      "text/plain": [
       "<matplotlib.axes._subplots.AxesSubplot at 0x12b58ad50>"
      ]
     },
     "execution_count": 29,
     "metadata": {},
     "output_type": "execute_result"
    },
    {
     "data": {
      "image/png": "[encoded data removed]",
      "text/plain": [
       "<Figure size 432x288 with 1 Axes>"
      ]
     },
     "metadata": {},
     "output_type": "display_data"
    }
   ],
   "source": [
    "sns.boxplot(\n",
    "    data=exp.results(), x='N_var', y='response_time', hue='cond', hue_order=list(map(str, exp.Condition)))"
   ]
  },
  {
   "cell_type": "code",
   "execution_count": 32,
   "metadata": {
    "ExecuteTime": {
     "end_time": "2020-06-17T22:03:46.004261Z",
     "start_time": "2020-06-17T22:03:45.960522Z"
    }
   },
   "outputs": [
    {
     "name": "stdout",
     "output_type": "stream",
     "text": [
      "N_var\n",
      "3    1.221894\n",
      "4    1.154726\n",
      "5    1.246136\n",
      "6    1.198770\n",
      "Name: response_time, dtype: float64\n"
     ]
    }
   ],
   "source": [
    "rt = exp.results().groupby(['N_var', 'cond']).median().response_time\n",
    "print(rt.loc[:,'Condition.Misaligned'] / rt.loc[:,'Condition.Aligned'])"
   ]
  },
  {
   "cell_type": "code",
   "execution_count": 54,
   "metadata": {
    "ExecuteTime": {
     "end_time": "2020-06-17T22:20:59.535085Z",
     "start_time": "2020-06-17T22:20:59.473391Z"
    }
   },
   "outputs": [
    {
     "data": {
      "text/plain": [
       "N_var\n",
       "3    0.179712\n",
       "4    0.025347\n",
       "5    0.025347\n",
       "6    0.179712\n",
       "dtype: float64"
      ]
     },
     "execution_count": 54,
     "metadata": {},
     "output_type": "execute_result"
    }
   ],
   "source": [
    "exp.results().groupby(['N_var']).apply(\n",
    "    lambda data: median_test(data[data.cond == 'Condition.Aligned'].response_time, \n",
    "                             data[data.cond == 'Condition.Misaligned'].response_time)[1])"
   ]
  }
 ],
 "metadata": {
  "kernelspec": {
   "display_name": "Python 3",
   "language": "python",
   "name": "python3"
  },
  "language_info": {
   "codemirror_mode": {
    "name": "ipython",
    "version": 3
   },
   "file_extension": ".py",
   "mimetype": "text/x-python",
   "name": "python",
   "nbconvert_exporter": "python",
   "pygments_lexer": "ipython3",
   "version": "3.7.7"
  },
  "toc": {
   "base_numbering": 1,
   "nav_menu": {},
   "number_sections": true,
   "sideBar": true,
   "skip_h1_title": false,
   "title_cell": "Table of Contents",
   "title_sidebar": "Contents",
   "toc_cell": false,
   "toc_position": {},
   "toc_section_display": true,
   "toc_window_display": false
  },
  "varInspector": {
   "cols": {
    "lenName": 16,
    "lenType": 16,
    "lenVar": 40
   },
   "kernels_config": {
    "python": {
     "delete_cmd_postfix": "",
     "delete_cmd_prefix": "del ",
     "library": "var_list.py",
     "varRefreshCmd": "print(var_dic_list())"
    },
    "r": {
     "delete_cmd_postfix": ") ",
     "delete_cmd_prefix": "rm(",
     "library": "var_list.r",
     "varRefreshCmd": "cat(var_dic_list()) "
    }
   },
   "types_to_exclude": [
    "module",
    "function",
    "builtin_function_or_method",
    "instance",
    "_Feature"
   ],
   "window_display": false
  }
 },
 "nbformat": 4,
 "nbformat_minor": 4
}
