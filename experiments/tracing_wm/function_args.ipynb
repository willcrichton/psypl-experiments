{
 "cells": [
  {
   "cell_type": "code",
   "execution_count": 1,
   "metadata": {
    "ExecuteTime": {
     "end_time": "2020-06-12T17:47:44.703105Z",
     "start_time": "2020-06-12T17:47:44.676745Z"
    }
   },
   "outputs": [],
   "source": [
    "%load_ext autoreload\n",
    "%autoreload 2"
   ]
  },
  {
   "cell_type": "code",
   "execution_count": 130,
   "metadata": {
    "ExecuteTime": {
     "end_time": "2020-06-12T22:47:05.957269Z",
     "start_time": "2020-06-12T22:47:05.228141Z"
    }
   },
   "outputs": [],
   "source": [
    "from utils import FunctionArgsExperiment\n",
    "import seaborn as sns\n",
    "from numpy import median"
   ]
  },
  {
   "cell_type": "code",
   "execution_count": 18,
   "metadata": {
    "ExecuteTime": {
     "end_time": "2020-06-12T18:16:39.177220Z",
     "start_time": "2020-06-12T18:16:39.143861Z"
    }
   },
   "outputs": [],
   "source": [
    "exp = FunctionArgsExperiment()"
   ]
  },
  {
   "cell_type": "code",
   "execution_count": 133,
   "metadata": {
    "ExecuteTime": {
     "end_time": "2020-06-16T22:22:10.877807Z",
     "start_time": "2020-06-16T22:22:10.457851Z"
    },
    "scrolled": false
   },
   "outputs": [
    {
     "data": {
      "application/vnd.jupyter.widget-view+json": {
       "model_id": "c04a279057e14b5abb064fa9a3f44ff9",
       "version_major": 2,
       "version_minor": 0
      },
      "text/plain": [
       "FunctionBasicExperiment(experiment='{\"trials\": [{\"program\": \"def e(d,p,m,k):\\\\n    return d + p - m - k\\\\n\\\\n\\…"
      ]
     },
     "metadata": {},
     "output_type": "display_data"
    }
   ],
   "source": [
    "exp.run_experiment(participant='will', N_var=4, N_trials=30, dummy=True)"
   ]
  },
  {
   "cell_type": "code",
   "execution_count": 131,
   "metadata": {
    "ExecuteTime": {
     "end_time": "2020-06-12T22:47:11.140168Z",
     "start_time": "2020-06-12T22:47:09.394054Z"
    }
   },
   "outputs": [
    {
     "data": {
      "text/plain": [
       "<seaborn.axisgrid.FacetGrid at 0x125be0190>"
      ]
     },
     "execution_count": 131,
     "metadata": {},
     "output_type": "execute_result"
    },
    {
     "data": {
      "image/png": "[encoded data removed]",
      "text/plain": [
       "<Figure size 1232.72x360 with 3 Axes>"
      ]
     },
     "metadata": {},
     "output_type": "display_data"
    }
   ],
   "source": [
    "g = sns.FacetGrid(data=exp.results(), col='N_var', height=5)\n",
    "g.map(sns.barplot, \n",
    "      'func_cond', 'response_time', 'call_cond', \n",
    "      palette=sns.color_palette(), estimator=median,\n",
    "      order=list(map(str, exp.FuncCondition)), hue_order=list(map(str, exp.CallCondition))) \\\n",
    "    .add_legend()"
   ]
  },
  {
   "cell_type": "code",
   "execution_count": 132,
   "metadata": {
    "ExecuteTime": {
     "end_time": "2020-06-12T22:47:17.030537Z",
     "start_time": "2020-06-12T22:47:16.965628Z"
    }
   },
   "outputs": [
    {
     "data": {
      "text/html": [
       "<div>\n",
       "<style scoped>\n",
       "    .dataframe tbody tr th:only-of-type {\n",
       "        vertical-align: middle;\n",
       "    }\n",
       "\n",
       "    .dataframe tbody tr th {\n",
       "        vertical-align: top;\n",
       "    }\n",
       "\n",
       "    .dataframe thead th {\n",
       "        text-align: right;\n",
       "    }\n",
       "</style>\n",
       "<table border=\"1\" class=\"dataframe\">\n",
       "  <thead>\n",
       "    <tr style=\"text-align: right;\">\n",
       "      <th></th>\n",
       "      <th></th>\n",
       "      <th></th>\n",
       "      <th>correct</th>\n",
       "      <th>response_time</th>\n",
       "    </tr>\n",
       "    <tr>\n",
       "      <th>N_var</th>\n",
       "      <th>call_cond</th>\n",
       "      <th>func_cond</th>\n",
       "      <th></th>\n",
       "      <th></th>\n",
       "    </tr>\n",
       "  </thead>\n",
       "  <tbody>\n",
       "    <tr>\n",
       "      <th rowspan=\"6\" valign=\"top\">2</th>\n",
       "      <th rowspan=\"2\" valign=\"top\">CallCondition.Constant</th>\n",
       "      <th>FuncCondition.Ordered</th>\n",
       "      <td>True</td>\n",
       "      <td>1982</td>\n",
       "    </tr>\n",
       "    <tr>\n",
       "      <th>FuncCondition.Shuffled</th>\n",
       "      <td>True</td>\n",
       "      <td>2047</td>\n",
       "    </tr>\n",
       "    <tr>\n",
       "      <th rowspan=\"2\" valign=\"top\">CallCondition.Shuffled</th>\n",
       "      <th>FuncCondition.Ordered</th>\n",
       "      <td>True</td>\n",
       "      <td>3360</td>\n",
       "    </tr>\n",
       "    <tr>\n",
       "      <th>FuncCondition.Shuffled</th>\n",
       "      <td>True</td>\n",
       "      <td>5929</td>\n",
       "    </tr>\n",
       "    <tr>\n",
       "      <th rowspan=\"2\" valign=\"top\">CallCondition.Variable</th>\n",
       "      <th>FuncCondition.Ordered</th>\n",
       "      <td>True</td>\n",
       "      <td>2610</td>\n",
       "    </tr>\n",
       "    <tr>\n",
       "      <th>FuncCondition.Shuffled</th>\n",
       "      <td>True</td>\n",
       "      <td>3329</td>\n",
       "    </tr>\n",
       "    <tr>\n",
       "      <th rowspan=\"6\" valign=\"top\">3</th>\n",
       "      <th rowspan=\"2\" valign=\"top\">CallCondition.Constant</th>\n",
       "      <th>FuncCondition.Ordered</th>\n",
       "      <td>True</td>\n",
       "      <td>4913</td>\n",
       "    </tr>\n",
       "    <tr>\n",
       "      <th>FuncCondition.Shuffled</th>\n",
       "      <td>True</td>\n",
       "      <td>6462</td>\n",
       "    </tr>\n",
       "    <tr>\n",
       "      <th rowspan=\"2\" valign=\"top\">CallCondition.Shuffled</th>\n",
       "      <th>FuncCondition.Ordered</th>\n",
       "      <td>True</td>\n",
       "      <td>7779</td>\n",
       "    </tr>\n",
       "    <tr>\n",
       "      <th>FuncCondition.Shuffled</th>\n",
       "      <td>True</td>\n",
       "      <td>12022</td>\n",
       "    </tr>\n",
       "    <tr>\n",
       "      <th rowspan=\"2\" valign=\"top\">CallCondition.Variable</th>\n",
       "      <th>FuncCondition.Ordered</th>\n",
       "      <td>True</td>\n",
       "      <td>6304</td>\n",
       "    </tr>\n",
       "    <tr>\n",
       "      <th>FuncCondition.Shuffled</th>\n",
       "      <td>True</td>\n",
       "      <td>9931</td>\n",
       "    </tr>\n",
       "    <tr>\n",
       "      <th rowspan=\"6\" valign=\"top\">4</th>\n",
       "      <th rowspan=\"2\" valign=\"top\">CallCondition.Constant</th>\n",
       "      <th>FuncCondition.Ordered</th>\n",
       "      <td>True</td>\n",
       "      <td>6906</td>\n",
       "    </tr>\n",
       "    <tr>\n",
       "      <th>FuncCondition.Shuffled</th>\n",
       "      <td>True</td>\n",
       "      <td>8882</td>\n",
       "    </tr>\n",
       "    <tr>\n",
       "      <th rowspan=\"2\" valign=\"top\">CallCondition.Shuffled</th>\n",
       "      <th>FuncCondition.Ordered</th>\n",
       "      <td>True</td>\n",
       "      <td>13519</td>\n",
       "    </tr>\n",
       "    <tr>\n",
       "      <th>FuncCondition.Shuffled</th>\n",
       "      <td>True</td>\n",
       "      <td>16972</td>\n",
       "    </tr>\n",
       "    <tr>\n",
       "      <th rowspan=\"2\" valign=\"top\">CallCondition.Variable</th>\n",
       "      <th>FuncCondition.Ordered</th>\n",
       "      <td>True</td>\n",
       "      <td>11295</td>\n",
       "    </tr>\n",
       "    <tr>\n",
       "      <th>FuncCondition.Shuffled</th>\n",
       "      <td>True</td>\n",
       "      <td>14026</td>\n",
       "    </tr>\n",
       "  </tbody>\n",
       "</table>\n",
       "</div>"
      ],
      "text/plain": [
       "                                                     correct  response_time\n",
       "N_var call_cond              func_cond                                     \n",
       "2     CallCondition.Constant FuncCondition.Ordered      True           1982\n",
       "                             FuncCondition.Shuffled     True           2047\n",
       "      CallCondition.Shuffled FuncCondition.Ordered      True           3360\n",
       "                             FuncCondition.Shuffled     True           5929\n",
       "      CallCondition.Variable FuncCondition.Ordered      True           2610\n",
       "                             FuncCondition.Shuffled     True           3329\n",
       "3     CallCondition.Constant FuncCondition.Ordered      True           4913\n",
       "                             FuncCondition.Shuffled     True           6462\n",
       "      CallCondition.Shuffled FuncCondition.Ordered      True           7779\n",
       "                             FuncCondition.Shuffled     True          12022\n",
       "      CallCondition.Variable FuncCondition.Ordered      True           6304\n",
       "                             FuncCondition.Shuffled     True           9931\n",
       "4     CallCondition.Constant FuncCondition.Ordered      True           6906\n",
       "                             FuncCondition.Shuffled     True           8882\n",
       "      CallCondition.Shuffled FuncCondition.Ordered      True          13519\n",
       "                             FuncCondition.Shuffled     True          16972\n",
       "      CallCondition.Variable FuncCondition.Ordered      True          11295\n",
       "                             FuncCondition.Shuffled     True          14026"
      ]
     },
     "execution_count": 132,
     "metadata": {},
     "output_type": "execute_result"
    }
   ],
   "source": [
    "exp.results().groupby(['N_var', 'call_cond', 'func_cond']).median()"
   ]
  }
 ],
 "metadata": {
  "kernelspec": {
   "display_name": "Python 3",
   "language": "python",
   "name": "python3"
  },
  "language_info": {
   "codemirror_mode": {
    "name": "ipython",
    "version": 3
   },
   "file_extension": ".py",
   "mimetype": "text/x-python",
   "name": "python",
   "nbconvert_exporter": "python",
   "pygments_lexer": "ipython3",
   "version": "3.7.7"
  },
  "toc": {
   "base_numbering": 1,
   "nav_menu": {},
   "number_sections": true,
   "sideBar": true,
   "skip_h1_title": false,
   "title_cell": "Table of Contents",
   "title_sidebar": "Contents",
   "toc_cell": false,
   "toc_position": {},
   "toc_section_display": true,
   "toc_window_display": false
  },
  "varInspector": {
   "cols": {
    "lenName": 16,
    "lenType": 16,
    "lenVar": 40
   },
   "kernels_config": {
    "python": {
     "delete_cmd_postfix": "",
     "delete_cmd_prefix": "del ",
     "library": "var_list.py",
     "varRefreshCmd": "print(var_dic_list())"
    },
    "r": {
     "delete_cmd_postfix": ") ",
     "delete_cmd_prefix": "rm(",
     "library": "var_list.r",
     "varRefreshCmd": "cat(var_dic_list()) "
    }
   },
   "types_to_exclude": [
    "module",
    "function",
    "builtin_function_or_method",
    "instance",
    "_Feature"
   ],
   "window_display": false
  }
 },
 "nbformat": 4,
 "nbformat_minor": 4
}
