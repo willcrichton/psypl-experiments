{
 "cells": [
  {
   "cell_type": "markdown",
   "metadata": {},
   "source": [
    "# Impact of infix vs. prefix notation on working memory\n",
    "\n",
    "This experiment evaluates the impact of infix vs. prefix notation in performing mental arithmetic. The participant is repeatedly provided infix expressions without parentheses like:\n",
    "\n",
    "```\n",
    "1 + 2 * 4 - 3\n",
    "```\n",
    "\n",
    "And equivalent prefix expressions like:\n",
    "\n",
    "```\n",
    "(- (+ 1 (* 2 4)) 3)\n",
    "```\n",
    "\n",
    "Like last experiment, the participant is asked to mentally compute each expressions. The condition is the number of operations in the expression, here 4 and 8. \n",
    "\n",
    "**Hypothesis:** when going from 4 to 8 operations, the average duration should be proportionately higher for prefix than infix due to increased working memory load of tracking computation intermediates."
   ]
  },
  {
   "cell_type": "code",
   "execution_count": 11,
   "metadata": {
    "ExecuteTime": {
     "end_time": "2019-11-04T02:26:41.956457Z",
     "start_time": "2019-11-04T02:26:41.928828Z"
    }
   },
   "outputs": [
    {
     "name": "stdout",
     "output_type": "stream",
     "text": [
      "The autoreload extension is already loaded. To reload it, use:\n",
      "  %reload_ext autoreload\n"
     ]
    }
   ],
   "source": [
    "%load_ext autoreload\n",
    "%autoreload 2"
   ]
  },
  {
   "cell_type": "markdown",
   "metadata": {},
   "source": [
    "# Method\n",
    "\n",
    "The experimental UI is below."
   ]
  },
  {
   "cell_type": "code",
   "execution_count": 380,
   "metadata": {
    "ExecuteTime": {
     "end_time": "2019-11-04T03:30:51.300488Z",
     "start_time": "2019-11-04T03:30:51.031485Z"
    }
   },
   "outputs": [],
   "source": [
    "from IPython.core.display import display, HTML, clear_output\n",
    "from code_diff import Code\n",
    "import ipywidgets as widgets\n",
    "from timeit import default_timer as now\n",
    "import random\n",
    "from random import choice, randint\n",
    "import ast\n",
    "import showast\n",
    "import astor\n",
    "import pandas as pd\n",
    "from scipy.stats import f_oneway\n",
    "from utils import variable_test, fix_test\n",
    "import seaborn as sns\n",
    "import matplotlib.pyplot as plt\n",
    "a2s = astor.to_source"
   ]
  },
  {
   "cell_type": "code",
   "execution_count": 121,
   "metadata": {
    "ExecuteTime": {
     "end_time": "2019-11-04T02:48:46.925383Z",
     "start_time": "2019-11-04T02:48:46.887155Z"
    }
   },
   "outputs": [],
   "source": [
    "class Expr:\n",
    "    def __init__(self, assignments, expr, params):\n",
    "        self.assignments = assignments\n",
    "        self.expr = expr\n",
    "        self.params = params\n",
    "        \n",
    "    def to_string(self):\n",
    "        return '\\n'.join(self.assignments), ' '.join(self.expr)[:-1]\n",
    "    \n",
    "    def _to_infix(self, node):\n",
    "        if isinstance(node, ast.BinOp):\n",
    "            op = node.op\n",
    "            op_str = None\n",
    "            if isinstance(op, ast.Add):\n",
    "                op_str = '+'\n",
    "            elif isinstance(op, ast.Sub):\n",
    "                op_str = '-'\n",
    "            elif isinstance(op, ast.Mult):\n",
    "                op_str = '*'                \n",
    "            (l, r) = self._to_infix(node.left), self._to_infix(node.right)\n",
    "            return f'({op_str} {l} {r})'\n",
    "        elif isinstance(node, ast.Num):\n",
    "            return node.n\n",
    "    \n",
    "    def to_string_infix(self):\n",
    "        ctx, expr = self.to_string()\n",
    "        expr_infix = self._to_infix(ast.parse(expr).body[0].value)\n",
    "        return ctx, expr_infix\n",
    "    \n",
    "    def eval_expr(self):\n",
    "        ctx, expr = self.to_string()\n",
    "        ctx2 = '\\n\\t'.join(ctx.split('\\n'))\n",
    "        exec(f'def p():\\n\\t{ctx2}\\n\\treturn {expr}\\nret = p()', globals())\n",
    "        return ret "
   ]
  },
  {
   "cell_type": "code",
   "execution_count": 297,
   "metadata": {
    "ExecuteTime": {
     "end_time": "2019-11-04T03:21:17.227792Z",
     "start_time": "2019-11-04T03:21:17.194623Z"
    }
   },
   "outputs": [],
   "source": [
    "class ExprGenerator:\n",
    "    def __init__(self, cnst_count, vr_count):\n",
    "        self.vrs = ['x', 'y', 'z', 'w', 'k', 'n', 'a']\n",
    "        self.cnst_count = cnst_count\n",
    "        self.vr_count = vr_count\n",
    "        self.ops = ['+', '-', '*']\n",
    "        \n",
    "    def gen(self, distinct_vrs):\n",
    "        random.shuffle(self.vrs)\n",
    "        vrs = self.vrs[:distinct_vrs]\n",
    "        vr_assgn = [f'{vr} = {randint(1, 8)}' for vr in vrs]        \n",
    "        assert self.vr_count >= distinct_vrs\n",
    "        values = vrs + [choice(vrs) for _ in range(self.vr_count - distinct_vrs)] \\\n",
    "            + [randint(1, 3) for _ in range(self.cnst_count)]\n",
    "        random.shuffle(values)\n",
    "        expr = [f'{v} {choice(self.ops)}' for v in values]\n",
    "        assign_str = '\\n'.join(vr_assgn)\n",
    "        expr_str = ' '.join(expr)[:-1]\n",
    "        return Expr(vr_assgn, expr, \n",
    "                    {'cnst_count': self.cnst_count, 'vr_count': self.vr_count, 'distinct_vrs': distinct_vrs})        "
   ]
  },
  {
   "cell_type": "code",
   "execution_count": 311,
   "metadata": {
    "ExecuteTime": {
     "end_time": "2019-11-04T03:21:43.748325Z",
     "start_time": "2019-11-04T03:21:43.719550Z"
    }
   },
   "outputs": [
    {
     "name": "stdout",
     "output_type": "stream",
     "text": [
      "(- (+ (* 3 3) 2) 1)\n",
      "3 * 3 + 2 - 1 \n"
     ]
    }
   ],
   "source": [
    "expr = ExprGenerator(cnst_count=4, vr_count=0).gen(distinct_vrs=0)\n",
    "print(expr.to_string_infix()[1])\n",
    "print(expr.to_string()[1])"
   ]
  },
  {
   "cell_type": "code",
   "execution_count": 312,
   "metadata": {
    "ExecuteTime": {
     "end_time": "2019-11-04T03:21:45.706448Z",
     "start_time": "2019-11-04T03:21:45.682484Z"
    }
   },
   "outputs": [],
   "source": [
    "fourop_infix_results = []"
   ]
  },
  {
   "cell_type": "code",
   "execution_count": 330,
   "metadata": {
    "ExecuteTime": {
     "end_time": "2019-11-04T03:23:19.823510Z",
     "start_time": "2019-11-04T03:23:19.789131Z"
    }
   },
   "outputs": [],
   "source": [
    "expr_gen = ExprGenerator(cnst_count=4, vr_count=0)\n",
    "expr = expr_gen.gen(distinct_vrs=0)\n",
    "fix_test(expr, fourop_infix_results)"
   ]
  },
  {
   "cell_type": "code",
   "execution_count": 332,
   "metadata": {
    "ExecuteTime": {
     "end_time": "2019-11-04T03:23:29.691351Z",
     "start_time": "2019-11-04T03:23:29.665631Z"
    }
   },
   "outputs": [],
   "source": [
    "fourop_prefix_results = []"
   ]
  },
  {
   "cell_type": "code",
   "execution_count": 345,
   "metadata": {
    "ExecuteTime": {
     "end_time": "2019-11-04T03:24:37.214807Z",
     "start_time": "2019-11-04T03:24:37.178378Z"
    }
   },
   "outputs": [],
   "source": [
    "expr_gen = ExprGenerator(cnst_count=4, vr_count=0)\n",
    "expr = expr_gen.gen(distinct_vrs=0)\n",
    "fix_test(expr, fourop_prefix_results, infix=False)"
   ]
  },
  {
   "cell_type": "code",
   "execution_count": 347,
   "metadata": {
    "ExecuteTime": {
     "end_time": "2019-11-04T03:24:48.215949Z",
     "start_time": "2019-11-04T03:24:48.189131Z"
    }
   },
   "outputs": [],
   "source": [
    "eightop_infix_results = []"
   ]
  },
  {
   "cell_type": "code",
   "execution_count": 360,
   "metadata": {
    "ExecuteTime": {
     "end_time": "2019-11-04T03:26:29.416194Z",
     "start_time": "2019-11-04T03:26:29.386254Z"
    }
   },
   "outputs": [],
   "source": [
    "expr_gen = ExprGenerator(cnst_count=8, vr_count=0)\n",
    "expr = expr_gen.gen(distinct_vrs=0)\n",
    "fix_test(expr, eightop_infix_results)"
   ]
  },
  {
   "cell_type": "code",
   "execution_count": 361,
   "metadata": {
    "ExecuteTime": {
     "end_time": "2019-11-04T03:26:41.425541Z",
     "start_time": "2019-11-04T03:26:41.397872Z"
    }
   },
   "outputs": [],
   "source": [
    "eightop_prefix_results = []"
   ]
  },
  {
   "cell_type": "code",
   "execution_count": 372,
   "metadata": {
    "ExecuteTime": {
     "end_time": "2019-11-04T03:28:56.050665Z",
     "start_time": "2019-11-04T03:28:56.014301Z"
    }
   },
   "outputs": [],
   "source": [
    "expr_gen = ExprGenerator(cnst_count=8, vr_count=0)\n",
    "expr = expr_gen.gen(distinct_vrs=0)\n",
    "fix_test(expr, eightop_prefix_results, infix=False)"
   ]
  },
  {
   "cell_type": "code",
   "execution_count": 373,
   "metadata": {
    "ExecuteTime": {
     "end_time": "2019-11-04T03:29:09.029407Z",
     "start_time": "2019-11-04T03:29:09.001878Z"
    }
   },
   "outputs": [],
   "source": [
    "def to_df(results, key):\n",
    "    rows = [\n",
    "        {'answer': row['answer'], \n",
    "         'guess': int(row['guess'].output), \n",
    "         'duration': row['guess'].duration,\n",
    "         'key': key}\n",
    "        for row in results\n",
    "    ]\n",
    "    for r in rows:\n",
    "        r['correct'] = r['answer'] == r['guess']\n",
    "    return pd.DataFrame(rows)"
   ]
  },
  {
   "cell_type": "markdown",
   "metadata": {},
   "source": [
    "# Results\n",
    "\n",
    "The duration is plotted for each condition, e.g. `4_infix` means 4 operation presented in infix form. Findings:\n",
    "\n",
    "* The average duration for infix increase 2.4x from 4 to 8 operations, while prefix increased 2.8x, suggesting that larger numbers of prefix operations demand proportionately greater mental work than for infix.\n",
    "* Correctness was not meaningfully impacted in the prefix case. In my experience performing the prefix arithmetic, it was generally easy enough to keep the intermediates in my working memory. The hard part was tracking the additional pointer of where I was in the computation, and scanning for the next item to perform. The outliers are instances where I forgot and had to start over."
   ]
  },
  {
   "cell_type": "code",
   "execution_count": 383,
   "metadata": {
    "ExecuteTime": {
     "end_time": "2019-11-04T03:31:30.591118Z",
     "start_time": "2019-11-04T03:31:30.299489Z"
    }
   },
   "outputs": [
    {
     "data": {
      "image/png": "[encoded data removed]",
      "text/plain": [
       "<Figure size 432x288 with 1 Axes>"
      ]
     },
     "metadata": {
      "needs_background": "light"
     },
     "output_type": "display_data"
    }
   ],
   "source": [
    "all_df = pd.concat([\n",
    "    to_df(fourop_prefix_results, '4_prefix'),\n",
    "    to_df(fourop_infix_results, '4_infix'),\n",
    "    to_df(eightop_prefix_results, '8_prefix'),\n",
    "    to_df(eightop_infix_results, '8_infix')\n",
    "])\n",
    "all_df.boxplot('duration', by=['key'])\n",
    "sns.despine()"
   ]
  },
  {
   "cell_type": "code",
   "execution_count": 384,
   "metadata": {
    "ExecuteTime": {
     "end_time": "2019-11-04T03:31:40.899242Z",
     "start_time": "2019-11-04T03:31:40.845762Z"
    }
   },
   "outputs": [
    {
     "data": {
      "text/html": [
       "<div>\n",
       "<style scoped>\n",
       "    .dataframe tbody tr th:only-of-type {\n",
       "        vertical-align: middle;\n",
       "    }\n",
       "\n",
       "    .dataframe tbody tr th {\n",
       "        vertical-align: top;\n",
       "    }\n",
       "\n",
       "    .dataframe thead th {\n",
       "        text-align: right;\n",
       "    }\n",
       "</style>\n",
       "<table border=\"1\" class=\"dataframe\">\n",
       "  <thead>\n",
       "    <tr style=\"text-align: right;\">\n",
       "      <th></th>\n",
       "      <th>answer</th>\n",
       "      <th>guess</th>\n",
       "      <th>duration</th>\n",
       "      <th>correct</th>\n",
       "    </tr>\n",
       "    <tr>\n",
       "      <th>key</th>\n",
       "      <th></th>\n",
       "      <th></th>\n",
       "      <th></th>\n",
       "      <th></th>\n",
       "    </tr>\n",
       "  </thead>\n",
       "  <tbody>\n",
       "    <tr>\n",
       "      <td>4_infix</td>\n",
       "      <td>2.882353</td>\n",
       "      <td>2.882353</td>\n",
       "      <td>3.267388</td>\n",
       "      <td>1.0</td>\n",
       "    </tr>\n",
       "    <tr>\n",
       "      <td>4_prefix</td>\n",
       "      <td>2.307692</td>\n",
       "      <td>2.307692</td>\n",
       "      <td>4.308865</td>\n",
       "      <td>1.0</td>\n",
       "    </tr>\n",
       "    <tr>\n",
       "      <td>8_infix</td>\n",
       "      <td>2.300000</td>\n",
       "      <td>2.200000</td>\n",
       "      <td>7.944593</td>\n",
       "      <td>0.9</td>\n",
       "    </tr>\n",
       "    <tr>\n",
       "      <td>8_prefix</td>\n",
       "      <td>3.800000</td>\n",
       "      <td>3.800000</td>\n",
       "      <td>12.472072</td>\n",
       "      <td>1.0</td>\n",
       "    </tr>\n",
       "  </tbody>\n",
       "</table>\n",
       "</div>"
      ],
      "text/plain": [
       "            answer     guess   duration  correct\n",
       "key                                             \n",
       "4_infix   2.882353  2.882353   3.267388      1.0\n",
       "4_prefix  2.307692  2.307692   4.308865      1.0\n",
       "8_infix   2.300000  2.200000   7.944593      0.9\n",
       "8_prefix  3.800000  3.800000  12.472072      1.0"
      ]
     },
     "execution_count": 384,
     "metadata": {},
     "output_type": "execute_result"
    }
   ],
   "source": [
    "all_df.groupby('key').mean()"
   ]
  }
 ],
 "metadata": {
  "kernelspec": {
   "display_name": "Python 3",
   "language": "python",
   "name": "python3"
  },
  "language_info": {
   "codemirror_mode": {
    "name": "ipython",
    "version": 3
   },
   "file_extension": ".py",
   "mimetype": "text/x-python",
   "name": "python",
   "nbconvert_exporter": "python",
   "pygments_lexer": "ipython3",
   "version": "3.7.3"
  },
  "toc": {
   "base_numbering": 1,
   "nav_menu": {},
   "number_sections": true,
   "sideBar": true,
   "skip_h1_title": false,
   "title_cell": "Table of Contents",
   "title_sidebar": "Contents",
   "toc_cell": false,
   "toc_position": {},
   "toc_section_display": true,
   "toc_window_display": false
  },
  "varInspector": {
   "cols": {
    "lenName": 16,
    "lenType": 16,
    "lenVar": 40
   },
   "kernels_config": {
    "python": {
     "delete_cmd_postfix": "",
     "delete_cmd_prefix": "del ",
     "library": "var_list.py",
     "varRefreshCmd": "print(var_dic_list())"
    },
    "r": {
     "delete_cmd_postfix": ") ",
     "delete_cmd_prefix": "rm(",
     "library": "var_list.r",
     "varRefreshCmd": "cat(var_dic_list()) "
    }
   },
   "types_to_exclude": [
    "module",
    "function",
    "builtin_function_or_method",
    "instance",
    "_Feature"
   ],
   "window_display": false
  }
 },
 "nbformat": 4,
 "nbformat_minor": 2
}
