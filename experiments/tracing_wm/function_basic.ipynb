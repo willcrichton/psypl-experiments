{
 "cells": [
  {
   "cell_type": "code",
   "execution_count": 2,
   "metadata": {
    "ExecuteTime": {
     "end_time": "2020-06-12T19:03:42.390111Z",
     "start_time": "2020-06-12T19:03:42.372636Z"
    }
   },
   "outputs": [],
   "source": [
    "%load_ext autoreload\n",
    "%autoreload 2"
   ]
  },
  {
   "cell_type": "code",
   "execution_count": 3,
   "metadata": {
    "ExecuteTime": {
     "end_time": "2020-06-12T19:03:44.255211Z",
     "start_time": "2020-06-12T19:03:43.214664Z"
    }
   },
   "outputs": [],
   "source": [
    "from utils import FunctionBasicExperiment\n",
    "import seaborn as sns"
   ]
  },
  {
   "cell_type": "code",
   "execution_count": 4,
   "metadata": {
    "ExecuteTime": {
     "end_time": "2020-06-12T19:03:44.340382Z",
     "start_time": "2020-06-12T19:03:44.315061Z"
    }
   },
   "outputs": [],
   "source": [
    "exp = FunctionBasicExperiment()"
   ]
  },
  {
   "cell_type": "code",
   "execution_count": 31,
   "metadata": {
    "ExecuteTime": {
     "end_time": "2020-06-16T21:32:24.239710Z",
     "start_time": "2020-06-16T21:32:24.196783Z"
    }
   },
   "outputs": [
    {
     "data": {
      "application/vnd.jupyter.widget-view+json": {
       "model_id": "758519d140e9480ea62cbc5fe1b72774",
       "version_major": 2,
       "version_minor": 0
      },
      "text/plain": [
       "FunctionBasicExperiment(experiment='{\"trials\": [{\"program\": \"def u(f,e):\\\\n    return e + f\\\\ndef k():\\\\n    r…"
      ]
     },
     "metadata": {},
     "output_type": "display_data"
    }
   ],
   "source": [
    "exp.run_experiment(participant='will', N_var=4, N_trials=40)"
   ]
  },
  {
   "cell_type": "code",
   "execution_count": 134,
   "metadata": {
    "ExecuteTime": {
     "end_time": "2020-06-05T19:20:19.807953Z",
     "start_time": "2020-06-05T19:20:19.770315Z"
    }
   },
   "outputs": [],
   "source": [
    "# from utils import pcache\n",
    "# raw_old_data = [\n",
    "#     pcache.get(exp.exp_name(N_var=n, N_trials=30, participant='will'))\n",
    "#     for n in exp.all_exp\n",
    "# ]\n",
    "\n",
    "# pcache.set('function_basic_raw_old', raw_old_data)"
   ]
  },
  {
   "cell_type": "code",
   "execution_count": 29,
   "metadata": {
    "ExecuteTime": {
     "end_time": "2020-06-12T22:46:36.740730Z",
     "start_time": "2020-06-12T22:46:36.147801Z"
    }
   },
   "outputs": [
    {
     "data": {
      "text/plain": [
       "<matplotlib.axes._subplots.AxesSubplot at 0x13002d690>"
      ]
     },
     "execution_count": 29,
     "metadata": {},
     "output_type": "execute_result"
    },
    {
     "data": {
      "image/png": "[encoded data removed]",
      "text/plain": [
       "<Figure size 432x288 with 1 Axes>"
      ]
     },
     "metadata": {},
     "output_type": "display_data"
    }
   ],
   "source": [
    "from numpy import median\n",
    "sns.barplot(\n",
    "    data=exp.results(), x='N_var', y='response_time', hue='condition', estimator=median,\n",
    "    hue_order=[str(c).split('.')[1] for c in exp.Condition])"
   ]
  },
  {
   "cell_type": "code",
   "execution_count": 97,
   "metadata": {
    "ExecuteTime": {
     "end_time": "2020-06-05T01:54:09.001689Z",
     "start_time": "2020-06-05T01:54:08.960917Z"
    }
   },
   "outputs": [
    {
     "data": {
      "text/plain": [
       "N_var  with_functions\n",
       "2      False              5703\n",
       "       True               7233\n",
       "3      False             11273\n",
       "       True              18890\n",
       "4      False             20278\n",
       "       True              32228\n",
       "Name: response_time, dtype: int64"
      ]
     },
     "execution_count": 97,
     "metadata": {},
     "output_type": "execute_result"
    }
   ],
   "source": [
    "med = exp.results().groupby(['N_var', 'with_functions']).response_time.median()\n",
    "med"
   ]
  },
  {
   "cell_type": "code",
   "execution_count": 117,
   "metadata": {
    "ExecuteTime": {
     "end_time": "2020-06-05T18:29:59.776957Z",
     "start_time": "2020-06-05T18:29:59.729355Z"
    }
   },
   "outputs": [
    {
     "name": "stdout",
     "output_type": "stream",
     "text": [
      "1530\n",
      "7617\n",
      "11950\n"
     ]
    }
   ],
   "source": [
    "med2 = med.reset_index()\n",
    "def rt(df, wf):\n",
    "    return df[df.with_functions == wf].iloc[0].response_time\n",
    "\n",
    "for N_var in exp.all_exp:\n",
    "    df = med2[med2.N_var == N_var]\n",
    "    print(rt(df, True) - rt(df, False))"
   ]
  },
  {
   "cell_type": "code",
   "execution_count": 120,
   "metadata": {
    "ExecuteTime": {
     "end_time": "2020-06-05T18:30:52.683164Z",
     "start_time": "2020-06-05T18:30:52.642439Z"
    }
   },
   "outputs": [
    {
     "name": "stdout",
     "output_type": "stream",
     "text": [
      "wf 2.6116410894511266\n",
      "no 1.9766789409082939\n",
      "wf 1.7060878771836951\n",
      "no 1.79881131908099\n"
     ]
    }
   ],
   "source": [
    "for i, N_var in enumerate(exp.all_exp[1:]):\n",
    "    cur = med2[med2.N_var == N_var]\n",
    "    prev = med2[med2.N_var == exp.all_exp[i]]\n",
    "    print('wf', rt(cur, True) / rt(prev, True))\n",
    "    print('no', rt(cur, False) / rt(prev, False))"
   ]
  },
  {
   "cell_type": "code",
   "execution_count": 85,
   "metadata": {
    "ExecuteTime": {
     "end_time": "2020-06-05T01:49:45.849725Z",
     "start_time": "2020-06-05T01:49:45.800499Z"
    }
   },
   "outputs": [
    {
     "data": {
      "text/plain": [
       "N_var  with_functions\n",
       "2      False             1.000000\n",
       "       True              1.000000\n",
       "3      False             1.000000\n",
       "       True              0.866667\n",
       "4      False             0.933333\n",
       "       True              0.800000\n",
       "Name: correct, dtype: float64"
      ]
     },
     "execution_count": 85,
     "metadata": {},
     "output_type": "execute_result"
    }
   ],
   "source": [
    "exp.results().groupby(['N_var', 'with_functions']).correct.mean()"
   ]
  }
 ],
 "metadata": {
  "kernelspec": {
   "display_name": "Python 3",
   "language": "python",
   "name": "python3"
  },
  "language_info": {
   "codemirror_mode": {
    "name": "ipython",
    "version": 3
   },
   "file_extension": ".py",
   "mimetype": "text/x-python",
   "name": "python",
   "nbconvert_exporter": "python",
   "pygments_lexer": "ipython3",
   "version": "3.7.7"
  },
  "toc": {
   "base_numbering": 1,
   "nav_menu": {},
   "number_sections": true,
   "sideBar": true,
   "skip_h1_title": false,
   "title_cell": "Table of Contents",
   "title_sidebar": "Contents",
   "toc_cell": false,
   "toc_position": {},
   "toc_section_display": true,
   "toc_window_display": false
  },
  "varInspector": {
   "cols": {
    "lenName": 16,
    "lenType": 16,
    "lenVar": 40
   },
   "kernels_config": {
    "python": {
     "delete_cmd_postfix": "",
     "delete_cmd_prefix": "del ",
     "library": "var_list.py",
     "varRefreshCmd": "print(var_dic_list())"
    },
    "r": {
     "delete_cmd_postfix": ") ",
     "delete_cmd_prefix": "rm(",
     "library": "var_list.r",
     "varRefreshCmd": "cat(var_dic_list()) "
    }
   },
   "types_to_exclude": [
    "module",
    "function",
    "builtin_function_or_method",
    "instance",
    "_Feature"
   ],
   "window_display": false
  }
 },
 "nbformat": 4,
 "nbformat_minor": 4
}
