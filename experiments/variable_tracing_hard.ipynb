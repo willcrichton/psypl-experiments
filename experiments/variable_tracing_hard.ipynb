{
 "cells": [
  {
   "cell_type": "code",
   "execution_count": 2,
   "metadata": {
    "ExecuteTime": {
     "end_time": "2020-05-06T18:31:11.749875Z",
     "start_time": "2020-05-06T18:31:11.723068Z"
    }
   },
   "outputs": [],
   "source": [
    "%load_ext autoreload\n",
    "%autoreload 2"
   ]
  },
  {
   "cell_type": "code",
   "execution_count": 3,
   "metadata": {
    "ExecuteTime": {
     "end_time": "2020-05-06T18:31:14.013464Z",
     "start_time": "2020-05-06T18:31:11.752819Z"
    }
   },
   "outputs": [],
   "source": [
    "from model import *\n",
    "from pickle_cache import PickleCache\n",
    "import pandas as pd\n",
    "from experiment_widgets import VariableTracingHardExperiment\n",
    "import json\n",
    "from random import sample, randint, choices\n",
    "import string\n",
    "import matplotlib.pyplot as plt \n",
    "from tqdm.auto import tqdm\n",
    "import seaborn as sns\n",
    "import torch.distributions.constraints as constraints\n",
    "\n",
    "sns.set()\n",
    "\n",
    "pcache = PickleCache()"
   ]
  },
  {
   "cell_type": "code",
   "execution_count": 4,
   "metadata": {
    "ExecuteTime": {
     "end_time": "2020-05-06T18:31:14.058679Z",
     "start_time": "2020-05-06T18:31:14.016476Z"
    }
   },
   "outputs": [],
   "source": [
    "all_names = set(string.ascii_lowercase) - set(['l'])\n",
    "all_operators = ['+', '-']\n",
    "\n",
    "def generate_trial(N):\n",
    "    names = sample(all_names, k=N)\n",
    "\n",
    "    prog = ''\n",
    "    for i in range(N):\n",
    "        op = choice(all_operators)\n",
    "        \n",
    "        def gen_operand():\n",
    "            if i > 0 and flip(p=0.5):\n",
    "                return choice(names[:i])\n",
    "            else:\n",
    "                return randint(1, 9)\n",
    "        \n",
    "        left = gen_operand()\n",
    "        right = gen_operand()\n",
    "        prog += f'{names[i]} = {left} {op} {right}\\n'\n",
    "\n",
    "    expr_var_order = sample(names, k=len(names))\n",
    "    operators = choices(all_operators, k=N-1)\n",
    "    expr_list = []\n",
    "    for i in range(N):\n",
    "        if i > 0:\n",
    "            op = operators[i-1]\n",
    "            expr_list.append(op)\n",
    "        expr_list.append(expr_var_order[i])\n",
    "    expr = ' '.join(expr_list)\n",
    "    \n",
    "    locls = {}\n",
    "    exec(prog, locls, locls)\n",
    "    value = eval(expr, locls, locls)\n",
    "    \n",
    "    return {\n",
    "        'prog': prog + expr,\n",
    "        'value': value\n",
    "    }\n",
    "\n",
    "def exp_name(N_var, N_trials):\n",
    "    return f'vartracehard_{N_var}_{N_trials}'"
   ]
  },
  {
   "cell_type": "code",
   "execution_count": 5,
   "metadata": {
    "ExecuteTime": {
     "end_time": "2020-05-06T18:31:14.129473Z",
     "start_time": "2020-05-06T18:31:14.062316Z"
    }
   },
   "outputs": [
    {
     "data": {
      "application/vnd.jupyter.widget-view+json": {
       "model_id": "68aad1189066441fbcb592c7e5f68738",
       "version_major": 2,
       "version_minor": 0
      },
      "text/plain": [
       "VariableTracingHardExperiment(experiment='{\"trials\": [{\"prog\": \"m = 3 - 9\\\\nq = 8 - m\\\\nj = 3 + m\\\\nk = q - m\\…"
      ]
     },
     "metadata": {},
     "output_type": "display_data"
    }
   ],
   "source": [
    "N_var = 5\n",
    "N_trials = 10\n",
    "\n",
    "experiment = {\n",
    "    'trials': [generate_trial(N_var) for _ in range(N_trials)],\n",
    "    'between_trials_time': 1000\n",
    "}\n",
    "\n",
    "exp = VariableTracingHardExperiment(experiment=json.dumps(experiment), results='[]')\n",
    "\n",
    "def on_result_change(_):\n",
    "    pcache.set(exp_name(N_var, N_trials), {\n",
    "        'experiment': experiment,\n",
    "        'results': json.loads(exp.results)\n",
    "    })\n",
    "    \n",
    "#exp.observe(on_result_change)\n",
    "\n",
    "exp"
   ]
  },
  {
   "cell_type": "code",
   "execution_count": 6,
   "metadata": {
    "ExecuteTime": {
     "end_time": "2020-05-06T18:31:14.181043Z",
     "start_time": "2020-05-06T18:31:14.132259Z"
    }
   },
   "outputs": [],
   "source": [
    "def process_results(N_var, N_trials):\n",
    "    data = pcache.get(exp_name(N_var, N_trials))\n",
    "    experiment = data['experiment']\n",
    "    results = data['results']\n",
    "    \n",
    "    df = []\n",
    "    for (trial, result) in zip(experiment['trials'], results):\n",
    "        try:\n",
    "            response = int(result['response'])\n",
    "        except ValueError:\n",
    "            response = -1000\n",
    "                   \n",
    "        correct = trial['value'] == response\n",
    "        df.append({\n",
    "            'N_var': N_var,\n",
    "            'correct': correct,\n",
    "            'response_time': result['response_time']/1000.,\n",
    "            'type': 'actual'\n",
    "        })\n",
    "    return pd.DataFrame(df)\n",
    "\n",
    "#process_results(N_var, N_trials)"
   ]
  },
  {
   "cell_type": "code",
   "execution_count": 7,
   "metadata": {
    "ExecuteTime": {
     "end_time": "2020-05-06T18:31:14.244601Z",
     "start_time": "2020-05-06T18:31:14.183834Z"
    }
   },
   "outputs": [],
   "source": [
    "all_exp = [2, 3, 4]\n",
    "results = pd.concat([process_results(N_var, 10) for N_var in all_exp])"
   ]
  },
  {
   "cell_type": "code",
   "execution_count": 8,
   "metadata": {
    "ExecuteTime": {
     "end_time": "2020-05-06T18:31:14.519426Z",
     "start_time": "2020-05-06T18:31:14.246812Z"
    }
   },
   "outputs": [
    {
     "data": {
      "text/plain": [
       "Text(0, 0.5, 'Response time (s)')"
      ]
     },
     "execution_count": 8,
     "metadata": {},
     "output_type": "execute_result"
    },
    {
     "data": {
      "image/png": "[encoded data removed]",
      "text/plain": [
       "<Figure size 432x288 with 1 Axes>"
      ]
     },
     "metadata": {},
     "output_type": "display_data"
    }
   ],
   "source": [
    "ax = sns.swarmplot(data=results, x='N_var', y='response_time')\n",
    "ax.set_ylabel('Response time (s)')"
   ]
  },
  {
   "cell_type": "code",
   "execution_count": 9,
   "metadata": {
    "ExecuteTime": {
     "end_time": "2020-05-06T18:31:14.580520Z",
     "start_time": "2020-05-06T18:31:14.524028Z"
    }
   },
   "outputs": [
    {
     "data": {
      "text/html": [
       "<div>\n",
       "<style scoped>\n",
       "    .dataframe tbody tr th:only-of-type {\n",
       "        vertical-align: middle;\n",
       "    }\n",
       "\n",
       "    .dataframe tbody tr th {\n",
       "        vertical-align: top;\n",
       "    }\n",
       "\n",
       "    .dataframe thead th {\n",
       "        text-align: right;\n",
       "    }\n",
       "</style>\n",
       "<table border=\"1\" class=\"dataframe\">\n",
       "  <thead>\n",
       "    <tr style=\"text-align: right;\">\n",
       "      <th></th>\n",
       "      <th>correct</th>\n",
       "      <th>response_time</th>\n",
       "    </tr>\n",
       "    <tr>\n",
       "      <th>N_var</th>\n",
       "      <th></th>\n",
       "      <th></th>\n",
       "    </tr>\n",
       "  </thead>\n",
       "  <tbody>\n",
       "    <tr>\n",
       "      <th>2</th>\n",
       "      <td>0.9</td>\n",
       "      <td>6.1556</td>\n",
       "    </tr>\n",
       "    <tr>\n",
       "      <th>3</th>\n",
       "      <td>0.7</td>\n",
       "      <td>15.1802</td>\n",
       "    </tr>\n",
       "    <tr>\n",
       "      <th>4</th>\n",
       "      <td>0.5</td>\n",
       "      <td>41.6293</td>\n",
       "    </tr>\n",
       "  </tbody>\n",
       "</table>\n",
       "</div>"
      ],
      "text/plain": [
       "       correct  response_time\n",
       "N_var                        \n",
       "2          0.9         6.1556\n",
       "3          0.7        15.1802\n",
       "4          0.5        41.6293"
      ]
     },
     "execution_count": 9,
     "metadata": {},
     "output_type": "execute_result"
    }
   ],
   "source": [
    "results.groupby('N_var').mean()"
   ]
  },
  {
   "cell_type": "code",
   "execution_count": 10,
   "metadata": {
    "ExecuteTime": {
     "end_time": "2020-05-06T18:31:14.815492Z",
     "start_time": "2020-05-06T18:31:14.584502Z"
    }
   },
   "outputs": [
    {
     "data": {
      "text/plain": [
       "<matplotlib.axes._subplots.AxesSubplot at 0x130422d10>"
      ]
     },
     "execution_count": 10,
     "metadata": {},
     "output_type": "execute_result"
    },
    {
     "data": {
      "image/png": "[encoded data removed]",
      "text/plain": [
       "<Figure size 432x288 with 1 Axes>"
      ]
     },
     "metadata": {},
     "output_type": "display_data"
    }
   ],
   "source": [
    "results.groupby('N_var').sum().plot.bar(y='correct')"
   ]
  },
  {
   "cell_type": "code",
   "execution_count": 11,
   "metadata": {
    "ExecuteTime": {
     "end_time": "2020-05-06T18:31:19.965201Z",
     "start_time": "2020-05-06T18:31:14.817466Z"
    }
   },
   "outputs": [
    {
     "data": {
      "application/vnd.jupyter.widget-view+json": {
       "model_id": "843ab538203b402f9f58858b6faa3b54",
       "version_major": 2,
       "version_minor": 0
      },
      "text/plain": [
       "HBox(children=(FloatProgress(value=0.0, max=3.0), HTML(value='')))"
      ]
     },
     "metadata": {},
     "output_type": "display_data"
    },
    {
     "name": "stdout",
     "output_type": "stream",
     "text": [
      "\n"
     ]
    },
    {
     "data": {
      "text/html": [
       "<div>\n",
       "<style scoped>\n",
       "    .dataframe tbody tr th:only-of-type {\n",
       "        vertical-align: middle;\n",
       "    }\n",
       "\n",
       "    .dataframe tbody tr th {\n",
       "        vertical-align: top;\n",
       "    }\n",
       "\n",
       "    .dataframe thead th {\n",
       "        text-align: right;\n",
       "    }\n",
       "</style>\n",
       "<table border=\"1\" class=\"dataframe\">\n",
       "  <thead>\n",
       "    <tr style=\"text-align: right;\">\n",
       "      <th></th>\n",
       "      <th>response_time</th>\n",
       "    </tr>\n",
       "    <tr>\n",
       "      <th>N_var</th>\n",
       "      <th></th>\n",
       "    </tr>\n",
       "  </thead>\n",
       "  <tbody>\n",
       "    <tr>\n",
       "      <th>2</th>\n",
       "      <td>9.540588</td>\n",
       "    </tr>\n",
       "    <tr>\n",
       "      <th>3</th>\n",
       "      <td>19.239950</td>\n",
       "    </tr>\n",
       "    <tr>\n",
       "      <th>4</th>\n",
       "      <td>38.097946</td>\n",
       "    </tr>\n",
       "  </tbody>\n",
       "</table>\n",
       "</div>"
      ],
      "text/plain": [
       "       response_time\n",
       "N_var               \n",
       "2           9.540588\n",
       "3          19.239950\n",
       "4          38.097946"
      ]
     },
     "execution_count": 11,
     "metadata": {},
     "output_type": "execute_result"
    }
   ],
   "source": [
    "results_sim = []\n",
    "for N_var in tqdm(all_exp):\n",
    "    data = pcache.get(exp_name(N_var, N_trials))\n",
    "    for trial in data['experiment']['trials']:\n",
    "        for _ in range(10):\n",
    "            response_time = model(trial['prog'])\n",
    "            results_sim.append({\n",
    "                'response_time': response_time.item(),\n",
    "                'N_var': N_var,\n",
    "                'type': 'simulated'\n",
    "            })\n",
    "        \n",
    "results_sim = pd.DataFrame(results_sim)\n",
    "results_sim.groupby('N_var').mean()"
   ]
  },
  {
   "cell_type": "code",
   "execution_count": 12,
   "metadata": {
    "ExecuteTime": {
     "end_time": "2020-05-06T18:31:20.735657Z",
     "start_time": "2020-05-06T18:31:19.967371Z"
    }
   },
   "outputs": [
    {
     "data": {
      "image/png": "[encoded data removed]",
      "text/plain": [
       "<Figure size 432x288 with 1 Axes>"
      ]
     },
     "metadata": {},
     "output_type": "display_data"
    }
   ],
   "source": [
    "results_all = pd.concat([results_sim, results])\n",
    "ax = sns.boxplot(data=results_all, x='N_var', y='response_time', hue='type')\n",
    "ax.set_ylabel('Response time (s)')\n",
    "plt.tight_layout()\n",
    "plt.savefig('variable_tracing_hard.png', dpi=300)"
   ]
  }
 ],
 "metadata": {
  "kernelspec": {
   "display_name": "Python 3",
   "language": "python",
   "name": "python3"
  },
  "language_info": {
   "codemirror_mode": {
    "name": "ipython",
    "version": 3
   },
   "file_extension": ".py",
   "mimetype": "text/x-python",
   "name": "python",
   "nbconvert_exporter": "python",
   "pygments_lexer": "ipython3",
   "version": "3.7.7"
  },
  "toc": {
   "base_numbering": 1,
   "nav_menu": {},
   "number_sections": true,
   "sideBar": true,
   "skip_h1_title": false,
   "title_cell": "Table of Contents",
   "title_sidebar": "Contents",
   "toc_cell": false,
   "toc_position": {},
   "toc_section_display": true,
   "toc_window_display": false
  },
  "varInspector": {
   "cols": {
    "lenName": 16,
    "lenType": 16,
    "lenVar": 40
   },
   "kernels_config": {
    "python": {
     "delete_cmd_postfix": "",
     "delete_cmd_prefix": "del ",
     "library": "var_list.py",
     "varRefreshCmd": "print(var_dic_list())"
    },
    "r": {
     "delete_cmd_postfix": ") ",
     "delete_cmd_prefix": "rm(",
     "library": "var_list.r",
     "varRefreshCmd": "cat(var_dic_list()) "
    }
   },
   "types_to_exclude": [
    "module",
    "function",
    "builtin_function_or_method",
    "instance",
    "_Feature"
   ],
   "window_display": false
  }
 },
 "nbformat": 4,
 "nbformat_minor": 4
}
